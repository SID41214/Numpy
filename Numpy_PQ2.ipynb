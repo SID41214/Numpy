{
  "nbformat": 4,
  "nbformat_minor": 0,
  "metadata": {
    "colab": {
      "provenance": []
    },
    "kernelspec": {
      "name": "python3",
      "display_name": "Python 3"
    },
    "language_info": {
      "name": "python"
    }
  },
  "cells": [
    {
      "cell_type": "markdown",
      "source": [
        "1.\tCreate a NumPy array and make a copy of it. Modify the original array and print both the original and copied arrays."
      ],
      "metadata": {
        "id": "6NZpb8T813lb"
      }
    },
    {
      "cell_type": "code",
      "execution_count": null,
      "metadata": {
        "colab": {
          "base_uri": "https://localhost:8080/"
        },
        "id": "x8Bl996IqDXA",
        "outputId": "b1a26086-2be9-4b92-95ea-c7d637321677"
      },
      "outputs": [
        {
          "output_type": "stream",
          "name": "stdout",
          "text": [
            " Modified Original array: [99  2  3  4  5]\n",
            "Copied array: [1 2 3 4 5]\n"
          ]
        }
      ],
      "source": [
        "import numpy as np\n",
        "\n",
        "arr = np.array([1, 2, 3, 4, 5])\n",
        "arr_copy = arr.copy()\n",
        "\n",
        "arr[0] = 99\n",
        "\n",
        "print(\" Modified Original array:\", arr)\n",
        "print(\"Copied array:\", arr_copy)\n"
      ]
    },
    {
      "cell_type": "markdown",
      "source": [
        "2.\tCreate a view of a NumPy array. Modify the view and print both the original and the view. How do the results compare to using a copy?"
      ],
      "metadata": {
        "id": "nQX2KfWK2Iq5"
      }
    },
    {
      "cell_type": "code",
      "source": [
        "arr = np.array([1, 2, 3, 4, 5])\n",
        "arr_view = arr.view()\n",
        "\n",
        "arr_view[1] = 99\n",
        "\n",
        "print(\"Original array:\", arr)\n",
        "print(\"View of array:\", arr_view)\n"
      ],
      "metadata": {
        "colab": {
          "base_uri": "https://localhost:8080/"
        },
        "id": "HR3pIYaT2Mt8",
        "outputId": "0c08f842-5256-4f90-fa14-30c90783ef52"
      },
      "execution_count": null,
      "outputs": [
        {
          "output_type": "stream",
          "name": "stdout",
          "text": [
            "Original array: [ 1 99  3  4  5]\n",
            "View of array: [ 1 99  3  4  5]\n"
          ]
        }
      ]
    },
    {
      "cell_type": "markdown",
      "source": [
        "3.\tExplain the difference between array.copy() and array.view() in NumPy. Provide an example to illustrate the difference."
      ],
      "metadata": {
        "id": "R3YqTV172r_G"
      }
    },
    {
      "cell_type": "code",
      "source": [
        "arr = np.array([1, 2, 3, 4, 5])\n",
        "arr_copy = arr.copy()\n",
        "arr_view = arr.view()\n",
        "\n",
        "arr[2] = 99\n",
        "\n",
        "print(\"Original array:\", arr)\n",
        "print(\"Copied array:\", arr_copy)  # Independent\n",
        "print(\"View of array:\", arr_view)  # Reflects changes in the original\n"
      ],
      "metadata": {
        "colab": {
          "base_uri": "https://localhost:8080/"
        },
        "id": "402vnBUw2xWw",
        "outputId": "b861dd00-a4bf-41f6-b1e8-943f307523d1"
      },
      "execution_count": null,
      "outputs": [
        {
          "output_type": "stream",
          "name": "stdout",
          "text": [
            "Original array: [ 1  2 99  4  5]\n",
            "Copied array: [1 2 3 4 5]\n",
            "View of array: [ 1  2 99  4  5]\n"
          ]
        }
      ]
    },
    {
      "cell_type": "markdown",
      "source": [
        "4.\tCreate a 2D NumPy array and generate a view that represents only the first row. Modify this view and print the changes in both the original array and the view"
      ],
      "metadata": {
        "id": "Gbyn4vY220xU"
      }
    },
    {
      "cell_type": "code",
      "source": [
        "arr = np.array([[1, 2, 3], [4, 5, 6]])\n",
        "row_view = arr[0, :]\n",
        "\n",
        "row_view[1] = 99\n",
        "\n",
        "print(\"Original array:\\n\", arr)\n",
        "print(\"Row view:\", row_view)\n"
      ],
      "metadata": {
        "colab": {
          "base_uri": "https://localhost:8080/"
        },
        "id": "-NNsVFS623R-",
        "outputId": "6bcb4fdb-6c28-40bf-acf8-9d9b0ecaf9bd"
      },
      "execution_count": null,
      "outputs": [
        {
          "output_type": "stream",
          "name": "stdout",
          "text": [
            "Original array:\n",
            " [[ 1 99  3]\n",
            " [ 4  5  6]]\n",
            "Row view: [ 1 99  3]\n"
          ]
        }
      ]
    },
    {
      "cell_type": "markdown",
      "source": [
        "5.\tCreate a NumPy array and another array by slicing the first array. Check whether the second array is a copy or a view of the first array."
      ],
      "metadata": {
        "id": "xo7mimfo3BXJ"
      }
    },
    {
      "cell_type": "code",
      "source": [
        "arr = np.array([1, 2, 3, 4, 5])\n",
        "sliced_arr = arr[1:4]\n",
        "\n",
        "print(arr)\n",
        "print(sliced_arr)\n",
        "print(\"-----------------------------------\")\n",
        "print(sliced_arr.base)\n",
        "print(arr.base)\n",
        "\n"
      ],
      "metadata": {
        "colab": {
          "base_uri": "https://localhost:8080/"
        },
        "id": "y_LbTm2L3EDl",
        "outputId": "368b2d21-da08-41a4-f0d5-3a7b0fbb72e3"
      },
      "execution_count": null,
      "outputs": [
        {
          "output_type": "stream",
          "name": "stdout",
          "text": [
            "[1 2 3 4 5]\n",
            "[2 3 4]\n",
            "-----------------------------------\n",
            "[1 2 3 4 5]\n",
            "None\n"
          ]
        }
      ]
    },
    {
      "cell_type": "markdown",
      "source": [
        "6.\tUse the np.may_share_memory() function to check if two arrays share the same memory. Provide an example."
      ],
      "metadata": {
        "id": "QIqM8ULo4jHY"
      }
    },
    {
      "cell_type": "code",
      "source": [
        "arr1 = np.array([1, 2, 3])\n",
        "arr2 = arr1.view()\n",
        "\n",
        "print(np.may_share_memory(arr1, arr2))\n",
        "# may_share_memory returns True as they share memory."
      ],
      "metadata": {
        "colab": {
          "base_uri": "https://localhost:8080/"
        },
        "id": "e0n-YrLW4qMJ",
        "outputId": "33585beb-f762-4f0d-d6a2-734c4a6b0fb3"
      },
      "execution_count": null,
      "outputs": [
        {
          "output_type": "stream",
          "name": "stdout",
          "text": [
            "True\n"
          ]
        }
      ]
    },
    {
      "cell_type": "markdown",
      "source": [
        "7.\tCreate a NumPy array, then use the reshape() function on it. Check whether the reshaped array is a view or a copy."
      ],
      "metadata": {
        "id": "uLt_iq8v4x3l"
      }
    },
    {
      "cell_type": "code",
      "source": [
        "arr = np.array([1, 2, 3, 4, 5, 6])\n",
        "reshaped_arr = arr.reshape(2, 3)\n",
        "\n",
        "print(np.shares_memory(arr, reshaped_arr))\n",
        "# Reshaping creates a view, so shares_memory returns True.\n",
        "# Or use base\n",
        "\n",
        "print(reshaped_arr.base)\n"
      ],
      "metadata": {
        "colab": {
          "base_uri": "https://localhost:8080/"
        },
        "id": "PtiRbjh74vPY",
        "outputId": "8842359c-dd19-4f78-8416-d69b0428a765"
      },
      "execution_count": null,
      "outputs": [
        {
          "output_type": "stream",
          "name": "stdout",
          "text": [
            "True\n",
            "[1 2 3 4 5 6]\n"
          ]
        }
      ]
    },
    {
      "cell_type": "markdown",
      "source": [
        "8.\tCreate a NumPy array and print its shape. Then reshape it to another valid shape and print the new shape."
      ],
      "metadata": {
        "id": "bCb5UPc0oKqX"
      }
    },
    {
      "cell_type": "code",
      "source": [
        "arr = np.array([1, 2, 3, 4, 5, 6])\n",
        "print(\"Original shape:\", arr.shape)\n",
        "\n",
        "reshaped_arr = arr.reshape(2, 3)\n",
        "print(\"New shape:\", reshaped_arr.shape)\n"
      ],
      "metadata": {
        "colab": {
          "base_uri": "https://localhost:8080/"
        },
        "id": "rGdi55yJoLqx",
        "outputId": "0ddcd2f9-7d69-443f-ba0c-eec3f5141a75"
      },
      "execution_count": null,
      "outputs": [
        {
          "output_type": "stream",
          "name": "stdout",
          "text": [
            "Original shape: (6,)\n",
            "New shape: (2, 3)\n"
          ]
        }
      ]
    },
    {
      "cell_type": "markdown",
      "source": [
        "9.\tGiven a 1D array of length 12, reshape it into a 2D array with 3 rows. Then, reshape it into a 3D array. Print the shapes at each step."
      ],
      "metadata": {
        "id": "eNBvsNW5qsxH"
      }
    },
    {
      "cell_type": "code",
      "source": [
        "arr = np.arange(12)\n",
        "arr_2d = arr.reshape(3, 4)\n",
        "arr_3d = arr.reshape(2, 3, 2)\n",
        "\n",
        "print(\"2D shape:\", arr_2d.shape)\n",
        "print(\"3D shape:\", arr_3d.shape)\n"
      ],
      "metadata": {
        "colab": {
          "base_uri": "https://localhost:8080/"
        },
        "id": "gLza3Bxwqtj2",
        "outputId": "93b4b5b1-7faa-401f-e6f6-1c074c8fc78a"
      },
      "execution_count": null,
      "outputs": [
        {
          "output_type": "stream",
          "name": "stdout",
          "text": [
            "2D shape: (3, 4)\n",
            "3D shape: (2, 3, 2)\n"
          ]
        }
      ]
    },
    {
      "cell_type": "markdown",
      "source": [
        "10.\tCreate a 3x4 matrix and then reshape it into a 2x6 matrix. Verify if reshaping changes the data content."
      ],
      "metadata": {
        "id": "RAT7-QsdrEx7"
      }
    },
    {
      "cell_type": "code",
      "source": [
        "arr = np.arange(12).reshape(3, 4)\n",
        "reshaped_arr = arr.reshape(2, 6)\n",
        "print(arr)\n",
        "print(\"Reshaped array:\\n\", reshaped_arr)\n"
      ],
      "metadata": {
        "colab": {
          "base_uri": "https://localhost:8080/"
        },
        "id": "sniStY_8rFUh",
        "outputId": "66cb7372-3e77-464b-ffc6-e42edb9eafff"
      },
      "execution_count": null,
      "outputs": [
        {
          "output_type": "stream",
          "name": "stdout",
          "text": [
            "[[ 0  1  2  3]\n",
            " [ 4  5  6  7]\n",
            " [ 8  9 10 11]]\n",
            "Reshaped array:\n",
            " [[ 0  1  2  3  4  5]\n",
            " [ 6  7  8  9 10 11]]\n"
          ]
        }
      ]
    },
    {
      "cell_type": "markdown",
      "source": [
        "11.\tReshape a 2D array into a 3D array. Then reshape it back to its original 2D shape."
      ],
      "metadata": {
        "id": "fDP_FMCxuajh"
      }
    },
    {
      "cell_type": "code",
      "source": [
        "arr = np.arange(12).reshape(3, 4)\n",
        "reshaped_arr = arr.reshape(2, 2, 3)\n",
        "\n",
        "print(\"3D reshaped array:\\n\", reshaped_arr)\n",
        "reshaped_back = reshaped_arr.reshape(3, 4)\n",
        "\n",
        "print(\"Reshaped back to 2D:\\n\", reshaped_back)\n"
      ],
      "metadata": {
        "colab": {
          "base_uri": "https://localhost:8080/"
        },
        "id": "xBH7SPXHubgs",
        "outputId": "1b071a3c-837b-409e-96d2-c55749a633f7"
      },
      "execution_count": null,
      "outputs": [
        {
          "output_type": "stream",
          "name": "stdout",
          "text": [
            "3D reshaped array:\n",
            " [[[ 0  1  2]\n",
            "  [ 3  4  5]]\n",
            "\n",
            " [[ 6  7  8]\n",
            "  [ 9 10 11]]]\n",
            "Reshaped back to 2D:\n",
            " [[ 0  1  2  3]\n",
            " [ 4  5  6  7]\n",
            " [ 8  9 10 11]]\n"
          ]
        }
      ]
    },
    {
      "cell_type": "markdown",
      "source": [
        "12.\tGiven a 4x4 matrix, reshape it into a 2D array with dimensions 2x8. Then, reshape it back to 4x4."
      ],
      "metadata": {
        "id": "TW4wmUCdupRG"
      }
    },
    {
      "cell_type": "code",
      "source": [
        "arr = np.arange(16).reshape(4, 4)\n",
        "reshaped_arr = arr.reshape(2, 8)\n",
        "\n",
        "print(\"2x8 reshaped array:\\n\", reshaped_arr)\n",
        "reshaped_back = reshaped_arr.reshape(4, 4)\n",
        "\n",
        "print(\"Reshaped back to 4x4:\\n\", reshaped_back)\n"
      ],
      "metadata": {
        "colab": {
          "base_uri": "https://localhost:8080/"
        },
        "id": "6MRUs87CuroM",
        "outputId": "c42df318-68fc-41f3-fcfa-513f3e58e034"
      },
      "execution_count": null,
      "outputs": [
        {
          "output_type": "stream",
          "name": "stdout",
          "text": [
            "2x8 reshaped array:\n",
            " [[ 0  1  2  3  4  5  6  7]\n",
            " [ 8  9 10 11 12 13 14 15]]\n",
            "Reshaped back to 4x4:\n",
            " [[ 0  1  2  3]\n",
            " [ 4  5  6  7]\n",
            " [ 8  9 10 11]\n",
            " [12 13 14 15]]\n"
          ]
        }
      ]
    },
    {
      "cell_type": "markdown",
      "source": [
        "13.\tCreate a 3D array and flatten it into a 1D array using reshape(-1)."
      ],
      "metadata": {
        "id": "x2SFTgY6uzch"
      }
    },
    {
      "cell_type": "code",
      "source": [
        "arr = np.arange(12).reshape(2, 2, 3)\n",
        "flattened_arr = arr.reshape(-1)\n",
        "\n",
        "print(\"Flattened array:\", flattened_arr)\n"
      ],
      "metadata": {
        "colab": {
          "base_uri": "https://localhost:8080/"
        },
        "id": "NdyOViQAu0KU",
        "outputId": "a68a7363-986a-4859-9e17-8b956193f29d"
      },
      "execution_count": null,
      "outputs": [
        {
          "output_type": "stream",
          "name": "stdout",
          "text": [
            "Flattened array: [ 0  1  2  3  4  5  6  7  8  9 10 11]\n"
          ]
        }
      ]
    },
    {
      "cell_type": "markdown",
      "source": [
        "14.\tCreate a 3x3 matrix and iterate over its elements row by row."
      ],
      "metadata": {
        "id": "4bwM7w8uvGFA"
      }
    },
    {
      "cell_type": "code",
      "source": [
        "arr = np.arange(9).reshape(3, 3)\n",
        "\n",
        "for row in arr:\n",
        "    print(\"Row:\", row)\n"
      ],
      "metadata": {
        "colab": {
          "base_uri": "https://localhost:8080/"
        },
        "id": "uS7DL37BvJE6",
        "outputId": "496d30be-ae84-4057-fc46-1e29e76a03ca"
      },
      "execution_count": null,
      "outputs": [
        {
          "output_type": "stream",
          "name": "stdout",
          "text": [
            "Row: [0 1 2]\n",
            "Row: [3 4 5]\n",
            "Row: [6 7 8]\n"
          ]
        }
      ]
    },
    {
      "cell_type": "markdown",
      "source": [
        "15.\tCreate a 2D array. Print index of each element including that element."
      ],
      "metadata": {
        "id": "A2S81OdMv2wE"
      }
    },
    {
      "cell_type": "code",
      "source": [
        "import numpy as np\n",
        "\n",
        "arr = np.array([[1, 2, 3, 4], [5, 6, 7, 8]])\n",
        "\n",
        "for idx, x in np.ndenumerate(arr):\n",
        "  print(idx, x)"
      ],
      "metadata": {
        "colab": {
          "base_uri": "https://localhost:8080/"
        },
        "id": "L1pIpu_5v5uG",
        "outputId": "158dc947-bf8c-4baa-9880-599d68dc6055"
      },
      "execution_count": null,
      "outputs": [
        {
          "output_type": "stream",
          "name": "stdout",
          "text": [
            "(0, 0) 1\n",
            "(0, 1) 2\n",
            "(0, 2) 3\n",
            "(0, 3) 4\n",
            "(1, 0) 5\n",
            "(1, 1) 6\n",
            "(1, 2) 7\n",
            "(1, 3) 8\n"
          ]
        }
      ]
    },
    {
      "cell_type": "markdown",
      "source": [
        "16.\tIterate over a 3D array and print each element, along with its corresponding index."
      ],
      "metadata": {
        "id": "XEZh0jplxne1"
      }
    },
    {
      "cell_type": "code",
      "source": [
        "\n",
        "import numpy as np\n",
        "arr = np.arange(8).reshape(2, 2, 2)\n",
        "for idx, x in np.ndenumerate(arr):\n",
        "  print(idx, x)\n"
      ],
      "metadata": {
        "colab": {
          "base_uri": "https://localhost:8080/"
        },
        "id": "heK6R90VxoB6",
        "outputId": "2be4ba23-2c3a-45f2-b24e-e0e2fc0e159d"
      },
      "execution_count": null,
      "outputs": [
        {
          "output_type": "stream",
          "name": "stdout",
          "text": [
            "(0, 0, 0) 0\n",
            "(0, 0, 1) 1\n",
            "(0, 1, 0) 2\n",
            "(0, 1, 1) 3\n",
            "(1, 0, 0) 4\n",
            "(1, 0, 1) 5\n",
            "(1, 1, 0) 6\n",
            "(1, 1, 1) 7\n"
          ]
        }
      ]
    },
    {
      "cell_type": "markdown",
      "source": [
        "17.\tCreate a 2D NumPy array and use np.nditer() to iterate over it. Print each element."
      ],
      "metadata": {
        "id": "BExurxTPx7JO"
      }
    },
    {
      "cell_type": "code",
      "source": [
        "arr = np.arange(6).reshape(2, 3)\n",
        "\n",
        "for x in np.nditer(arr):\n",
        "    print(x)\n"
      ],
      "metadata": {
        "colab": {
          "base_uri": "https://localhost:8080/"
        },
        "id": "lq4A092Wx9ac",
        "outputId": "120c0eb9-2453-4ade-d06a-7c553474c79f"
      },
      "execution_count": null,
      "outputs": [
        {
          "output_type": "stream",
          "name": "stdout",
          "text": [
            "0\n",
            "1\n",
            "2\n",
            "3\n",
            "4\n",
            "5\n"
          ]
        }
      ]
    },
    {
      "cell_type": "markdown",
      "source": [
        "18.\tCreate a 3D array. Print each element and its corresponding index."
      ],
      "metadata": {
        "id": "LnUjc7XOyCFx"
      }
    },
    {
      "cell_type": "code",
      "source": [
        "arr = np.arange(8).reshape(2, 2, 2)\n",
        "\n",
        "print(arr)\n",
        "for x in np.ndenumerate(arr):\n",
        "    print(x)\n"
      ],
      "metadata": {
        "colab": {
          "base_uri": "https://localhost:8080/"
        },
        "id": "riZVcAtmyEcw",
        "outputId": "6b3da920-62d1-40be-d52d-9bc72f149b76"
      },
      "execution_count": null,
      "outputs": [
        {
          "output_type": "stream",
          "name": "stdout",
          "text": [
            "[[[0 1]\n",
            "  [2 3]]\n",
            "\n",
            " [[4 5]\n",
            "  [6 7]]]\n",
            "((0, 0, 0), 0)\n",
            "((0, 0, 1), 1)\n",
            "((0, 1, 0), 2)\n",
            "((0, 1, 1), 3)\n",
            "((1, 0, 0), 4)\n",
            "((1, 0, 1), 5)\n",
            "((1, 1, 0), 6)\n",
            "((1, 1, 1), 7)\n"
          ]
        }
      ]
    },
    {
      "cell_type": "markdown",
      "source": [
        "19.\tCreate a 6D array and use nditer() and print each element ."
      ],
      "metadata": {
        "id": "VH6CWFpbyKLC"
      }
    },
    {
      "cell_type": "code",
      "source": [
        "import numpy as np\n",
        "\n",
        "# Create a 6D array using ndmin\n",
        "arr = np.array([1, 2, 3, 4], ndmin=6)\n",
        "\n",
        "print(\"6D array shape:\", arr.shape)\n",
        "\n",
        "for x in np.nditer(arr):\n",
        "  print(x)\n"
      ],
      "metadata": {
        "colab": {
          "base_uri": "https://localhost:8080/"
        },
        "id": "FzOm8N2OyK56",
        "outputId": "e35cf2f9-e37f-415f-b96d-ef024536426e"
      },
      "execution_count": null,
      "outputs": [
        {
          "output_type": "stream",
          "name": "stdout",
          "text": [
            "6D array shape: (1, 1, 1, 1, 1, 4)\n",
            "1\n",
            "2\n",
            "3\n",
            "4\n"
          ]
        }
      ]
    },
    {
      "cell_type": "markdown",
      "source": [
        "20.\tCreate a 2D integer array and use nditer() to iterate over it as if it were an float array. Print the elements."
      ],
      "metadata": {
        "id": "cprRmRslz0c4"
      }
    },
    {
      "cell_type": "code",
      "source": [
        "import numpy as np\n",
        "\n",
        "# Create a 2D integer array\n",
        "arr = np.array([[1, 2], [3, 4]])\n",
        "\n",
        "# Use nditer to iterate over the array as if it were a float array\n",
        "for x in np.nditer(arr, flags=['buffered'], op_dtypes=['float']):\n",
        "    print(x)\n"
      ],
      "metadata": {
        "colab": {
          "base_uri": "https://localhost:8080/"
        },
        "id": "eDKbil1Cz2Is",
        "outputId": "8d9a5fbb-ca66-42f0-ea46-e51495b2d0bc"
      },
      "execution_count": null,
      "outputs": [
        {
          "output_type": "stream",
          "name": "stdout",
          "text": [
            "1.0\n",
            "2.0\n",
            "3.0\n",
            "4.0\n"
          ]
        }
      ]
    },
    {
      "cell_type": "markdown",
      "source": [
        "21.\tUse nditer() to iterate over a mixed data type array, where some elements are floats and others are integers."
      ],
      "metadata": {
        "id": "xqCDylri2Hsv"
      }
    },
    {
      "cell_type": "code",
      "source": [
        "arr = np.array([1, 2.5, 3, 4.5])\n",
        "\n",
        "for x in np.nditer(arr, flags=['buffered'], op_dtypes=['float']):\n",
        "    print(x)\n"
      ],
      "metadata": {
        "colab": {
          "base_uri": "https://localhost:8080/"
        },
        "id": "lsbM6RUc2IJl",
        "outputId": "d355b5c0-94f1-4ff5-ea99-74714bdc8fd3"
      },
      "execution_count": null,
      "outputs": [
        {
          "output_type": "stream",
          "name": "stdout",
          "text": [
            "1.0\n",
            "2.5\n",
            "3.0\n",
            "4.5\n"
          ]
        }
      ]
    },
    {
      "cell_type": "markdown",
      "source": [
        "22.\tCreate a 1D array and iterate over it using nditer() with op_dtypes set to different types. Observe and explain the results."
      ],
      "metadata": {
        "id": "oNVMdydS2TAY"
      }
    },
    {
      "cell_type": "code",
      "source": [
        "arr = np.array([1, 2, 3])\n",
        "\n",
        "for x in np.nditer(arr, flags=['buffered'],op_dtypes=['float']):\n",
        "    print(x)\n"
      ],
      "metadata": {
        "colab": {
          "base_uri": "https://localhost:8080/"
        },
        "id": "OHqBdx7A2ZGd",
        "outputId": "431d902c-9065-41a8-ae74-19035adeb8d7"
      },
      "execution_count": null,
      "outputs": [
        {
          "output_type": "stream",
          "name": "stdout",
          "text": [
            "1.0\n",
            "2.0\n",
            "3.0\n"
          ]
        }
      ]
    },
    {
      "cell_type": "markdown",
      "source": [
        "23.\tCreate a 1D array of 10 elements and iterate over it using a step size of 2. Print the accessed elements."
      ],
      "metadata": {
        "id": "oRi5ojGc2mX-"
      }
    },
    {
      "cell_type": "code",
      "source": [
        "arr = np.arange(10)\n",
        "\n",
        "for i in np.nditer(arr[::2]):\n",
        "    print(i)"
      ],
      "metadata": {
        "colab": {
          "base_uri": "https://localhost:8080/"
        },
        "id": "6aJEOMXq22T5",
        "outputId": "a55ff11b-11cb-4e7a-b7de-748a421d3e44"
      },
      "execution_count": null,
      "outputs": [
        {
          "output_type": "stream",
          "name": "stdout",
          "text": [
            "0\n",
            "2\n",
            "4\n",
            "6\n",
            "8\n"
          ]
        }
      ]
    },
    {
      "cell_type": "markdown",
      "source": [
        "24.\tIterate over every second element of a 2D array along with indices of the elements"
      ],
      "metadata": {
        "id": "xmuMC6mt3cPC"
      }
    },
    {
      "cell_type": "code",
      "source": [
        "arr = np.arange(9).reshape(3, 3)\n",
        "\n",
        "for x in np.ndenumerate(arr[::2]):\n",
        "  print(x)\n",
        "\n"
      ],
      "metadata": {
        "colab": {
          "base_uri": "https://localhost:8080/"
        },
        "id": "tkzeQ6JD3LYi",
        "outputId": "211c4b10-6353-4907-8cab-f1c224fac2e6"
      },
      "execution_count": null,
      "outputs": [
        {
          "output_type": "stream",
          "name": "stdout",
          "text": [
            "((0, 0), 0)\n",
            "((0, 1), 1)\n",
            "((0, 2), 2)\n",
            "((1, 0), 6)\n",
            "((1, 1), 7)\n",
            "((1, 2), 8)\n"
          ]
        }
      ]
    },
    {
      "cell_type": "markdown",
      "source": [
        "25.\tCreate a 3D array and iterate over every second element. Print the elements accessed in each step along with indices of element."
      ],
      "metadata": {
        "id": "bqL9swBA4DAj"
      }
    },
    {
      "cell_type": "code",
      "source": [
        "arr = np.arange(8).reshape(2, 2,2)\n",
        "\n",
        "print(arr)\n",
        "print(\"------------------------------\")\n",
        "for x in np.ndenumerate(arr[::2]):\n",
        "  print(x)\n"
      ],
      "metadata": {
        "colab": {
          "base_uri": "https://localhost:8080/"
        },
        "id": "JRyD66Aw4EkH",
        "outputId": "2b4c8671-c89f-4352-fe4c-0884a3b82673"
      },
      "execution_count": null,
      "outputs": [
        {
          "output_type": "stream",
          "name": "stdout",
          "text": [
            "[[[0 1]\n",
            "  [2 3]]\n",
            "\n",
            " [[4 5]\n",
            "  [6 7]]]\n",
            "------------------------------\n",
            "((0, 0, 0), 0)\n",
            "((0, 0, 1), 1)\n",
            "((0, 1, 0), 2)\n",
            "((0, 1, 1), 3)\n"
          ]
        }
      ]
    }
  ]
}