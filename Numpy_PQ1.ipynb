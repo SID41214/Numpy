{
  "nbformat": 4,
  "nbformat_minor": 0,
  "metadata": {
    "colab": {
      "provenance": []
    },
    "kernelspec": {
      "name": "python3",
      "display_name": "Python 3"
    },
    "language_info": {
      "name": "python"
    }
  },
  "cells": [
    {
      "cell_type": "markdown",
      "source": [
        "1: Create a 1D NumPy array containing the integers from 0 to 9."
      ],
      "metadata": {
        "id": "4_sokv0eT9Sf"
      }
    },
    {
      "cell_type": "code",
      "execution_count": null,
      "metadata": {
        "colab": {
          "base_uri": "https://localhost:8080/"
        },
        "id": "27xL2qkvTxL6",
        "outputId": "2f8a4341-b4c3-41e1-ab7b-824f6e5b1697"
      },
      "outputs": [
        {
          "output_type": "stream",
          "name": "stdout",
          "text": [
            "[0 1 2 3 4 5 6 7 8 9]\n"
          ]
        }
      ],
      "source": [
        "import numpy as np\n",
        "\n",
        "array_1d = np.arange(10)\n",
        "print(array_1d)"
      ]
    },
    {
      "cell_type": "markdown",
      "source": [
        " 2: Create a 2D NumPy array of shape (3, 3) with values ranging from 1 to 9."
      ],
      "metadata": {
        "id": "0KO1kEBvT_VZ"
      }
    },
    {
      "cell_type": "code",
      "source": [
        "array_2d = np.arange(1, 10).reshape(3, 3)\n",
        "print(array_2d)\n"
      ],
      "metadata": {
        "colab": {
          "base_uri": "https://localhost:8080/"
        },
        "id": "pSMZJLujT_yj",
        "outputId": "f0eee165-fa9a-48d3-fe5a-4933c0cf3435"
      },
      "execution_count": null,
      "outputs": [
        {
          "output_type": "stream",
          "name": "stdout",
          "text": [
            "[[1 2 3]\n",
            " [4 5 6]\n",
            " [7 8 9]]\n"
          ]
        }
      ]
    },
    {
      "cell_type": "markdown",
      "source": [
        "3: Create a 3x3 identity matrix using NumPy."
      ],
      "metadata": {
        "id": "fMVPIwvjULzX"
      }
    },
    {
      "cell_type": "code",
      "source": [
        "identity_matrix = np.eye(3)\n",
        "print(identity_matrix)\n"
      ],
      "metadata": {
        "colab": {
          "base_uri": "https://localhost:8080/"
        },
        "id": "-TT_00n9UOLX",
        "outputId": "4fbd0db5-7502-4e1f-e8eb-b0e893dd5e04"
      },
      "execution_count": null,
      "outputs": [
        {
          "output_type": "stream",
          "name": "stdout",
          "text": [
            "[[1. 0. 0.]\n",
            " [0. 1. 0.]\n",
            " [0. 0. 1.]]\n"
          ]
        }
      ]
    },
    {
      "cell_type": "markdown",
      "source": [
        "4: Generate a NumPy array of 10 random numbers between 0 and 1."
      ],
      "metadata": {
        "id": "zD-6vD8gUgBD"
      }
    },
    {
      "cell_type": "code",
      "source": [
        "random_array = np.random.rand(10)\n",
        "print(random_array)\n"
      ],
      "metadata": {
        "colab": {
          "base_uri": "https://localhost:8080/"
        },
        "id": "44DXajk7Ui19",
        "outputId": "ddb968d9-34a4-4588-d50d-a4bb73beb789"
      },
      "execution_count": null,
      "outputs": [
        {
          "output_type": "stream",
          "name": "stdout",
          "text": [
            "[0.50682719 0.06349175 0.02536181 0.70518903 0.77672176 0.54494151\n",
            " 0.85536609 0.83604661 0.58163137 0.15736465]\n"
          ]
        }
      ]
    },
    {
      "cell_type": "markdown",
      "source": [
        " 5: Create an array of 10 zeros and another of 10 ones."
      ],
      "metadata": {
        "id": "TzpdGP87UlLN"
      }
    },
    {
      "cell_type": "code",
      "source": [
        "zeros_array = np.zeros(10)\n",
        "ones_array = np.ones(10)\n",
        "print(zeros_array)\n",
        "print(ones_array)\n"
      ],
      "metadata": {
        "colab": {
          "base_uri": "https://localhost:8080/"
        },
        "id": "XyKvdNMFUmvz",
        "outputId": "7ef50c18-ba26-47b0-c73f-354b6f10408e"
      },
      "execution_count": null,
      "outputs": [
        {
          "output_type": "stream",
          "name": "stdout",
          "text": [
            "[0. 0. 0. 0. 0. 0. 0. 0. 0. 0.]\n",
            "[1. 1. 1. 1. 1. 1. 1. 1. 1. 1.]\n"
          ]
        }
      ]
    },
    {
      "cell_type": "markdown",
      "source": [
        " 6: Given the array a = np.array([10, 20, 30, 40, 50]), access the third element."
      ],
      "metadata": {
        "id": "JYDrYz0gUpnY"
      }
    },
    {
      "cell_type": "code",
      "source": [
        "a = np.array([10, 20, 30, 40, 50])\n",
        "third_element = a[2]\n",
        "print(third_element)\n"
      ],
      "metadata": {
        "colab": {
          "base_uri": "https://localhost:8080/"
        },
        "id": "yjFVrvx8UqIh",
        "outputId": "9dc828df-a87b-4ade-a7ff-1ade65bb0351"
      },
      "execution_count": null,
      "outputs": [
        {
          "output_type": "stream",
          "name": "stdout",
          "text": [
            "30\n"
          ]
        }
      ]
    },
    {
      "cell_type": "markdown",
      "source": [
        "7: Create a 4x4 matrix and access the element at the second row, third column."
      ],
      "metadata": {
        "id": "A6mgEQUUUtcj"
      }
    },
    {
      "cell_type": "code",
      "source": [
        "matrix_4x4 = np.array([[1, 2, 3, 4],\n",
        "                       [5, 6, 7, 8],\n",
        "                       [9, 10, 11, 12],\n",
        "                       [13, 14, 15, 16]])\n",
        "element = matrix_4x4[1, 2]\n",
        "print(element)\n"
      ],
      "metadata": {
        "colab": {
          "base_uri": "https://localhost:8080/"
        },
        "id": "6zgswYFSUuCj",
        "outputId": "4d4e2b75-3e8d-4431-f718-63c88ca97263"
      },
      "execution_count": null,
      "outputs": [
        {
          "output_type": "stream",
          "name": "stdout",
          "text": [
            "7\n"
          ]
        }
      ]
    },
    {
      "cell_type": "markdown",
      "source": [
        " 8: Access the last element of the array a = np.array([5, 10, 15, 20, 25])."
      ],
      "metadata": {
        "id": "K92l19iIUy8J"
      }
    },
    {
      "cell_type": "code",
      "source": [
        "a = np.array([5, 10, 15, 20, 25])\n",
        "last_element = a[-1]\n",
        "print(last_element)\n"
      ],
      "metadata": {
        "colab": {
          "base_uri": "https://localhost:8080/"
        },
        "id": "lq49jm7fUzuE",
        "outputId": "d499cf16-ef6b-4a22-e831-872b959a73cf"
      },
      "execution_count": null,
      "outputs": [
        {
          "output_type": "stream",
          "name": "stdout",
          "text": [
            "25\n"
          ]
        }
      ]
    },
    {
      "cell_type": "markdown",
      "source": [
        "9: For the array a = np.array([1, 3, 5, 7, 9, 11]), access the elements at indices 1, 3, and 4."
      ],
      "metadata": {
        "id": "lscFox8VU8Rz"
      }
    },
    {
      "cell_type": "code",
      "source": [
        "a = np.array([1, 3, 5, 7, 9, 11])\n",
        "selected_elements = a[[1, 3, 4]]\n",
        "print(selected_elements)\n",
        "\n",
        "# Here, you are selecting specific elements from the array a using an array of indices [1, 3, 4].\n",
        "# Index 1 corresponds to the second element in the array a, which is 3.\n",
        "# Index 3 corresponds to the fourth element in the array a, which is 7.\n",
        "# Index 4 corresponds to the fifth element in the array a, which is 9."
      ],
      "metadata": {
        "colab": {
          "base_uri": "https://localhost:8080/"
        },
        "id": "zcw54V9QU9VK",
        "outputId": "caf7d517-c86d-4479-a5dc-8530c3a07a6e"
      },
      "execution_count": null,
      "outputs": [
        {
          "output_type": "stream",
          "name": "stdout",
          "text": [
            "[3 7 9]\n"
          ]
        }
      ]
    },
    {
      "cell_type": "markdown",
      "source": [
        "10: Create a 3D array of shape (2, 2, 2) and access the element at position (1, 1, 1)."
      ],
      "metadata": {
        "id": "PmpYGnoHVGXB"
      }
    },
    {
      "cell_type": "code",
      "source": [
        "array_3d = np.array([[[1, 2], [3, 4]],\n",
        "                     [[5, 6], [7, 8]]])\n",
        "element = array_3d[1, 1, 1]\n",
        "print(element)\n"
      ],
      "metadata": {
        "colab": {
          "base_uri": "https://localhost:8080/"
        },
        "id": "3K_bC3K_VG8_",
        "outputId": "dc2b4a3d-3b49-42ff-ad1d-f40555009753"
      },
      "execution_count": null,
      "outputs": [
        {
          "output_type": "stream",
          "name": "stdout",
          "text": [
            "8\n"
          ]
        }
      ]
    },
    {
      "cell_type": "markdown",
      "source": [
        " 11: Given the array a = np.array([2, 4, 6, 8, 10, 12]), slice it to get the first 3 elements."
      ],
      "metadata": {
        "id": "QKjt0qn-VJB-"
      }
    },
    {
      "cell_type": "code",
      "source": [
        "a = np.array([2, 4, 6, 8, 10, 12])\n",
        "sliced_array = a[:3]\n",
        "print(sliced_array)\n"
      ],
      "metadata": {
        "colab": {
          "base_uri": "https://localhost:8080/"
        },
        "id": "G9wBYb1VVJlu",
        "outputId": "677c08f3-75bb-4849-e634-52b62af199b2"
      },
      "execution_count": null,
      "outputs": [
        {
          "output_type": "stream",
          "name": "stdout",
          "text": [
            "[2 4 6]\n"
          ]
        }
      ]
    },
    {
      "cell_type": "markdown",
      "source": [
        " 12: Create a 4x4 array and slice it to get the first two rows and last two columns."
      ],
      "metadata": {
        "id": "vKC1bCxxVMkG"
      }
    },
    {
      "cell_type": "code",
      "source": [
        "array_4x4 = np.array([[1, 2, 3, 4],\n",
        "                      [5, 6, 7, 8],\n",
        "                      [9, 10, 11, 12],\n",
        "                      [13, 14, 15, 16]])\n",
        "sliced_array = array_4x4[:2, -2:]\n",
        "print(sliced_array)\n"
      ],
      "metadata": {
        "colab": {
          "base_uri": "https://localhost:8080/"
        },
        "id": "nwY-N4wdVNK6",
        "outputId": "92e03a52-15c9-4f13-9b52-46f3dcebc3e8"
      },
      "execution_count": null,
      "outputs": [
        {
          "output_type": "stream",
          "name": "stdout",
          "text": [
            "[[3 4]\n",
            " [7 8]]\n"
          ]
        }
      ]
    },
    {
      "cell_type": "markdown",
      "source": [
        "13: For the array a = np.array([0, 1, 2, 3, 4, 5, 6, 7, 8, 9]), slice it to get every second element."
      ],
      "metadata": {
        "id": "VQDIuIB7VR4c"
      }
    },
    {
      "cell_type": "code",
      "source": [
        "a = np.array([0, 1, 2, 3, 4, 5, 6, 7, 8, 9])\n",
        "sliced_array = a[::2]\n",
        "print(sliced_array)\n"
      ],
      "metadata": {
        "colab": {
          "base_uri": "https://localhost:8080/"
        },
        "id": "U5SukblPVSdd",
        "outputId": "ab6358e5-24dd-4d48-a057-4dbf43d8728b"
      },
      "execution_count": null,
      "outputs": [
        {
          "output_type": "stream",
          "name": "stdout",
          "text": [
            "[0 2 4 6 8]\n"
          ]
        }
      ]
    },
    {
      "cell_type": "markdown",
      "source": [
        "14: Slice the last two elements from each row of a 3x4 array."
      ],
      "metadata": {
        "id": "QHXO26vvVVeU"
      }
    },
    {
      "cell_type": "code",
      "source": [
        "array_3x4 = np.array([[1, 2, 3, 4],\n",
        "                      [5, 6, 7, 8],\n",
        "                      [9, 10, 11, 12]])\n",
        "sliced_array = array_3x4[:, -2:]\n",
        "print(sliced_array)\n"
      ],
      "metadata": {
        "colab": {
          "base_uri": "https://localhost:8080/"
        },
        "id": "TTJpi95bVV94",
        "outputId": "ed9262c7-0544-4bb7-85a9-be334ae7d12f"
      },
      "execution_count": null,
      "outputs": [
        {
          "output_type": "stream",
          "name": "stdout",
          "text": [
            "[[ 3  4]\n",
            " [ 7  8]\n",
            " [11 12]]\n"
          ]
        }
      ]
    },
    {
      "cell_type": "markdown",
      "source": [
        " 15: Create a 5x5 matrix and slice out the inner 3x3 matrix."
      ],
      "metadata": {
        "id": "deGD7wvWVZwA"
      }
    },
    {
      "cell_type": "code",
      "source": [
        "matrix_5x5 = np.array([[ 1,  2,  3,  4,  5],\n",
        "                       [ 6,  7,  8,  9, 10],\n",
        "                       [11, 12, 13, 14, 15],\n",
        "                       [16, 17, 18, 19, 20],\n",
        "                       [21, 22, 23, 24, 25]])\n",
        "inner_matrix = matrix_5x5[1:4, 1:4]\n",
        "print(inner_matrix)\n"
      ],
      "metadata": {
        "colab": {
          "base_uri": "https://localhost:8080/"
        },
        "id": "IeJzftJUVacQ",
        "outputId": "46927692-ebe3-4916-9b81-5c1658265d54"
      },
      "execution_count": null,
      "outputs": [
        {
          "output_type": "stream",
          "name": "stdout",
          "text": [
            "[[ 7  8  9]\n",
            " [12 13 14]\n",
            " [17 18 19]]\n"
          ]
        }
      ]
    },
    {
      "cell_type": "markdown",
      "source": [
        "16: Create an array of integers from 0 to 5 and change its data type to float."
      ],
      "metadata": {
        "id": "n8VHx_TzVfh3"
      }
    },
    {
      "cell_type": "code",
      "source": [
        "int_array = np.arange(6)\n",
        "float_array = int_array.astype(float)\n",
        "print(float_array)\n"
      ],
      "metadata": {
        "colab": {
          "base_uri": "https://localhost:8080/"
        },
        "id": "gJYUpzKsVgKR",
        "outputId": "4d8f6e54-efde-4a6c-cf6b-bc9fb7c13f71"
      },
      "execution_count": null,
      "outputs": [
        {
          "output_type": "stream",
          "name": "stdout",
          "text": [
            "[0. 1. 2. 3. 4. 5.]\n"
          ]
        }
      ]
    },
    {
      "cell_type": "markdown",
      "source": [
        "17: Create a NumPy array of shape (3, 3) with boolean values (True/False)."
      ],
      "metadata": {
        "id": "HksgfOWXVixL"
      }
    },
    {
      "cell_type": "code",
      "source": [
        "bool_array = np.array([[True, False, True],\n",
        "                       [False, True, False],\n",
        "                       [True, True, False]])\n",
        "print(bool_array)\n"
      ],
      "metadata": {
        "colab": {
          "base_uri": "https://localhost:8080/"
        },
        "id": "LoQ_FtOUVk1F",
        "outputId": "591fce03-51b1-419a-99fb-def04a6f7498"
      },
      "execution_count": null,
      "outputs": [
        {
          "output_type": "stream",
          "name": "stdout",
          "text": [
            "[[ True False  True]\n",
            " [False  True False]\n",
            " [ True  True False]]\n"
          ]
        }
      ]
    },
    {
      "cell_type": "markdown",
      "source": [
        "18: Create an array of complex numbers (e.g., [1+2j, 3+4j, 5+6j])."
      ],
      "metadata": {
        "id": "u2-kPE6lVt5h"
      }
    },
    {
      "cell_type": "code",
      "source": [
        "complex_array = np.array([1+2j, 3+4j, 5+6j])\n",
        "print(complex_array)\n"
      ],
      "metadata": {
        "colab": {
          "base_uri": "https://localhost:8080/"
        },
        "id": "OrSzIvotVuiC",
        "outputId": "ec854d6f-df9c-45a8-e4ec-da59e5a7c7a1"
      },
      "execution_count": null,
      "outputs": [
        {
          "output_type": "stream",
          "name": "stdout",
          "text": [
            "[1.+2.j 3.+4.j 5.+6.j]\n"
          ]
        }
      ]
    },
    {
      "cell_type": "markdown",
      "source": [
        "19: Given an array of strings (e.g., [\"1\", \"2\", \"3\"]), convert it to an array of integers."
      ],
      "metadata": {
        "id": "t47W7cUPVyb5"
      }
    },
    {
      "cell_type": "code",
      "source": [
        "str_array = np.array([\"1\", \"2\", \"3\"])\n",
        "int_array = str_array.astype(int)\n",
        "print(int_array)\n"
      ],
      "metadata": {
        "colab": {
          "base_uri": "https://localhost:8080/"
        },
        "id": "VlsHSgPtVzDm",
        "outputId": "8dc00fbc-89a9-4dc3-a168-7c013d029ea4"
      },
      "execution_count": null,
      "outputs": [
        {
          "output_type": "stream",
          "name": "stdout",
          "text": [
            "[1 2 3]\n"
          ]
        }
      ]
    },
    {
      "cell_type": "markdown",
      "source": [
        "20: Create an array of float values and then convert it to an integer type."
      ],
      "metadata": {
        "id": "7lOkXffgV2tX"
      }
    },
    {
      "cell_type": "code",
      "source": [
        "import numpy as np\n",
        "\n",
        "# Create an array of float values\n",
        "float_array = np.array([1.9, 2.5, 3.7])\n",
        "\n",
        "# Convert the array to integer type\n",
        "int_array = float_array.astype(int)\n",
        "\n",
        "print(int_array)\n"
      ],
      "metadata": {
        "colab": {
          "base_uri": "https://localhost:8080/"
        },
        "id": "8XZ7Qn0VV394",
        "outputId": "bf304610-7c21-48a8-f9d6-5b2c33068902"
      },
      "execution_count": null,
      "outputs": [
        {
          "output_type": "stream",
          "name": "stdout",
          "text": [
            "[1 2 3]\n"
          ]
        }
      ]
    }
  ]
}