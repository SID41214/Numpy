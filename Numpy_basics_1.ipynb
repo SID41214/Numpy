{
  "nbformat": 4,
  "nbformat_minor": 0,
  "metadata": {
    "colab": {
      "provenance": []
    },
    "kernelspec": {
      "name": "python3",
      "display_name": "Python 3"
    },
    "language_info": {
      "name": "python"
    }
  },
  "cells": [
    {
      "cell_type": "markdown",
      "source": [
        "# Introduction"
      ],
      "metadata": {
        "id": "7xNoH5n-t2Zq"
      }
    },
    {
      "cell_type": "markdown",
      "source": [
        "**What is NumPy?**\n",
        "\n",
        "---\n",
        "\n",
        "\n",
        "*  NumPy is a Python library **used for working with arrays.**\n",
        "\n",
        "*  It also has functions for working in domain of linear algebra, fourier transform, and matrices.\n",
        "\n",
        "*  NumPy was created in 2005 by Travis Oliphant. It is an open source project and you can use it freely.\n",
        "\n",
        "* NumPy stands for **Numerical Python**.\n",
        "\n",
        "  *  Array\n",
        "\n",
        "      * An **array** is a data structure that **can store multiple elements of the same data type in a single variable.** It is a collection of elements, usually arranged in a sequence, that allows for efficient access and manipulation of the data."
      ],
      "metadata": {
        "id": "8xlbN9Oislj4"
      }
    },
    {
      "cell_type": "markdown",
      "source": [
        "**Why Use NumPy?**\n",
        "\n",
        "---\n",
        "\n",
        "\n",
        "*  In Python we have **lists** that serve the purpose of arrays, but **they are slow to process**.\n",
        "\n",
        "*  **NumPy** aims to provide an array object that is up to **50x faster than traditional Python lists.**\n",
        "\n",
        "*  The **array object in NumPy is called ndarray**, it provides a lot of supporting functions that make working with ndarray very easy.\n",
        "\n",
        "*  Arrays are very frequently used in data science, where speed and resources are very important."
      ],
      "metadata": {
        "id": "hJ0q0ZRts0EB"
      }
    },
    {
      "cell_type": "markdown",
      "source": [
        "**Why is NumPy Faster Than Lists?**\n",
        "\n",
        "\n",
        "---\n",
        "\n",
        "\n",
        "* **NumPy arrays are stored at one continuous place** in memory unlike lists so processes **can access and manipulate them very efficiently**.\n",
        "\n",
        "\n",
        "* This behavior is called **locality of reference** in computer science.\n",
        "\n",
        "* This is the main reason why NumPy is faster than lists. Also it is optimized to work with latest CPU architectures.\n",
        "\n",
        "* **Contiguous Memory Allocation:**\n",
        "    *  **NumPy arrays are stored in contiguous memory blocks**, unlike Python lists, which are arrays of pointers to objects. This allows NumPy to efficiently access and manipulate data since all elements are stored together in memory.\n",
        "\n",
        "* **Homogeneous Data Types:**\n",
        "    *  **All elements in a NumPy array are of the same data type, which means less memory overhead compared to Python lists**, which can store elements of different types, leading to additional memory usage.\n",
        "\n",
        "* **Optimized C Implementation:**  \n",
        "     * **Underlying C Code**: NumPy is implemented in C, which allows for the execution of operations at the machine level. Python lists, on the other hand, are managed by the Python interpreter, which adds overhead. NumPy leverages highly optimized C libraries to perform operations much faster.\n",
        "     * **Low-Level Operations:** When you perform operations on NumPy arrays, these operations are executed at a lower level with less overhead, while Python lists require more processing time due to the need for interpreting and handling different types of elements.\n",
        "* **Vectorization:**\n",
        "     *  **Element-Wise Operations:** NumPy allows for vectorized operations, meaning you can perform operations on entire arrays without the need for explicit loops. This is achieved through SIMD (Single Instruction, Multiple Data) operations, which are much faster than executing Python loops.\n",
        "\n",
        "\n",
        "*  **Reduced Overhead:**\n",
        "     * **Python Lists:** Each element in a Python list is a full-fledged Python object, which includes metadata, reference counting, and other overhead. When performing operations on lists, Python has to manage this overhead for each element.\n",
        "     * **NumPy Arrays:** NumPy arrays are more memory-efficient because they store data in a fixed-size, homogeneous block of memory without the need for the extra overhead associated with Python objects.\n",
        "*  **Broadcasting:**\n",
        "     *  NumPy supports broadcasting, which allows operations on arrays of different shapes and sizes without making copies of data. This avoids unnecessary memory allocation and improves performance.\n",
        "* **In-Place Operations:**\n",
        "    *  NumPy supports in-place operations that modify the existing array rather than creating a new one, saving both time and memory."
      ],
      "metadata": {
        "id": "_6B5KtJwt16a"
      }
    },
    {
      "cell_type": "code",
      "source": [
        "import numpy as np\n",
        "# Using NumPy for element-wise addition\n",
        "a = np.array([1, 2, 3, 4, 5])\n",
        "b = np.array([10, 20, 30, 40, 50])\n",
        "c = a + b  # Vectorized operation\n",
        "print(c)"
      ],
      "metadata": {
        "colab": {
          "base_uri": "https://localhost:8080/"
        },
        "id": "CGU9Oo8Ywjw0",
        "outputId": "8b6c4a92-cb0a-4326-a238-640b621decab"
      },
      "execution_count": null,
      "outputs": [
        {
          "output_type": "stream",
          "name": "stdout",
          "text": [
            "[11 22 33 44 55]\n"
          ]
        }
      ]
    },
    {
      "cell_type": "markdown",
      "source": [
        "**Import NumPy**\n",
        "\n",
        "---\n",
        "\n"
      ],
      "metadata": {
        "id": "Gw3T40Qjue96"
      }
    },
    {
      "cell_type": "code",
      "source": [
        "import numpy"
      ],
      "metadata": {
        "id": "fV5TZ1VnusJZ"
      },
      "execution_count": null,
      "outputs": []
    },
    {
      "cell_type": "code",
      "source": [
        "import numpy\n",
        "\n",
        "arr = numpy.array([1, 2, 3, 4, 5])\n",
        "lt = [1, 2, 3, 4, 5]\n",
        "print(\"List elemennts are : \",lt)\n",
        "print(type(lt))\n",
        "print(\"----------------------------------------Understand the difference  ---------------------\")\n",
        "print(\"Array elements are : \",arr)\n",
        "print(type(arr))"
      ],
      "metadata": {
        "colab": {
          "base_uri": "https://localhost:8080/"
        },
        "id": "nAbVgnEpuy5W",
        "outputId": "a4879e60-96e6-44b6-b025-a41f892529c8"
      },
      "execution_count": null,
      "outputs": [
        {
          "output_type": "stream",
          "name": "stdout",
          "text": [
            "List elemennts are :  [1, 2, 3, 4, 5]\n",
            "<class 'list'>\n",
            "----------------------------------------Understand the difference  ---------------------\n",
            "Array elements are :  [1 2 3 4 5]\n",
            "<class 'numpy.ndarray'>\n"
          ]
        }
      ]
    },
    {
      "cell_type": "markdown",
      "source": [
        "**NumPy as np**"
      ],
      "metadata": {
        "id": "kw3BUJnRvUW_"
      }
    },
    {
      "cell_type": "code",
      "source": [
        "import numpy as np\n",
        "\n",
        "arr = np.array([1, 2, 3, 4, 5])\n",
        "\n",
        "print(arr)"
      ],
      "metadata": {
        "colab": {
          "base_uri": "https://localhost:8080/"
        },
        "id": "aJbjSOxovX1d",
        "outputId": "72ab9405-95bd-4697-f707-a7ae16fe5144"
      },
      "execution_count": null,
      "outputs": [
        {
          "output_type": "stream",
          "name": "stdout",
          "text": [
            "[1 2 3 4 5]\n"
          ]
        }
      ]
    },
    {
      "cell_type": "markdown",
      "source": [
        "Checking NumPy Version"
      ],
      "metadata": {
        "id": "CwI2wtd_vcIZ"
      }
    },
    {
      "cell_type": "code",
      "source": [
        "import numpy as np\n",
        "\n",
        "print(np.__version__)"
      ],
      "metadata": {
        "colab": {
          "base_uri": "https://localhost:8080/"
        },
        "id": "FUaZWvK9vcpZ",
        "outputId": "d4216d82-fa1a-4ffb-a77c-4e8ec77a886e"
      },
      "execution_count": null,
      "outputs": [
        {
          "output_type": "stream",
          "name": "stdout",
          "text": [
            "1.26.4\n"
          ]
        }
      ]
    },
    {
      "cell_type": "markdown",
      "source": [
        "# NumPy Creating Arrays"
      ],
      "metadata": {
        "id": "RI__xsy0vgid"
      }
    },
    {
      "cell_type": "markdown",
      "source": [
        "Create a NumPy ndarray Object"
      ],
      "metadata": {
        "id": "nR_WTM1Xvhw8"
      }
    },
    {
      "cell_type": "markdown",
      "source": [
        "* NumPy is used to work with arrays. **The array object in NumPy is called ndarray.**\n",
        "\n",
        "* We can create a NumPy ndarray object by using the **array()** function."
      ],
      "metadata": {
        "id": "7ARRTtDzxiNC"
      }
    },
    {
      "cell_type": "markdown",
      "source": [
        "* An ndarray (short for **N-dimensional array**) is the core data structure of the NumPy library. It represents a multi-dimensional, homogeneous array of fixed-size items. **Each item in an ndarray takes up the same amount of memory, and the entire array is stored in a contiguous block of memory, which allows for efficient data access and manipulation.**\n",
        "\n",
        "* Key Features of ndarray:\n",
        "    * **Multi-dimensional**: An ndarray can have any number of dimensions, from 1D (a simple array or list) to 2D (like a matrix) to higher dimensions (e.g., 3D, 4D arrays, etc.).\n",
        "    * **Homogeneous Data Types**: All elements in an ndarray must be of the same data type (e.g., all integers, all floats).\n",
        "    * **Efficient:** ndarray is highly efficient in terms of both memory usage and performance, making it ideal for large-scale numerical computations."
      ],
      "metadata": {
        "id": "qeSlaECu2w95"
      }
    },
    {
      "cell_type": "code",
      "source": [
        "import numpy as np\n",
        "\n",
        "arr = np.array([1, 2, 3, 4, 5])\n",
        "\n",
        "print(arr)\n",
        "\n",
        "print(type(arr))"
      ],
      "metadata": {
        "colab": {
          "base_uri": "https://localhost:8080/"
        },
        "id": "pElruEB_xgpH",
        "outputId": "f8c71e50-a46d-4833-8c7d-4d3a049e68f6"
      },
      "execution_count": null,
      "outputs": [
        {
          "output_type": "stream",
          "name": "stdout",
          "text": [
            "[1 2 3 4 5]\n",
            "<class 'numpy.ndarray'>\n"
          ]
        }
      ]
    },
    {
      "cell_type": "markdown",
      "source": [
        "Use a tuple to create a NumPy array:"
      ],
      "metadata": {
        "id": "MphoLEFx3l_v"
      }
    },
    {
      "cell_type": "code",
      "source": [
        "import numpy as np\n",
        "\n",
        "arr = np.array((1, 2, 3, 4, 5))\n",
        "\n",
        "print(arr)"
      ],
      "metadata": {
        "colab": {
          "base_uri": "https://localhost:8080/"
        },
        "id": "kiNU7EuK3jph",
        "outputId": "8d54d2e5-5bc7-4fc8-979b-4f6a2f3bd7c8"
      },
      "execution_count": null,
      "outputs": [
        {
          "output_type": "stream",
          "name": "stdout",
          "text": [
            "[1 2 3 4 5]\n"
          ]
        }
      ]
    },
    {
      "cell_type": "markdown",
      "source": [
        "More examples:  1D 2D 3D"
      ],
      "metadata": {
        "id": "bwBkOJ1F3onI"
      }
    },
    {
      "cell_type": "code",
      "source": [
        "import numpy as np\n",
        "\n",
        "# Creating a 1D ndarray\n",
        "array_1d = np.array([1, 2, 3, 4, 5])\n",
        "\n",
        "# Creating a 2D ndarray (matrix)\n",
        "array_2d = np.array([[1, 2, 3], [4, 5, 6]])\n",
        "\n",
        "# Creating a 3D ndarray\n",
        "array_3d = np.array([[[1, 2], [3, 4]], [[5, 6], [7, 8]]])\n",
        "\n",
        "print(\"1D Array:\\n\", array_1d)\n",
        "print(\"2D Array:\\n\", array_2d)\n",
        "print(\"3D Array:\\n\", array_3d)\n"
      ],
      "metadata": {
        "colab": {
          "base_uri": "https://localhost:8080/"
        },
        "id": "yNEX-xtD3Gzi",
        "outputId": "79cbaf57-1f06-4a72-d350-8e62492ce6ca"
      },
      "execution_count": null,
      "outputs": [
        {
          "output_type": "stream",
          "name": "stdout",
          "text": [
            "1D Array:\n",
            " [1 2 3 4 5]\n",
            "2D Array:\n",
            " [[1 2 3]\n",
            " [4 5 6]]\n",
            "3D Array:\n",
            " [[[1 2]\n",
            "  [3 4]]\n",
            "\n",
            " [[5 6]\n",
            "  [7 8]]]\n"
          ]
        }
      ]
    },
    {
      "cell_type": "code",
      "source": [
        "print(array_2d)\n",
        "print(\"Number of dimensions (ndim):\", array_2d.ndim)\n",
        "print(\"Shape of the array (shape):\", array_2d.shape)\n",
        "print(\"Total number of elements (size):\", array_2d.size)\n",
        "print(\"Data type of elements (dtype):\", array_2d.dtype)\n"
      ],
      "metadata": {
        "colab": {
          "base_uri": "https://localhost:8080/"
        },
        "id": "P6O0GGJv3MnB",
        "outputId": "2df80d27-d7e6-42aa-fa14-1725e98f69c2"
      },
      "execution_count": null,
      "outputs": [
        {
          "output_type": "stream",
          "name": "stdout",
          "text": [
            "[[1 2 3]\n",
            " [4 5 6]]\n",
            "Number of dimensions (ndim): 2\n",
            "Shape of the array (shape): (2, 3)\n",
            "Total number of elements (size): 6\n",
            "Data type of elements (dtype): int64\n"
          ]
        }
      ]
    },
    {
      "cell_type": "markdown",
      "source": [
        "Attributes of ndarray:\n",
        " * **ndim**: Returns the number of dimensions of the array.\n",
        " * **shape**: Returns a tuple representing the size of the array in each dimension (e.g., (rows, columns) for 2D arrays).\n",
        " * **size:** Returns the total number of elements in the array.\n",
        " * **dtype**: Returns the data type of the elements in the array."
      ],
      "metadata": {
        "id": "wDDeDBvR3UC2"
      }
    },
    {
      "cell_type": "markdown",
      "source": [
        "**Dimensions in Arrays**\n",
        "\n",
        "---\n",
        "\n",
        "* A dimension in arrays is one level of array depth (nested arrays).\n",
        "* **nested array:** are arrays that have arrays as their elements."
      ],
      "metadata": {
        "id": "FOzixsu03ghI"
      }
    },
    {
      "cell_type": "markdown",
      "source": [
        "**0-D Arrays**\n",
        "\n",
        "---\n",
        "* Zero dimensional arrays, or Scalars, are the elements in an array. Each value in an array is a 0-D array.\n",
        "\n",
        "\n",
        "---\n",
        "\n",
        "**Characteristics of 0-D Arrays:**\n",
        "\n",
        "* **Single Elemen**t: A 0-D array holds just one value.\n",
        "* **No Dimensions:** Since it's a scalar value, it **doesn't have rows, columns, or higher dimensions.**\n",
        "* **Data Type:** Like other NumPy arrays, a 0-D array has a specific data type, which is uniform for the single element it contains.\n",
        "\n",
        "\n",
        "---\n",
        "\n"
      ],
      "metadata": {
        "id": "s8Uh4cwT35OX"
      }
    },
    {
      "cell_type": "code",
      "source": [
        "import numpy as np\n",
        "\n",
        "arr = np.array(42)\n",
        "\n",
        "print(arr)"
      ],
      "metadata": {
        "colab": {
          "base_uri": "https://localhost:8080/"
        },
        "id": "BG10VJhb4B5e",
        "outputId": "b3f9bcdd-87a2-4cff-e623-7988ceb06be9"
      },
      "execution_count": null,
      "outputs": [
        {
          "output_type": "stream",
          "name": "stdout",
          "text": [
            "42\n"
          ]
        }
      ]
    },
    {
      "cell_type": "code",
      "source": [
        "import numpy as np\n",
        "\n",
        "# Creating a 0-D array (scalar)\n",
        "ar = np.array(42)\n",
        "\n",
        "print(\"0-D Array:\", ar)\n",
        "print(\"Number of dimensions (ndim):\", ar.ndim)\n"
      ],
      "metadata": {
        "colab": {
          "base_uri": "https://localhost:8080/"
        },
        "id": "EkUrQhUV4cq-",
        "outputId": "eb994667-fb2e-4569-9c48-24c4d5b2e515"
      },
      "execution_count": null,
      "outputs": [
        {
          "output_type": "stream",
          "name": "stdout",
          "text": [
            "0-D Array: 42\n",
            "Number of dimensions (ndim): 0\n"
          ]
        }
      ]
    },
    {
      "cell_type": "code",
      "source": [
        "# Example 1: Creating a 0-D Array with Different Data Types\n",
        "import numpy as np\n",
        "\n",
        "# 0-D array with an integer\n",
        "int_array= np.array(10)\n",
        "\n",
        "# 0-D array with a float\n",
        "float_array= np.array(3.14)\n",
        "\n",
        "# 0-D array with a string\n",
        "string_array = np.array(\"Hello\")\n",
        "\n",
        "print(\"Integer 0-D Array:\", int_array)\n",
        "print(\"Float 0-D Array:\", float_array)\n",
        "print(\"String 0-D Array:\", string_array)\n"
      ],
      "metadata": {
        "colab": {
          "base_uri": "https://localhost:8080/"
        },
        "id": "9tVPSFm86qab",
        "outputId": "34eec9cd-40fa-4448-c4f8-2445af51c5e3"
      },
      "execution_count": null,
      "outputs": [
        {
          "output_type": "stream",
          "name": "stdout",
          "text": [
            "Integer 0-D Array: 10\n",
            "Float 0-D Array: 3.14\n",
            "String 0-D Array: Hello\n"
          ]
        }
      ]
    },
    {
      "cell_type": "code",
      "source": [
        "# Example 2: Checking Attributes of 0-D Arrays\n",
        "# 0-D array with a boolean value\n",
        "bool_array= np.array(True)\n",
        "\n",
        "print(\"0-D Array:\", bool_array)\n",
        "print(\"Number of dimensions (ndim):\", bool_array.ndim)\n",
        "print(\"Shape of the array (shape):\", bool_array.shape)\n",
        "print(\"Total number of elements (size):\", bool_array.size)\n",
        "print(\"Data type of elements (dtype):\", bool_array.dtype)\n"
      ],
      "metadata": {
        "colab": {
          "base_uri": "https://localhost:8080/"
        },
        "id": "JxurhB2H7UZp",
        "outputId": "0aae7e99-af56-43f5-b110-eda470df21ad"
      },
      "execution_count": null,
      "outputs": [
        {
          "output_type": "stream",
          "name": "stdout",
          "text": [
            "0-D Array: True\n",
            "Number of dimensions (ndim): 0\n",
            "Shape of the array (shape): ()\n",
            "Total number of elements (size): 1\n",
            "Data type of elements (dtype): bool\n"
          ]
        }
      ]
    },
    {
      "cell_type": "code",
      "source": [
        "# Example 3: Performing Operations on 0-D Arrays\n",
        "# Creating two 0-D arrays\n",
        "a = np.array(7)\n",
        "b = np.array(3)\n",
        "\n",
        "# Arithmetic operations\n",
        "sum_result = a + b\n",
        "product_result = a * b\n",
        "\n",
        "print(\"Sum of 0-D arrays:\", sum_result)\n",
        "print(\"Product of 0-D arrays:\", product_result)\n"
      ],
      "metadata": {
        "colab": {
          "base_uri": "https://localhost:8080/"
        },
        "id": "n2BN4A4d7kAT",
        "outputId": "f2251da5-4aa0-4eb1-8e11-f032ae7a6668"
      },
      "execution_count": null,
      "outputs": [
        {
          "output_type": "stream",
          "name": "stdout",
          "text": [
            "Sum of 0-D arrays: 10\n",
            "Product of 0-D arrays: 21\n"
          ]
        }
      ]
    },
    {
      "cell_type": "code",
      "source": [
        "# Example 4: Converting a 0-D Array to a Scalar\n",
        "# You can convert a 0-D array back to a Python scalar using the item() method.\n",
        "# 0-D array\n",
        "array = np.array(99)\n",
        "# Convert to scalar\n",
        "scalar_value = array.item()\n",
        "print(\"0D - Array: \",array)\n",
        "print(\"Type of 0D array : \",type(array))\n",
        "\n",
        "print(\"-----------    After Converting 0D Array back to python Scalar -----------\")\n",
        "\n",
        "print(\"Scalar value:\", scalar_value)\n",
        "print(\"Type of scalar value:\", type(scalar_value))\n"
      ],
      "metadata": {
        "colab": {
          "base_uri": "https://localhost:8080/"
        },
        "id": "LTzFuC1B7qlE",
        "outputId": "17be5ecc-9f8b-49e8-cd5d-9be10ea8bc59"
      },
      "execution_count": null,
      "outputs": [
        {
          "output_type": "stream",
          "name": "stdout",
          "text": [
            "0D - Array:  99\n",
            "Type of 0D array :  <class 'numpy.ndarray'>\n",
            "-----------    After Converting 0D Array back to python Scalar -----------\n",
            "Scalar value: 99\n",
            "Type of scalar value: <class 'int'>\n"
          ]
        }
      ]
    },
    {
      "cell_type": "markdown",
      "source": [
        "**1-D Arrays**\n",
        "\n",
        "---\n",
        "* An **array that has 0-D arrays as its elemen**ts is called **uni-dimensional or 1-D array.**\n",
        "\n",
        "* These are the most common and basic arrays.\n",
        "---\n",
        "* A 1-D array (one-dimensional array) in NumPy is the simplest form of an array that can hold multiple elements arranged in a single row or a single column. It is essentially a list of elements that can be accessed by their index.\n",
        "\n",
        "Key Characteristics of 1-D Arrays:\n",
        "\n",
        "* **Single Dimension:**A 1-D array has only one axis or dimension, which means it's a linear sequence of elements.\n",
        "* **Homogeneous Data Type:** All elements in a 1-D array must be of the same data type (e.g., all integers, all floats).\n",
        "* **Indexed Access:** Elements in a 1-D array can be accessed using their index, starting from 0.\n",
        "\n"
      ],
      "metadata": {
        "id": "ya4KT4216nss"
      }
    },
    {
      "cell_type": "markdown",
      "source": [
        "![image.png](data:image/png;base64,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)"
      ],
      "metadata": {
        "id": "d3u1-QpS5b6N"
      }
    },
    {
      "cell_type": "code",
      "source": [
        "import numpy as np\n",
        "\n",
        "# Creating python list\n",
        "l=[12.23,13.32,100,10.32]\n",
        "\n",
        "print(\"List : \",l)\n",
        "\n",
        "# Creating Numpy Array\n",
        "arr=np.array(l)\n",
        "\n",
        "# Printing one dimensional numpy array\n",
        "print(\"Numpy Array : \",arr)\n",
        "print(\"Array dimension : \",arr.ndim)"
      ],
      "metadata": {
        "colab": {
          "base_uri": "https://localhost:8080/"
        },
        "id": "DDtzLo945qtY",
        "outputId": "c49c7b6e-d9fa-40f0-8b43-b7068080a58f"
      },
      "execution_count": null,
      "outputs": [
        {
          "output_type": "stream",
          "name": "stdout",
          "text": [
            "List :  [12.23, 13.32, 100, 10.32]\n",
            "Numpy Array :  [ 12.23  13.32 100.    10.32]\n",
            "Array dimension :  1\n"
          ]
        }
      ]
    },
    {
      "cell_type": "markdown",
      "source": [
        "Create a 1-D array containing the values 1,2,3,4,5:"
      ],
      "metadata": {
        "id": "lnu6DDm6978t"
      }
    },
    {
      "cell_type": "code",
      "source": [
        "import numpy as np\n",
        "\n",
        "arr = np.array([1, 2, 3, 4, 5])\n",
        "\n",
        "print(arr)"
      ],
      "metadata": {
        "colab": {
          "base_uri": "https://localhost:8080/"
        },
        "id": "RbF6Vdj19-Nn",
        "outputId": "03f01a8b-812c-4fbb-fd54-d4eb8602023e"
      },
      "execution_count": null,
      "outputs": [
        {
          "output_type": "stream",
          "name": "stdout",
          "text": [
            "[1 2 3 4 5]\n"
          ]
        }
      ]
    },
    {
      "cell_type": "code",
      "source": [
        "import numpy as np\n",
        "\n",
        "# Creating a 1-D array\n",
        "array_1d = np.array([10, 20, 30, 40, 50])\n",
        "\n",
        "print(\"1-D Array:\", array_1d)\n",
        "print(\"Number of dimensions (ndim):\", array_1d.ndim)\n",
        "print(\"Shape of the array (shape):\", array_1d.shape)\n",
        "print(\"Total number of elements (size):\", array_1d.size)\n",
        "print(\"Data type of elements (dtype):\", array_1d.dtype)\n"
      ],
      "metadata": {
        "colab": {
          "base_uri": "https://localhost:8080/"
        },
        "id": "aZZWM2oh-CGC",
        "outputId": "0ab48f9b-19a7-4436-c4a8-14ef90a14b84"
      },
      "execution_count": null,
      "outputs": [
        {
          "output_type": "stream",
          "name": "stdout",
          "text": [
            "1-D Array: [10 20 30 40 50]\n",
            "Number of dimensions (ndim): 1\n",
            "Shape of the array (shape): (5,)\n",
            "Total number of elements (size): 5\n",
            "Data type of elements (dtype): int64\n"
          ]
        }
      ]
    },
    {
      "cell_type": "code",
      "source": [
        "# Accessing elements by index\n",
        "first_element = array_1d[0]\n",
        "third_element = array_1d[2]\n",
        "last_element = array_1d[-1]\n",
        "\n",
        "print(\"First element:\", first_element)\n",
        "print(\"Third element:\", third_element)\n",
        "print(\"Last element:\", last_element)\n"
      ],
      "metadata": {
        "colab": {
          "base_uri": "https://localhost:8080/"
        },
        "id": "s8H4mAng-Xjg",
        "outputId": "0d02cef2-ac4d-4859-e247-05e9346120ef"
      },
      "execution_count": null,
      "outputs": [
        {
          "output_type": "stream",
          "name": "stdout",
          "text": [
            "First element: 10\n",
            "Third element: 30\n",
            "Last element: 50\n"
          ]
        }
      ]
    },
    {
      "cell_type": "markdown",
      "source": [
        "**What Does dtype Represent?**\n",
        "* dtype stands for \"data type.\"\n",
        "* It describes the type of elements contained within the array, such as integers, floating-point numbers, or strings.\n",
        "* NumPy arrays are homogeneous, meaning all elements in the array must be of the same type, and dtype indicates what that type is."
      ],
      "metadata": {
        "id": "FnKTnsz6-N7d"
      }
    },
    {
      "cell_type": "markdown",
      "source": [
        "**Slicing a 1-D Array:**\n",
        "\n",
        "---\n",
        "\n"
      ],
      "metadata": {
        "id": "OxFmfwRU-T47"
      }
    },
    {
      "cell_type": "code",
      "source": [
        "# Slicing the array from index 1 to 3\n",
        "sub_array = array_1d[1:4]\n",
        "print(array_1d)\n",
        "print(\"Sliced array:\", sub_array)\n"
      ],
      "metadata": {
        "colab": {
          "base_uri": "https://localhost:8080/"
        },
        "id": "dzzM0HdL-dWA",
        "outputId": "266f2a29-0481-4056-f0a3-5f553d2651f4"
      },
      "execution_count": null,
      "outputs": [
        {
          "output_type": "stream",
          "name": "stdout",
          "text": [
            "[10 20 30 40 50]\n",
            "Sliced array: [20 30 40]\n"
          ]
        }
      ]
    },
    {
      "cell_type": "markdown",
      "source": [
        "Performing Operations on a 1-D Array:"
      ],
      "metadata": {
        "id": "zpwArPg3-sxf"
      }
    },
    {
      "cell_type": "code",
      "source": [
        "# Adding a scalar to each element\n",
        "array_plus_ten = array_1d + 10\n",
        "\n",
        "# Multiplying each element by 2\n",
        "array_times_two = array_1d * 2\n",
        "\n",
        "print(\"Array after adding 10:\", array_plus_ten)\n",
        "print(\"Array after multiplying by 2:\", array_times_two)\n"
      ],
      "metadata": {
        "colab": {
          "base_uri": "https://localhost:8080/"
        },
        "id": "obgX2BSG-tSG",
        "outputId": "a1d560c4-b9c9-4aef-c757-606592d1c796"
      },
      "execution_count": null,
      "outputs": [
        {
          "output_type": "stream",
          "name": "stdout",
          "text": [
            "Array after adding 10: [20 30 40 50 60]\n",
            "Array after multiplying by 2: [ 20  40  60  80 100]\n"
          ]
        }
      ]
    },
    {
      "cell_type": "markdown",
      "source": [
        "1. Print an array range between 1 to 35 and show 7 integer random numbers"
      ],
      "metadata": {
        "id": "9gsHHnlQ-16K"
      }
    },
    {
      "cell_type": "code",
      "source": [
        "import numpy as np\n",
        "rand_arr = np.random.randint(1,35,7)\n",
        "\n",
        "print(rand_arr)\n",
        "print(type(rand_arr))\n",
        "\n"
      ],
      "metadata": {
        "colab": {
          "base_uri": "https://localhost:8080/"
        },
        "id": "cTabAAvF--XB",
        "outputId": "eb8ef5b9-4ef3-4620-c4e4-4ee07a2c67bc"
      },
      "execution_count": null,
      "outputs": [
        {
          "output_type": "stream",
          "name": "stdout",
          "text": [
            "[ 6  1  2 24 27  9 10]\n",
            "<class 'numpy.ndarray'>\n"
          ]
        }
      ]
    },
    {
      "cell_type": "markdown",
      "source": [
        "**2-D Arrays**\n",
        "\n",
        "---\n",
        "* An array that has 1-D arrays as its elements is called a 2-D array.\n",
        "\n",
        "* These are often used to represent matrix or 2nd order tensors.\n",
        "\n",
        "* NumPy has a whole sub module dedicated towards matrix operations called **numpy.mat**\n",
        "\n",
        "\n",
        "---\n",
        "* A 2-D array (two-dimensional array) in NumPy is an array that has two dimensions, often visualized as **rows and columns, similar to a matrix or a table**. This structure allows you to store data in a grid format, making it suitable for representing things like matrices, image data, or tabular data.\n",
        "Key Characteristics of 2-D Arrays:\n",
        "\n",
        "* **Two Dimensions:** A 2-D array has rows and columns. The shape of the array is described by a tuple (rows, columns).\n",
        "* **Homogeneous Data Type:** All elements in a 2-D array must be of the same data type.\n",
        "* **Indexed Access:** Elements can be accessed using two indices: one for the row and one for the column."
      ],
      "metadata": {
        "id": "c-j6Qho1_qAd"
      }
    },
    {
      "cell_type": "markdown",
      "source": [
        "Create a 2-D array containing two arrays with the values 1,2,3 and 4,5,6:\n",
        "\n",
        "---\n",
        "\n"
      ],
      "metadata": {
        "id": "gqTsPFnvANxS"
      }
    },
    {
      "cell_type": "code",
      "source": [
        "import numpy as np\n",
        "\n",
        "arr = np.array([[1, 2, 3], [4, 5, 6]])\n",
        "\n",
        "print(arr)"
      ],
      "metadata": {
        "colab": {
          "base_uri": "https://localhost:8080/"
        },
        "id": "grJ6FEmEAOTt",
        "outputId": "d67bccfd-8652-41cb-efdb-6af6673575a0"
      },
      "execution_count": null,
      "outputs": [
        {
          "output_type": "stream",
          "name": "stdout",
          "text": [
            "[[1 2 3]\n",
            " [4 5 6]]\n"
          ]
        }
      ]
    },
    {
      "cell_type": "code",
      "source": [
        "# Example of Creating a 2-D Array:\n",
        "import numpy as np\n",
        "\n",
        "# Creating a 2-D array (matrix)\n",
        "array_2d = np.array([[1, 2, 3], [4, 5, 6], [7, 8, 9]])\n",
        "\n",
        "print(\"2-D Array:\\n\", array_2d)\n",
        "print(\"Number of dimensions (ndim):\", array_2d.ndim)\n",
        "print(\"Shape of the array (shape):\", array_2d.shape)\n",
        "print(\"Total number of elements (size):\", array_2d.size)\n",
        "print(\"Data type of elements (dtype):\", array_2d.dtype)\n"
      ],
      "metadata": {
        "colab": {
          "base_uri": "https://localhost:8080/"
        },
        "id": "AbglzxB7CfpR",
        "outputId": "d89b94ab-7a57-4d59-8259-f765ffee26c7"
      },
      "execution_count": null,
      "outputs": [
        {
          "output_type": "stream",
          "name": "stdout",
          "text": [
            "2-D Array:\n",
            " [[1 2 3]\n",
            " [4 5 6]\n",
            " [7 8 9]]\n",
            "Number of dimensions (ndim): 2\n",
            "Shape of the array (shape): (3, 3)\n",
            "Total number of elements (size): 9\n",
            "Data type of elements (dtype): int64\n"
          ]
        }
      ]
    },
    {
      "cell_type": "markdown",
      "source": [
        "Accessing Elements in a 2-D Array:\n",
        "\n",
        "---\n",
        "\n"
      ],
      "metadata": {
        "id": "p7x-QtQzCvWP"
      }
    },
    {
      "cell_type": "code",
      "source": [
        "# Accessing the element at row 1, column 2\n",
        "element = array_2d[1, 2]\n",
        "\n",
        "print(\"Element @ row 1 and @ column 2 is : \", element)\n",
        "\n",
        "# first row or column is indexed as 0, the second as 1, and so on."
      ],
      "metadata": {
        "colab": {
          "base_uri": "https://localhost:8080/"
        },
        "id": "FhrYpaNtCv7S",
        "outputId": "87f84af3-9c2b-4dc2-a90d-bc06da9b98b9"
      },
      "execution_count": null,
      "outputs": [
        {
          "output_type": "stream",
          "name": "stdout",
          "text": [
            "Element @ row 1 and @ column 2 is :  6\n"
          ]
        }
      ]
    },
    {
      "cell_type": "code",
      "source": [
        "import numpy as np\n",
        "# --------------------------  Accessing Row -----------------------------\n",
        "# Creating a 2-D array\n",
        "array_2d = np.array([[1, 2, 3], [4, 5, 6], [7, 8, 9]])\n",
        "print(array_2d)\n",
        "\n",
        "# Accessing the first row\n",
        "first_row = array_2d[0, :]\n",
        "\n",
        "print(\"First Row:\", first_row)\n",
        "\n",
        "# Accessing the second row (index 1)\n",
        "second_row = array_2d[1, :]\n",
        "\n",
        "print(\"Second Row:\", second_row)\n"
      ],
      "metadata": {
        "colab": {
          "base_uri": "https://localhost:8080/"
        },
        "id": "O1QnYLytDrle",
        "outputId": "c892ae27-507c-453c-a9a5-bfc7eac76d3d"
      },
      "execution_count": null,
      "outputs": [
        {
          "output_type": "stream",
          "name": "stdout",
          "text": [
            "[[1 2 3]\n",
            " [4 5 6]\n",
            " [7 8 9]]\n",
            "First Row: [1 2 3]\n",
            "Second Row: [4 5 6]\n"
          ]
        }
      ]
    },
    {
      "cell_type": "code",
      "source": [
        "#--------------  Accessing Column ------------------\n",
        "\n",
        "# Accessing the third column (index 2)\n",
        "third_column = array_2d[:, 2]\n",
        "\n",
        "print(\"Third Column:\", third_column)\n"
      ],
      "metadata": {
        "colab": {
          "base_uri": "https://localhost:8080/"
        },
        "id": "OmOmxOd8EGdg",
        "outputId": "7e1d6554-6943-415a-d40d-d150f2301f75"
      },
      "execution_count": null,
      "outputs": [
        {
          "output_type": "stream",
          "name": "stdout",
          "text": [
            "Third Column: [3 6 9]\n"
          ]
        }
      ]
    },
    {
      "cell_type": "markdown",
      "source": [
        "**1.How to add matrices using numpy?**"
      ],
      "metadata": {
        "id": "aL0hy_xJE4Fp"
      }
    },
    {
      "cell_type": "code",
      "source": [
        "import numpy as np\n",
        "\n",
        "# Creating two matrices (2-D arrays)\n",
        "matrix_A = np.array([[1, 2, 3], [4, 5, 6]])\n",
        "matrix_B = np.array([[7, 8, 9], [10, 11, 12]])\n",
        "\n",
        "print(\"Matrix A:\\n\", matrix_A)\n",
        "print(\"Matrix B:\\n\", matrix_B)\n",
        "\n",
        "# Adding the two matrices\n",
        "result_matrix = matrix_A + matrix_B\n",
        "\n",
        "print(\"Result of Matrix Addition:\\n\", result_matrix)\n"
      ],
      "metadata": {
        "colab": {
          "base_uri": "https://localhost:8080/"
        },
        "id": "DhrhyCrtE8E3",
        "outputId": "c8add60a-8605-443c-8b80-1cb689383729"
      },
      "execution_count": null,
      "outputs": [
        {
          "output_type": "stream",
          "name": "stdout",
          "text": [
            "Matrix A:\n",
            " [[1 2 3]\n",
            " [4 5 6]]\n",
            "Matrix B:\n",
            " [[ 7  8  9]\n",
            " [10 11 12]]\n",
            "Result of Matrix Addition:\n",
            " [[ 8 10 12]\n",
            " [14 16 18]]\n"
          ]
        }
      ]
    },
    {
      "cell_type": "markdown",
      "source": [
        "**2. How to multiply two matrices using np.multiply()**"
      ],
      "metadata": {
        "id": "Bxn3Nxo6FCm-"
      }
    },
    {
      "cell_type": "code",
      "source": [
        "# Performing element-wise multiplication\n",
        "result_matrix = np.multiply(matrix_A, matrix_B)\n",
        "\n",
        "print(\"Result of Element-Wise Multiplication:\\n\", result_matrix)\n"
      ],
      "metadata": {
        "colab": {
          "base_uri": "https://localhost:8080/"
        },
        "id": "2WE582PTFLrQ",
        "outputId": "8bf55729-bdd4-484c-8519-43be84f9ac64"
      },
      "execution_count": null,
      "outputs": [
        {
          "output_type": "stream",
          "name": "stdout",
          "text": [
            "Result of Element-Wise Multiplication:\n",
            " [[ 7 16 27]\n",
            " [40 55 72]]\n"
          ]
        }
      ]
    },
    {
      "cell_type": "markdown",
      "source": [
        "**3.How to find the transpose of the matrix using numpy? use np.transpose()**"
      ],
      "metadata": {
        "id": "TOQDQZYiFYw2"
      }
    },
    {
      "cell_type": "code",
      "source": [
        "import numpy as np\n",
        "\n",
        "# Creating a matrix (2-D array)\n",
        "matrix = np.array([[1, 2, 3], [4, 5, 6]])\n",
        "\n",
        "print(\"Original Matrix:\\n\", matrix)\n"
      ],
      "metadata": {
        "colab": {
          "base_uri": "https://localhost:8080/"
        },
        "id": "M_d-cnQXFiVW",
        "outputId": "a59f89b0-5054-47f6-cb6b-28ecab86a536"
      },
      "execution_count": null,
      "outputs": [
        {
          "output_type": "stream",
          "name": "stdout",
          "text": [
            "Original Matrix:\n",
            " [[1 2 3]\n",
            " [4 5 6]]\n"
          ]
        }
      ]
    },
    {
      "cell_type": "code",
      "source": [
        "# Finding the transpose of the matrix\n",
        "transposed_matrix = np.transpose(matrix)\n",
        "\n",
        "print(\"Transposed Matrix:\\n\", transposed_matrix)\n"
      ],
      "metadata": {
        "colab": {
          "base_uri": "https://localhost:8080/"
        },
        "id": "mnLrkbyNFldP",
        "outputId": "7b4873aa-9dd7-4a18-a247-9d1474b0a62e"
      },
      "execution_count": null,
      "outputs": [
        {
          "output_type": "stream",
          "name": "stdout",
          "text": [
            "Transposed Matrix:\n",
            " [[1 4]\n",
            " [2 5]\n",
            " [3 6]]\n"
          ]
        }
      ]
    },
    {
      "cell_type": "code",
      "source": [
        "# Finding the transpose of the matrix using the .T attribute\n",
        "transposed_matrix = matrix.T\n",
        "\n",
        "print(\"Transposed Matrix (using .T attribute):\\n\", transposed_matrix)\n"
      ],
      "metadata": {
        "colab": {
          "base_uri": "https://localhost:8080/"
        },
        "id": "qgF-7SolFqZi",
        "outputId": "c1667e82-6661-4dbc-b712-662f1788116f"
      },
      "execution_count": null,
      "outputs": [
        {
          "output_type": "stream",
          "name": "stdout",
          "text": [
            "Transposed Matrix (using .T attribute):\n",
            " [[1 4]\n",
            " [2 5]\n",
            " [3 6]]\n"
          ]
        }
      ]
    },
    {
      "cell_type": "markdown",
      "source": [
        "**3-D arrays**\n",
        "\n",
        "---\n",
        "* An array that has 2-D arrays (matrices) as its elements is called 3-D array.\n",
        "\n",
        "* These are often used to represent a 3rd order tensor.\n",
        "\n",
        "\n",
        "---\n",
        "* A 3-D array in NumPy is an array with three dimensions, which can be visualized as a stack of 2-D matrices or grids. It is essentially a collection of matrices, where each matrix represents a \"layer\" in the 3-D structure. This type of array is useful for handling more complex data, such as images with multiple color channels or datasets with multiple features.\n",
        "\n"
      ],
      "metadata": {
        "id": "AY1RtQAuFyeN"
      }
    },
    {
      "cell_type": "markdown",
      "source": [
        "Create a 3-D array with two 2-D arrays, both containing two arrays with the values 1,2,3 and 4,5,6:"
      ],
      "metadata": {
        "id": "ksfCsNSMJHVR"
      }
    },
    {
      "cell_type": "code",
      "source": [
        "import numpy as np\n",
        "\n",
        "arr = np.array([[[1, 2, 3], [4, 5, 6]], [[1, 2, 3], [4, 5, 6]]])\n",
        "\n",
        "print(arr)"
      ],
      "metadata": {
        "colab": {
          "base_uri": "https://localhost:8080/"
        },
        "id": "aq7PvQFKJIBb",
        "outputId": "716ffa8a-584b-4578-f81a-98cb7ba2ca19"
      },
      "execution_count": null,
      "outputs": [
        {
          "output_type": "stream",
          "name": "stdout",
          "text": [
            "[[[1 2 3]\n",
            "  [4 5 6]]\n",
            "\n",
            " [[1 2 3]\n",
            "  [4 5 6]]]\n"
          ]
        }
      ]
    },
    {
      "cell_type": "code",
      "source": [
        "import numpy as np\n",
        "\n",
        "# Creating a 3-D array\n",
        "array_3d = np.array([[[1, 2, 3], [4, 5, 6]],\n",
        "                     [[7, 8, 9], [10, 11, 12]],\n",
        "                     [[13, 14, 15], [16, 17, 18]]])\n",
        "\n",
        "print(\"3-D Array:\\n\", array_3d)\n"
      ],
      "metadata": {
        "colab": {
          "base_uri": "https://localhost:8080/"
        },
        "id": "Zj40YkbHJRf7",
        "outputId": "927f262c-8385-47a0-c138-001a172cbd21"
      },
      "execution_count": null,
      "outputs": [
        {
          "output_type": "stream",
          "name": "stdout",
          "text": [
            "3-D Array:\n",
            " [[[ 1  2  3]\n",
            "  [ 4  5  6]]\n",
            "\n",
            " [[ 7  8  9]\n",
            "  [10 11 12]]\n",
            "\n",
            " [[13 14 15]\n",
            "  [16 17 18]]]\n"
          ]
        }
      ]
    },
    {
      "cell_type": "markdown",
      "source": [
        "**Accessing Elements in a 3-D Array:**\n",
        "\n",
        "---\n",
        "\n"
      ],
      "metadata": {
        "id": "LbKRQ0m7JVFB"
      }
    },
    {
      "cell_type": "markdown",
      "source": [
        "You can access elements in a 3-D array using three indices:**[depth, row, column].**"
      ],
      "metadata": {
        "id": "26_rdC82JY4R"
      }
    },
    {
      "cell_type": "code",
      "source": [
        "# Accessing an element in the 3-D array\n",
        "element = array_3d[1, 0, 2]  # Accessing the element at depth 1, row 0, column 2\n",
        "print(array_3d)\n",
        "print(\"-----------------------\")\n",
        "print(\"Element at depth 1, row 0, column 2:\", element)\n"
      ],
      "metadata": {
        "colab": {
          "base_uri": "https://localhost:8080/"
        },
        "id": "pt3Xbi5SJWJJ",
        "outputId": "c8b49ad3-3cb3-4029-b490-3304bae0dda8"
      },
      "execution_count": null,
      "outputs": [
        {
          "output_type": "stream",
          "name": "stdout",
          "text": [
            "[[[ 1  2  3]\n",
            "  [ 4  5  6]]\n",
            "\n",
            " [[ 7  8  9]\n",
            "  [10 11 12]]\n",
            "\n",
            " [[13 14 15]\n",
            "  [16 17 18]]]\n",
            "-----------------------\n",
            "Element at depth 1, row 0, column 2: 9\n"
          ]
        }
      ]
    },
    {
      "cell_type": "markdown",
      "source": [
        "**Accessing a Specific Matrix (2-D Slice) in the 3-D Array:**"
      ],
      "metadata": {
        "id": "wmmR_yP6Js6I"
      }
    },
    {
      "cell_type": "code",
      "source": [
        "# Accessing a 2-D matrix (depth slice) from the 3-D array\n",
        "matrix_at_depth_1 = array_3d[1]\n",
        "print(array_3d)\n",
        "print(\"2-D Matrix at depth 1:\\n\", matrix_at_depth_1)\n"
      ],
      "metadata": {
        "colab": {
          "base_uri": "https://localhost:8080/"
        },
        "id": "jICdPOfbJuUP",
        "outputId": "b013cb87-404b-4133-bd9d-6de22f16171b"
      },
      "execution_count": null,
      "outputs": [
        {
          "output_type": "stream",
          "name": "stdout",
          "text": [
            "[[[ 1  2  3]\n",
            "  [ 4  5  6]]\n",
            "\n",
            " [[ 7  8  9]\n",
            "  [10 11 12]]\n",
            "\n",
            " [[13 14 15]\n",
            "  [16 17 18]]]\n",
            "2-D Matrix at depth 1:\n",
            " [[ 7  8  9]\n",
            " [10 11 12]]\n"
          ]
        }
      ]
    },
    {
      "cell_type": "markdown",
      "source": [
        "**Slicing a 3-D Array:**"
      ],
      "metadata": {
        "id": "pNp36-lQJx2Q"
      }
    },
    {
      "cell_type": "code",
      "source": [
        "# Slicing the 3-D array to get a sub-array\n",
        "sub_array = array_3d[:2, 1:, :2]  # Slicing the first two matrices, rows from index 1, and columns up to index 2\n",
        "print(array_3d)\n",
        "print(\"-------------------------------------------------------\")\n",
        "print(\"Sliced 3-D Array:\\n\", sub_array)\n"
      ],
      "metadata": {
        "colab": {
          "base_uri": "https://localhost:8080/"
        },
        "id": "NjjLR1XIJ0w5",
        "outputId": "1a263079-b370-4cb6-d0f4-a2d1cec33624"
      },
      "execution_count": null,
      "outputs": [
        {
          "output_type": "stream",
          "name": "stdout",
          "text": [
            "[[[ 1  2  3]\n",
            "  [ 4  5  6]]\n",
            "\n",
            " [[ 7  8  9]\n",
            "  [10 11 12]]\n",
            "\n",
            " [[13 14 15]\n",
            "  [16 17 18]]]\n",
            "-------------------------------------------------------\n",
            "Sliced 3-D Array:\n",
            " [[[ 4  5]]\n",
            "\n",
            " [[10 11]]]\n"
          ]
        }
      ]
    },
    {
      "cell_type": "markdown",
      "source": [
        "**Check Number of Dimensions?**"
      ],
      "metadata": {
        "id": "9Dycj5D1KDJM"
      }
    },
    {
      "cell_type": "code",
      "source": [
        "import numpy as np\n",
        "\n",
        "a = np.array(42)\n",
        "b = np.array([1, 2, 3, 4, 5])\n",
        "c = np.array([[1, 2, 3], [4, 5, 6]])\n",
        "d = np.array([[[1, 2, 3], [4, 5, 6]], [[1, 2, 3], [4, 5, 6]]])\n",
        "\n",
        "print(a.ndim)\n",
        "print(b.ndim)\n",
        "print(c.ndim)\n",
        "print(d.ndim)"
      ],
      "metadata": {
        "colab": {
          "base_uri": "https://localhost:8080/"
        },
        "id": "9S7kgsYGKEPP",
        "outputId": "ba07017d-ef9d-4702-d135-ff3b323b929e"
      },
      "execution_count": null,
      "outputs": [
        {
          "output_type": "stream",
          "name": "stdout",
          "text": [
            "0\n",
            "1\n",
            "2\n",
            "3\n"
          ]
        }
      ]
    },
    {
      "cell_type": "markdown",
      "source": [
        "Higher Dimensional Arrays\n",
        "\n",
        "---\n",
        "* An array can have any number of dimensions.\n",
        "\n",
        "* When the array is created, you can define the number of dimensions by using the ndmin argument.\n",
        "\n"
      ],
      "metadata": {
        "id": "MuoMRynyKJjC"
      }
    },
    {
      "cell_type": "code",
      "source": [
        "import numpy as np\n",
        "\n",
        "arr = np.array([1, 2, 3, 4], ndmin=5)\n",
        "\n",
        "print(arr)\n",
        "print('number of dimensions :', arr.ndim)"
      ],
      "metadata": {
        "colab": {
          "base_uri": "https://localhost:8080/"
        },
        "id": "39G5vpsaKOxP",
        "outputId": "34d074b4-7490-4e70-e47e-d1f7a7970694"
      },
      "execution_count": null,
      "outputs": [
        {
          "output_type": "stream",
          "name": "stdout",
          "text": [
            "[[[[[1 2 3 4]]]]]\n",
            "number of dimensions : 5\n"
          ]
        }
      ]
    },
    {
      "cell_type": "markdown",
      "source": [
        "In this array the innermost dimension (5th dim) has 4 elements, the 4th dim has 1 element that is the vector, the 3rd dim has 1 element that is the matrix with the vector, the 2nd dim has 1 element that is 3D array and 1st dim has 1 element that is a 4D array."
      ],
      "metadata": {
        "id": "SdR2eb7WKT6r"
      }
    },
    {
      "cell_type": "markdown",
      "source": [
        "**arange()**\n",
        "\n",
        "---\n",
        "* Returns an array with evenly spaced elements as per the interval. The interval mentioned is half-opened\n",
        "* [Start,stop),\n",
        "* Start Stop Step\n"
      ],
      "metadata": {
        "id": "N39OC8vcKWBv"
      }
    },
    {
      "cell_type": "code",
      "source": [
        "import numpy as np\n",
        "array=np.arange(start=0,stop=10,step=1)\n",
        "array1=np.arange(0,10,1)\n",
        "print(array)\n",
        "print(array1)"
      ],
      "metadata": {
        "colab": {
          "base_uri": "https://localhost:8080/"
        },
        "id": "sE0YGlhZK85v",
        "outputId": "ea0cb362-8efa-4dc1-cb00-dd10fd2a47d0"
      },
      "execution_count": null,
      "outputs": [
        {
          "output_type": "stream",
          "name": "stdout",
          "text": [
            "[0 1 2 3 4 5 6 7 8 9]\n",
            "[0 1 2 3 4 5 6 7 8 9]\n"
          ]
        }
      ]
    },
    {
      "cell_type": "markdown",
      "source": [
        "1. Write a program to create 3x3 matrix with values ranging from 2 to 10."
      ],
      "metadata": {
        "id": "zcWgrgJLNAjw"
      }
    },
    {
      "cell_type": "code",
      "source": [
        "import numpy as np\n",
        "\n",
        "# Creating a 3x3 matrix with values ranging from 2 to 10\n",
        "# And reshaping it to 3x3 matrix\n",
        "\n",
        "x= np.arange(2, 11).reshape(3,3)\n",
        "print(x)\n",
        "\n",
        "print(\"-----------------------\")\n",
        "first =np.arange(2,11)\n",
        "print(first)\n",
        "print(\"-----------------------\")\n",
        "\n",
        "second=first.reshape(3,3)\n",
        "print(second)\n",
        "print(second.ndim)"
      ],
      "metadata": {
        "colab": {
          "base_uri": "https://localhost:8080/"
        },
        "id": "ED-11fztNJhz",
        "outputId": "d8a4a92a-3caa-4266-b713-47749076e580"
      },
      "execution_count": null,
      "outputs": [
        {
          "output_type": "stream",
          "name": "stdout",
          "text": [
            "[[ 2  3  4]\n",
            " [ 5  6  7]\n",
            " [ 8  9 10]]\n",
            "-----------------------\n",
            "[ 2  3  4  5  6  7  8  9 10]\n",
            "-----------------------\n",
            "[[ 2  3  4]\n",
            " [ 5  6  7]\n",
            " [ 8  9 10]]\n",
            "2\n"
          ]
        }
      ]
    },
    {
      "cell_type": "markdown",
      "source": [
        "2. How do you create an array with all values as zeros and ones\n",
        "* use np.zeros()\n",
        "* use np.ones()"
      ],
      "metadata": {
        "id": "yA-AQ-HzN8Qt"
      }
    },
    {
      "cell_type": "code",
      "source": [
        "# np.zeros(shape, dtype=float, order='C')\n"
      ],
      "metadata": {
        "id": "UO_Gt9VjOUdT"
      },
      "execution_count": null,
      "outputs": []
    },
    {
      "cell_type": "code",
      "source": [
        "import numpy as np\n",
        "\n",
        "# Creating a 1-D array of zeros with 5 elements\n",
        "array_1d_zeros = np.zeros(5)\n",
        "print(\"1-D Array of Zeros:\\n\", array_1d_zeros)\n",
        "\n",
        "# Creating a 2-D array of zeros with shape (3, 4)\n",
        "array_2d_zeros = np.zeros((3, 4))\n",
        "print(\"2-D Array of Zeros:\\n\", array_2d_zeros)\n",
        "\n",
        "# Creating a 3-D array of zeros with shape (2, 3, 4)\n",
        "array_3d_zeros = np.zeros((2, 3, 4))\n",
        "print(\"3-D Array of Zeros:\\n\", array_3d_zeros)\n"
      ],
      "metadata": {
        "colab": {
          "base_uri": "https://localhost:8080/"
        },
        "id": "75B6-f-COH82",
        "outputId": "251107aa-cfd1-4b54-a662-d2f6adb1fa61"
      },
      "execution_count": null,
      "outputs": [
        {
          "output_type": "stream",
          "name": "stdout",
          "text": [
            "1-D Array of Zeros:\n",
            " [0. 0. 0. 0. 0.]\n",
            "2-D Array of Zeros:\n",
            " [[0. 0. 0. 0.]\n",
            " [0. 0. 0. 0.]\n",
            " [0. 0. 0. 0.]]\n",
            "3-D Array of Zeros:\n",
            " [[[0. 0. 0. 0.]\n",
            "  [0. 0. 0. 0.]\n",
            "  [0. 0. 0. 0.]]\n",
            "\n",
            " [[0. 0. 0. 0.]\n",
            "  [0. 0. 0. 0.]\n",
            "  [0. 0. 0. 0.]]]\n"
          ]
        }
      ]
    },
    {
      "cell_type": "code",
      "source": [
        "import numpy as np\n",
        "\n",
        "# Creating a 1-D array of ones with 5 elements\n",
        "array_1d_ones = np.ones(5)\n",
        "print(\"1-D Array of Ones:\\n\", array_1d_ones)\n",
        "\n",
        "# Creating a 2-D array of ones with shape (3, 4)\n",
        "array_2d_ones = np.ones((3, 4))\n",
        "print(\"2-D Array of Ones:\\n\", array_2d_ones)\n",
        "\n",
        "# Creating a 3-D array of ones with shape (2, 3, 4)\n",
        "array_3d_ones = np.ones((2, 3, 4))\n",
        "print(\"3-D Array of Ones:\\n\", array_3d_ones)\n"
      ],
      "metadata": {
        "colab": {
          "base_uri": "https://localhost:8080/"
        },
        "id": "wgZNtL3cOdi-",
        "outputId": "74fada5d-4bea-4961-8bf0-9e514446e22f"
      },
      "execution_count": null,
      "outputs": [
        {
          "output_type": "stream",
          "name": "stdout",
          "text": [
            "1-D Array of Ones:\n",
            " [1. 1. 1. 1. 1.]\n",
            "2-D Array of Ones:\n",
            " [[1. 1. 1. 1.]\n",
            " [1. 1. 1. 1.]\n",
            " [1. 1. 1. 1.]]\n",
            "3-D Array of Ones:\n",
            " [[[1. 1. 1. 1.]\n",
            "  [1. 1. 1. 1.]\n",
            "  [1. 1. 1. 1.]]\n",
            "\n",
            " [[1. 1. 1. 1.]\n",
            "  [1. 1. 1. 1.]\n",
            "  [1. 1. 1. 1.]]]\n"
          ]
        }
      ]
    },
    {
      "cell_type": "markdown",
      "source": [
        "* The **eye tool returns a 2-D array with  1’s as the diagonal and  0’s elsewhere**. The diagonal can be main, upper, or lower depending on the optional parameter k. **A positive k is for the upper diagonal, a negative k is for the lower, and a  0 k (default) is for the main diagonal.**"
      ],
      "metadata": {
        "id": "n_TY8ZceO5J2"
      }
    },
    {
      "cell_type": "code",
      "source": [
        "# Python Programming illustrating\n",
        "# numpy.eye method\n",
        "\n",
        "import numpy as np\n",
        "\n",
        "# 2x2 matrix with 1's on main diagonal\n",
        "b = np.eye(2)\n",
        "print(\"Matrix b : \\n\", b)\n",
        "print(\"-------------------------------------------\")\n",
        "\n",
        "b = np.eye(3)\n",
        "print(\"Matrix b : \\n\", b)\n",
        "print(\"--------------  below ( k = -1)  -----------------------------\")\n",
        "\n",
        "# matrix with R=4 C=5 and 1 on diagonal\n",
        "# below main diagonal\n",
        "a = np.eye(4, 5, k = -1)\n",
        "print(\"\\nMatrix a : \\n\", a)\n",
        "print(\"------------------above ( k = 1 )  -------------------------\")\n",
        "\n",
        "# above main diagonal\n",
        "a = np.eye(4, 5, k = 1)\n",
        "print(\"\\nMatrix a : \\n\", a)\n"
      ],
      "metadata": {
        "colab": {
          "base_uri": "https://localhost:8080/"
        },
        "id": "BWb253YMOvqI",
        "outputId": "4469d156-748c-4d09-dea1-bead65226603"
      },
      "execution_count": null,
      "outputs": [
        {
          "output_type": "stream",
          "name": "stdout",
          "text": [
            "Matrix b : \n",
            " [[1. 0.]\n",
            " [0. 1.]]\n",
            "-------------------------------------------\n",
            "Matrix b : \n",
            " [[1. 0. 0.]\n",
            " [0. 1. 0.]\n",
            " [0. 0. 1.]]\n",
            "--------------  below ( k = -1)  -----------------------------\n",
            "\n",
            "Matrix a : \n",
            " [[0. 0. 0. 0. 0.]\n",
            " [1. 0. 0. 0. 0.]\n",
            " [0. 1. 0. 0. 0.]\n",
            " [0. 0. 1. 0. 0.]]\n",
            "------------------above ( k = 1 )  -------------------------\n",
            "\n",
            "Matrix a : \n",
            " [[0. 1. 0. 0. 0.]\n",
            " [0. 0. 1. 0. 0.]\n",
            " [0. 0. 0. 1. 0.]\n",
            " [0. 0. 0. 0. 1.]]\n"
          ]
        }
      ]
    },
    {
      "cell_type": "markdown",
      "source": [
        "# NumPy Array Indexing"
      ],
      "metadata": {
        "id": "917URpp8PZ-b"
      }
    },
    {
      "cell_type": "markdown",
      "source": [
        "**Access Array Elements**\n",
        "\n",
        "* Array indexing is the same as accessing an array element.\n",
        "\n",
        "* You can access an array element by referring to its index number.\n",
        "\n",
        "* The indexes in NumPy arrays start with 0, meaning that the first element has index 0, and the second has index 1 etc."
      ],
      "metadata": {
        "id": "MbEpXyLmPbQD"
      }
    },
    {
      "cell_type": "markdown",
      "source": [
        "Get the first element from the following array:"
      ],
      "metadata": {
        "id": "r9RVYewOc3C1"
      }
    },
    {
      "cell_type": "code",
      "source": [
        "import numpy as np\n",
        "\n",
        "arr = np.array([1, 2, 3, 4])\n",
        "\n",
        "print(arr[0])"
      ],
      "metadata": {
        "colab": {
          "base_uri": "https://localhost:8080/"
        },
        "id": "bXa5rxiMc6Sg",
        "outputId": "deb16f2b-f29a-4ff3-e44d-553b3b771881"
      },
      "execution_count": null,
      "outputs": [
        {
          "output_type": "stream",
          "name": "stdout",
          "text": [
            "1\n"
          ]
        }
      ]
    },
    {
      "cell_type": "markdown",
      "source": [
        "Get the second element from the following array."
      ],
      "metadata": {
        "id": "cIlR1Xmbc8i8"
      }
    },
    {
      "cell_type": "code",
      "source": [
        "import numpy as np\n",
        "\n",
        "arr = np.array([1, 2, 3, 4])\n",
        "\n",
        "print(arr[1])"
      ],
      "metadata": {
        "colab": {
          "base_uri": "https://localhost:8080/"
        },
        "id": "Z_G__W5Sc-VK",
        "outputId": "b55d33ab-31c0-477e-a2b2-b2dd6395331b"
      },
      "execution_count": null,
      "outputs": [
        {
          "output_type": "stream",
          "name": "stdout",
          "text": [
            "2\n"
          ]
        }
      ]
    },
    {
      "cell_type": "markdown",
      "source": [
        "Get third and fourth elements from the following array and add them."
      ],
      "metadata": {
        "id": "Selvd2kddCEw"
      }
    },
    {
      "cell_type": "code",
      "source": [
        "import numpy as np\n",
        "\n",
        "arr = np.array([1, 2, 3, 4])\n",
        "\n",
        "print(arr[2] + arr[3])"
      ],
      "metadata": {
        "colab": {
          "base_uri": "https://localhost:8080/"
        },
        "id": "lsF8e0SzdCpB",
        "outputId": "e129b0b5-18ca-44ff-97b9-b23e355afbbc"
      },
      "execution_count": null,
      "outputs": [
        {
          "output_type": "stream",
          "name": "stdout",
          "text": [
            "7\n"
          ]
        }
      ]
    },
    {
      "cell_type": "markdown",
      "source": [
        "**Access 2-D Arrays**\n",
        "\n",
        "---\n",
        "* To access elements from 2-D arrays** we can use comma separated integers representing the dimension and the index of the element.**\n",
        "\n",
        "* Think of 2-D arrays like a table with rows and columns, **where the dimension represents the row and the index represents the column.**\n"
      ],
      "metadata": {
        "id": "M9L3695fdM24"
      }
    },
    {
      "cell_type": "markdown",
      "source": [
        "Access the element on the first row, second column:"
      ],
      "metadata": {
        "id": "BAatthX_dS9J"
      }
    },
    {
      "cell_type": "code",
      "source": [
        "import numpy as np\n",
        "\n",
        "arr = np.array([[1,2,3,4,5], [6,7,8,9,10]])\n",
        "\n",
        "print('2nd element on 1st row: ', arr[0, 1])"
      ],
      "metadata": {
        "colab": {
          "base_uri": "https://localhost:8080/"
        },
        "id": "7sN_asTedfFd",
        "outputId": "8ffa1c08-7a86-44f9-c60e-01b1e0bf88ca"
      },
      "execution_count": null,
      "outputs": [
        {
          "output_type": "stream",
          "name": "stdout",
          "text": [
            "2nd element on 1st row:  2\n"
          ]
        }
      ]
    },
    {
      "cell_type": "markdown",
      "source": [
        "Access the element on the 2nd row, 5th column:"
      ],
      "metadata": {
        "id": "O1cQj4eIdlBw"
      }
    },
    {
      "cell_type": "code",
      "source": [
        "import numpy as np\n",
        "\n",
        "arr = np.array([[1,2,3,4,5], [6,7,8,9,10]])\n",
        "\n",
        "print('5th element on 2nd row: ', arr[1, 4])"
      ],
      "metadata": {
        "colab": {
          "base_uri": "https://localhost:8080/"
        },
        "id": "46U6xiySdlwt",
        "outputId": "6ea79854-a725-4b0b-9c2d-503bb8fdd10e"
      },
      "execution_count": null,
      "outputs": [
        {
          "output_type": "stream",
          "name": "stdout",
          "text": [
            "5th element on 2nd row:  10\n"
          ]
        }
      ]
    },
    {
      "cell_type": "markdown",
      "source": [
        "**Access 3-D Arrays**\n",
        "\n",
        "---\n",
        "* To access elements from 3-D arrays we can use comma separated integers representing the dimensions and the index of the element.\n",
        "\n"
      ],
      "metadata": {
        "id": "c1VrV2fJdpaH"
      }
    },
    {
      "cell_type": "markdown",
      "source": [
        "Access the third element of the second array of the first array:"
      ],
      "metadata": {
        "id": "aBLNzqMmejJf"
      }
    },
    {
      "cell_type": "code",
      "source": [
        "import numpy as np\n",
        "\n",
        "arr = np.array([[[1, 2, 3], [4, 5, 6]], [[7, 8, 9], [10, 11, 12]]])\n",
        "\n",
        "print(arr[0, 1, 2])"
      ],
      "metadata": {
        "colab": {
          "base_uri": "https://localhost:8080/"
        },
        "id": "-c43iSDWdrOo",
        "outputId": "3b63e64d-a484-48d4-dfc1-4ddd14d21432"
      },
      "execution_count": null,
      "outputs": [
        {
          "output_type": "stream",
          "name": "stdout",
          "text": [
            "6\n"
          ]
        }
      ]
    },
    {
      "cell_type": "markdown",
      "source": [
        "**Negative Indexing**\n",
        "\n",
        "---\n",
        "\n",
        "* Use negative indexing to access an array from the end."
      ],
      "metadata": {
        "id": "1rXk6OTbe_Xi"
      }
    },
    {
      "cell_type": "code",
      "source": [
        "import numpy as np\n",
        "\n",
        "arr = np.array([[1,2,3,4,5], [6,7,8,9,10]])\n",
        "\n",
        "print('Last element from 2nd dim: ', arr[1, -1])"
      ],
      "metadata": {
        "colab": {
          "base_uri": "https://localhost:8080/"
        },
        "id": "SIjPRVLNfCw5",
        "outputId": "de2cbc2f-80bd-4d62-8c20-38e5d816c49f"
      },
      "execution_count": null,
      "outputs": [
        {
          "output_type": "stream",
          "name": "stdout",
          "text": [
            "Last element from 2nd dim:  10\n"
          ]
        }
      ]
    },
    {
      "cell_type": "markdown",
      "source": [
        "1.Write a program to create a null vector of size 10 and update the sixth value to 11."
      ],
      "metadata": {
        "id": "nmFT2QEvgDnZ"
      }
    },
    {
      "cell_type": "code",
      "source": [
        "import numpy as np\n",
        "\n",
        "# Creating a null vector of size 10\n",
        "x= np.zeros(10)\n",
        "\n",
        "print(x)\n",
        "\n",
        "# Updating the sixth value to 11\n",
        "x[6]=11\n",
        "\n",
        "print(x)\n"
      ],
      "metadata": {
        "colab": {
          "base_uri": "https://localhost:8080/"
        },
        "id": "kJw622CAgN01",
        "outputId": "93106a63-8262-4f1e-9042-c89ecfa92fa7"
      },
      "execution_count": null,
      "outputs": [
        {
          "output_type": "stream",
          "name": "stdout",
          "text": [
            "[0. 0. 0. 0. 0. 0. 0. 0. 0. 0.]\n",
            "[ 0.  0.  0.  0.  0.  0. 11.  0.  0.  0.]\n"
          ]
        }
      ]
    },
    {
      "cell_type": "markdown",
      "source": [
        "2. Create an array with values ranging from 12 to 38"
      ],
      "metadata": {
        "id": "C34sp1BfgpzE"
      }
    },
    {
      "cell_type": "code",
      "source": [
        "import numpy as np\n",
        "\n",
        "# Creating an array with values ranging from 12 to 38\n",
        "x= np.arange(12,39)\n",
        "\n",
        "print(x)"
      ],
      "metadata": {
        "colab": {
          "base_uri": "https://localhost:8080/"
        },
        "id": "i0VB5uPzgxJ1",
        "outputId": "f8737efe-0e33-448a-b139-08151fd32684"
      },
      "execution_count": null,
      "outputs": [
        {
          "output_type": "stream",
          "name": "stdout",
          "text": [
            "[12 13 14 15 16 17 18 19 20 21 22 23 24 25 26 27 28 29 30 31 32 33 34 35\n",
            " 36 37 38]\n"
          ]
        }
      ]
    },
    {
      "cell_type": "markdown",
      "source": [
        "3. Reverse an array"
      ],
      "metadata": {
        "id": "WAIQfq54g_tO"
      }
    },
    {
      "cell_type": "code",
      "source": [
        "x = x[::-1]\n",
        "print(x)"
      ],
      "metadata": {
        "colab": {
          "base_uri": "https://localhost:8080/"
        },
        "id": "Xm0bcTLxhDtn",
        "outputId": "512a76fc-ec2d-448f-d118-a2a184fe8367"
      },
      "execution_count": null,
      "outputs": [
        {
          "output_type": "stream",
          "name": "stdout",
          "text": [
            "[38 37 36 35 34 33 32 31 30 29 28 27 26 25 24 23 22 21 20 19 18 17 16 15\n",
            " 14 13 12]\n"
          ]
        }
      ]
    },
    {
      "cell_type": "markdown",
      "source": [
        "# NumPy Array Slicing"
      ],
      "metadata": {
        "id": "8RIFFoG_hVs0"
      }
    },
    {
      "cell_type": "markdown",
      "source": [
        "**Slicing arrays**\n",
        "\n",
        "* Slicing in python means taking elements from one given index to another given index.\n",
        "\n",
        "* We pass slice instead of index like this: [start:end].\n",
        "\n",
        "* We can also define the step, like this: [start:end:step].\n",
        "\n",
        "* If we don't pass start its considered 0\n",
        "\n",
        "* If we don't pass end its considered length of array in that dimension\n",
        "\n",
        "* If we don't pass step its considered 1\n",
        "\n",
        "**Note: The result includes the start index, but excludes the end index.**"
      ],
      "metadata": {
        "id": "latBC0wUhXg1"
      }
    },
    {
      "cell_type": "markdown",
      "source": [
        "Slice elements from index 1 to index 5 from the following array:"
      ],
      "metadata": {
        "id": "M3hPie1bhkCu"
      }
    },
    {
      "cell_type": "code",
      "source": [
        "import numpy as np\n",
        "\n",
        "arr = np.array([1, 2, 3, 4, 5, 6, 7])\n",
        "\n",
        "print(arr[1:5])"
      ],
      "metadata": {
        "colab": {
          "base_uri": "https://localhost:8080/"
        },
        "id": "VXb7pE9Mhkpq",
        "outputId": "a25a4926-725e-4efb-a47a-739470a183e0"
      },
      "execution_count": null,
      "outputs": [
        {
          "output_type": "stream",
          "name": "stdout",
          "text": [
            "[2 3 4 5]\n"
          ]
        }
      ]
    },
    {
      "cell_type": "markdown",
      "source": [
        "Slice elements from index 4 to the end of the array:"
      ],
      "metadata": {
        "id": "wOgvt-eehyDa"
      }
    },
    {
      "cell_type": "code",
      "source": [
        "import numpy as np\n",
        "\n",
        "arr = np.array([1, 2, 3, 4, 5, 6, 7])\n",
        "\n",
        "print(arr[4:])"
      ],
      "metadata": {
        "colab": {
          "base_uri": "https://localhost:8080/"
        },
        "id": "Avupt499hync",
        "outputId": "2198f48d-bb64-43fb-e8a3-d5fcf5117b13"
      },
      "execution_count": null,
      "outputs": [
        {
          "output_type": "stream",
          "name": "stdout",
          "text": [
            "[5 6 7]\n"
          ]
        }
      ]
    },
    {
      "cell_type": "markdown",
      "source": [
        "Slice elements from the beginning to index 4 (not included):"
      ],
      "metadata": {
        "id": "4IOtfUI-h_D4"
      }
    },
    {
      "cell_type": "code",
      "source": [
        "import numpy as np\n",
        "\n",
        "arr = np.array([1, 2, 3, 4, 5, 6, 7])\n",
        "\n",
        "print(arr[:4])"
      ],
      "metadata": {
        "colab": {
          "base_uri": "https://localhost:8080/"
        },
        "id": "QW--mK0lh_jE",
        "outputId": "978ca143-baf0-4690-eca8-2ddddd79ac4f"
      },
      "execution_count": null,
      "outputs": [
        {
          "output_type": "stream",
          "name": "stdout",
          "text": [
            "[1 2 3 4]\n"
          ]
        }
      ]
    },
    {
      "cell_type": "markdown",
      "source": [
        "**Negative Slicing**\n",
        "* Use the minus operator to refer to an index from the end:"
      ],
      "metadata": {
        "id": "JmliUNiaiL3S"
      }
    },
    {
      "cell_type": "code",
      "source": [
        "import numpy as np\n",
        "\n",
        "arr = np.array([1, 2, 3, 4, 5, 6, 7])\n",
        "\n",
        "print(arr[-3:-1])"
      ],
      "metadata": {
        "colab": {
          "base_uri": "https://localhost:8080/"
        },
        "id": "ywD8w7NoiOC8",
        "outputId": "6f431086-8702-4022-9e29-42550ab2e52f"
      },
      "execution_count": null,
      "outputs": [
        {
          "output_type": "stream",
          "name": "stdout",
          "text": [
            "[5 6]\n"
          ]
        }
      ]
    },
    {
      "cell_type": "markdown",
      "source": [
        "**STEP**\n",
        "* Use the step value to determine the step of the slicing:"
      ],
      "metadata": {
        "id": "VQ442wmpiS9I"
      }
    },
    {
      "cell_type": "code",
      "source": [
        "import numpy as np\n",
        "\n",
        "arr = np.array([1, 2, 3, 4, 5, 6, 7])\n",
        "\n",
        "print(arr[1:5])"
      ],
      "metadata": {
        "colab": {
          "base_uri": "https://localhost:8080/"
        },
        "id": "fM3No0W9iU_E",
        "outputId": "3b80ac49-4828-44a7-f06b-8a54116fd4c1"
      },
      "execution_count": null,
      "outputs": [
        {
          "output_type": "stream",
          "name": "stdout",
          "text": [
            "[2 3 4 5]\n"
          ]
        }
      ]
    },
    {
      "cell_type": "code",
      "source": [
        "import numpy as np\n",
        "\n",
        "arr = np.array([1, 2, 3, 4, 5, 6, 7])\n",
        "\n",
        "print(arr[1:5:2])"
      ],
      "metadata": {
        "colab": {
          "base_uri": "https://localhost:8080/"
        },
        "id": "1I0KXKECi8GF",
        "outputId": "83bae3ad-f73e-4949-bee1-be36b6a369f9"
      },
      "execution_count": null,
      "outputs": [
        {
          "output_type": "stream",
          "name": "stdout",
          "text": [
            "[2 4]\n"
          ]
        }
      ]
    },
    {
      "cell_type": "code",
      "source": [
        "import numpy as np\n",
        "\n",
        "arr = np.array([12,34,54,645,76,345,56])\n",
        "\n",
        "print(arr[1:5:2])"
      ],
      "metadata": {
        "colab": {
          "base_uri": "https://localhost:8080/"
        },
        "id": "2eGHzhuZi-iS",
        "outputId": "5ad471b2-32dd-4363-9f59-3a102fa713c3"
      },
      "execution_count": null,
      "outputs": [
        {
          "output_type": "stream",
          "name": "stdout",
          "text": [
            "[ 34 645]\n"
          ]
        }
      ]
    },
    {
      "cell_type": "code",
      "source": [
        "import numpy as np\n",
        "\n",
        "arr = np.array([12,34,54,645,76,345,56])\n",
        "\n",
        "print(arr[1:5:3])"
      ],
      "metadata": {
        "colab": {
          "base_uri": "https://localhost:8080/"
        },
        "id": "tu_UGaGJjEO2",
        "outputId": "834d17fa-6caa-405a-a32e-9accc15cd6ba"
      },
      "execution_count": null,
      "outputs": [
        {
          "output_type": "stream",
          "name": "stdout",
          "text": [
            "[34 76]\n"
          ]
        }
      ]
    },
    {
      "cell_type": "code",
      "source": [
        "import numpy as np\n",
        "\n",
        "arr = np.array([1, 2, 3, 4, 5, 6, 7])\n",
        "\n",
        "print(arr[::2])\n",
        "# step is 2, which means every second element is selected."
      ],
      "metadata": {
        "colab": {
          "base_uri": "https://localhost:8080/"
        },
        "id": "n9VItgHqjabG",
        "outputId": "61612856-8b4a-4171-e0fe-af84c1c12a9e"
      },
      "execution_count": null,
      "outputs": [
        {
          "output_type": "stream",
          "name": "stdout",
          "text": [
            "[1 3 5 7]\n"
          ]
        }
      ]
    },
    {
      "cell_type": "markdown",
      "source": [
        "**Slicing 2-D Arrays**\n",
        "\n",
        "---\n",
        "\n"
      ],
      "metadata": {
        "id": "93OZiotlmUFO"
      }
    },
    {
      "cell_type": "code",
      "source": [
        "import numpy as np\n",
        "\n",
        "arr = np.array([[1, 2, 3, 4, 5], [6, 7, 8, 9, 10]])\n",
        "\n",
        "# print(arr)\n",
        "\n",
        "# print(\"---------\")\n",
        "\n",
        "print(arr[1, 1:4])"
      ],
      "metadata": {
        "colab": {
          "base_uri": "https://localhost:8080/"
        },
        "id": "-1NasqUgmYLW",
        "outputId": "25f0656d-23f7-4323-dd3a-dec631b8d4e5"
      },
      "execution_count": null,
      "outputs": [
        {
          "output_type": "stream",
          "name": "stdout",
          "text": [
            "[7 8 9]\n"
          ]
        }
      ]
    },
    {
      "cell_type": "code",
      "source": [
        "import numpy as np\n",
        "\n",
        "arr = np.array([[1, 2, 3, 4, 5], [6, 7, 8, 9, 10]])\n",
        "\n",
        "print(arr)\n",
        "\n",
        "print(\"---------\")\n",
        "\n",
        "print(arr[0:2, 2])"
      ],
      "metadata": {
        "colab": {
          "base_uri": "https://localhost:8080/"
        },
        "id": "97Gnf6I2mfyv",
        "outputId": "a071429f-51a1-4403-846a-7decac73413c"
      },
      "execution_count": null,
      "outputs": [
        {
          "output_type": "stream",
          "name": "stdout",
          "text": [
            "[[ 1  2  3  4  5]\n",
            " [ 6  7  8  9 10]]\n",
            "---------\n",
            "[3 8]\n"
          ]
        }
      ]
    },
    {
      "cell_type": "markdown",
      "source": [
        "**From both elements, return index 2:**\n",
        "* 0:2: This is slicing notation for selecting rows. It means:\n",
        "\n",
        "   * Start at index 0 (inclusive).\n",
        "   *  End at index 2 (exclusive).\n",
        "So, this notation selects rows 0 and 1. Since there are only 2 rows, it selects both rows.\n",
        "\n",
        "* 2: This selects the column at index 2 from the selected rows.\n",
        "\n",
        "   * Therefore, arr[0:2, 2] extracts elements from the 2nd column (index 2) of the rows specified by 0:2."
      ],
      "metadata": {
        "id": "alvLBfsGnan9"
      }
    },
    {
      "cell_type": "markdown",
      "source": [
        "From both elements, slice index 1 to index 4 (not included), this will return a 2-D array:"
      ],
      "metadata": {
        "id": "Ao7KHXQlnvMJ"
      }
    },
    {
      "cell_type": "code",
      "source": [
        "import numpy as np\n",
        "\n",
        "arr = np.array([[1, 2, 3, 4, 5], [6, 7, 8, 9, 10]])\n",
        "\n",
        "print(arr[0:2, 1:4])"
      ],
      "metadata": {
        "colab": {
          "base_uri": "https://localhost:8080/"
        },
        "id": "n6ovJLFfni1v",
        "outputId": "b4b2619e-5b76-40e8-83bd-88baa3457b4f"
      },
      "execution_count": null,
      "outputs": [
        {
          "output_type": "stream",
          "name": "stdout",
          "text": [
            "[[2 3 4]\n",
            " [7 8 9]]\n"
          ]
        }
      ]
    },
    {
      "cell_type": "markdown",
      "source": [
        "1. Create a 2D Array with 1 on border and 0 inside."
      ],
      "metadata": {
        "id": "lzx1-2E3oQiJ"
      }
    },
    {
      "cell_type": "code",
      "source": [
        "import numpy as np\n",
        "\n",
        "\n",
        "\n",
        "# Create a 2-D array filled with zeros\n",
        "array = np.zeros((5, 5))\n",
        "\n",
        "# Set the border values to 1\n",
        "array[0, :] = 1          # Top border\n",
        "array[-1, :] = 1         # Bottom border\n",
        "array[:, 0] = 1          # Left border\n",
        "array[:, -1] = 1         # Right border\n",
        "\n",
        "print(array)\n"
      ],
      "metadata": {
        "colab": {
          "base_uri": "https://localhost:8080/"
        },
        "id": "ckpihWWxoXR8",
        "outputId": "fd8059ff-d379-4bac-d6ba-a630d34fd497"
      },
      "execution_count": null,
      "outputs": [
        {
          "output_type": "stream",
          "name": "stdout",
          "text": [
            "[[1. 1. 1. 1. 1.]\n",
            " [1. 0. 0. 0. 1.]\n",
            " [1. 0. 0. 0. 1.]\n",
            " [1. 0. 0. 0. 1.]\n",
            " [1. 1. 1. 1. 1.]]\n"
          ]
        }
      ]
    },
    {
      "cell_type": "code",
      "source": [
        "array=np.ones((5,5),dtype=int)\n",
        "# print(array)\n",
        "array[1:-1,1:-1]=0\n",
        "print(array)"
      ],
      "metadata": {
        "colab": {
          "base_uri": "https://localhost:8080/"
        },
        "id": "iZL7h1t9on3-",
        "outputId": "a5f6f09c-3c1a-4cac-cf7d-e95cea4884a4"
      },
      "execution_count": null,
      "outputs": [
        {
          "output_type": "stream",
          "name": "stdout",
          "text": [
            "[[1 1 1 1 1]\n",
            " [1 0 0 0 1]\n",
            " [1 0 0 0 1]\n",
            " [1 0 0 0 1]\n",
            " [1 1 1 1 1]]\n"
          ]
        }
      ]
    },
    {
      "cell_type": "markdown",
      "source": [
        "2. Create 4x4 matrix and fill it with checkerboard pattern"
      ],
      "metadata": {
        "id": "wIRscLCepJiv"
      }
    },
    {
      "cell_type": "code",
      "source": [
        "import numpy as np\n",
        "\n",
        "# Create a 4x4 matrix filled with zeros\n",
        "x = np.zeros((4, 4), dtype=int)\n",
        "\n",
        "print(x)\n",
        "print(\"--------------------------------\")\n",
        "# Fill the matrix with checkerboard pattern\n",
        "\n",
        "x[1::2, ::2] = 1\n",
        "# 1::2 selects every second row, starting from the second row (index 1).\n",
        "# ::2 selects every second column, starting from the first column (index 0)\n",
        "print(x)\n",
        "x[::2, 1::2] = 1\n",
        "# ::2 selects every second row, starting from the first row (index 0).\n",
        "# 1::2 selects every second column, starting from the second column (index 1)\n",
        "\n",
        "print(\"===== Final Result ===== \")\n",
        "print(x)\n",
        "\n",
        "\n"
      ],
      "metadata": {
        "colab": {
          "base_uri": "https://localhost:8080/"
        },
        "id": "Cdz4b-5LtGvE",
        "outputId": "c29d7e63-848f-4f9d-902f-b80aab00d73a"
      },
      "execution_count": null,
      "outputs": [
        {
          "output_type": "stream",
          "name": "stdout",
          "text": [
            "[[0 0 0 0]\n",
            " [0 0 0 0]\n",
            " [0 0 0 0]\n",
            " [0 0 0 0]]\n",
            "--------------------------------\n",
            "[[0 0 0 0]\n",
            " [1 0 1 0]\n",
            " [0 0 0 0]\n",
            " [1 0 1 0]]\n",
            "===== Final Result ===== \n",
            "[[0 1 0 1]\n",
            " [1 0 1 0]\n",
            " [0 1 0 1]\n",
            " [1 0 1 0]]\n"
          ]
        }
      ]
    },
    {
      "cell_type": "markdown",
      "source": [
        "3. Get the values and indices of the elements that are bigger than 10 in a given array.\n"
      ],
      "metadata": {
        "id": "gK_G-TncweOb"
      }
    },
    {
      "cell_type": "markdown",
      "source": [
        "* nonzero() , returns the indices of the elements that are non-zero"
      ],
      "metadata": {
        "id": "N08NKQUpwsYB"
      }
    },
    {
      "cell_type": "code",
      "source": [
        "import numpy as np\n",
        "\n",
        "x = np.array([[0, 10, 20], [20, 30, 40]])\n",
        "\n",
        "print(\"Original array:\")\n",
        "print(x)\n",
        "# Filtering values bigger than 10\n",
        "print(\"Values bigger than 10 =\", x[x>10])\n",
        "# indices of elements that are bigger than 10 using np.nonzero()\n",
        "print(\"Their indices are \", np.nonzero(x > 10))"
      ],
      "metadata": {
        "colab": {
          "base_uri": "https://localhost:8080/"
        },
        "id": "WX4W5W3Owo5l",
        "outputId": "5235eec3-6d3e-4883-81e5-d308041e88a3"
      },
      "execution_count": null,
      "outputs": [
        {
          "output_type": "stream",
          "name": "stdout",
          "text": [
            "Original array:\n",
            "[[ 0 10 20]\n",
            " [20 30 40]]\n",
            "Values bigger than 10 = [20 20 30 40]\n",
            "Their indices are  (array([0, 1, 1, 1]), array([2, 0, 1, 2]))\n"
          ]
        }
      ]
    },
    {
      "cell_type": "markdown",
      "source": [
        "This means:\n",
        "  * 20 at index (0, 2)\n",
        "  * 20 at index (1, 0)\n",
        "  * 30 at index (1, 1)\n",
        "  * 40 at index (1, 2)"
      ],
      "metadata": {
        "id": "YA9Mj8Qlxs9b"
      }
    },
    {
      "cell_type": "markdown",
      "source": [
        "4.  Numpy program to Convert celsius into Fahrenheit"
      ],
      "metadata": {
        "id": "8ahAd3dex3_V"
      }
    },
    {
      "cell_type": "code",
      "source": [
        "import numpy as np\n",
        "print(\"values in centegrade degrees:\")\n",
        "c = np.array([0,12,45.21,34,99.91])\n",
        "\n",
        "print(c)\n",
        "print(\"Values in Fahrenheit degrees:\")\n",
        "print(np.round((9*c/5 + 32),2))\n",
        "\n"
      ],
      "metadata": {
        "colab": {
          "base_uri": "https://localhost:8080/"
        },
        "id": "5s51MxRuyGaE",
        "outputId": "a9bcb7c8-a615-4af3-fa18-2a60af3b6d1e"
      },
      "execution_count": null,
      "outputs": [
        {
          "output_type": "stream",
          "name": "stdout",
          "text": [
            "values in centegrade degrees:\n",
            "[ 0.   12.   45.21 34.   99.91]\n",
            "Values in Fahrenheit degrees:\n",
            "[ 32.    53.6  113.38  93.2  211.84]\n"
          ]
        }
      ]
    },
    {
      "cell_type": "markdown",
      "source": [
        "# NumPy Data Types"
      ],
      "metadata": {
        "id": "QMB3QVHmyetw"
      }
    },
    {
      "cell_type": "markdown",
      "source": [
        "**Data Types in Python**\n",
        "\n",
        "---\n",
        "\n",
        "\n",
        "By default Python have these data types:\n",
        "\n",
        "* **strings** - used to represent text data, the text is given under quote marks. e.g. \"ABCD\"\n",
        "*  **integer** - used to represent integer numbers. e.g. -1, -2, -3\n",
        "* **float** - used to represent real numbers. e.g. 1.2, 42.42\n",
        "* **boolean** - used to represent True or False.\n",
        "* **complex** - used to represent complex numbers. e.g. 1.0 + 2.0j, 1.5 + 2.5j"
      ],
      "metadata": {
        "id": "DMrTAP_7ygPT"
      }
    },
    {
      "cell_type": "markdown",
      "source": [
        "**Data Types in NumPy**\n",
        "\n",
        "---\n",
        "\n",
        "* NumPy has some extra data types, and refer to data types with one character, like i for integers, u for unsigned integers etc.\n",
        "\n",
        "---\n",
        "* i - integer\n",
        "* b - boolean\n",
        "* u - unsigned integer\n",
        "* f - float\n",
        "* c - complex float\n",
        "* m - timedelta\n",
        "* M - datetime\n",
        "* O - object\n",
        "* S - string\n",
        "* U - unicode string\n",
        "* V - fixed chunk of memory for other type ( void )\n",
        "\n",
        "\n",
        "---\n",
        "\n",
        "1. **i - Integer**\n",
        "    * Represents signed integer data types.\n",
        "    * Examples: int8, int16, int32, int64 (where 8, 16, 32, 64 represent the number of bits used to store the integer)\n",
        "\n",
        "2. **b - Boolean**\n",
        "    * Represents boolean values, which can be True or False.\n",
        "Stored as 1 for True and 0 for False.\n",
        "\n",
        "3. **u - Unsigned Integer**\n",
        "    * Represents unsigned integer data types.\n",
        "    * Unlike regular integers, unsigned integers can only be non-negative.\n",
        "    * Examples: uint8, uint16, uint32, uint64.\n",
        "4. **f - Float**\n",
        "    * Represents floating-point numbers (numbers with a decimal point).\n",
        "    * Examples: float16, float32, float64.\n",
        "5. **c - Complex Float**\n",
        "    * Represents complex numbers with a real and an imaginary part, both of which are represented by floats.\n",
        "    * Example: complex64, complex128 (where 64, 128 represent the total bits used for both parts).\n",
        "\n",
        "6. **m - Timedelta**\n",
        "   * Represents the difference between two datetime values.\n",
        "   * Useful for calculating durations.\n",
        "\n",
        "7. **M - Datetime**\n",
        "   * Represents date and time.\n",
        "   * Allows you to perform operations on dates and times, like adding a duration to a date.\n",
        "\n",
        "8. **O - Object**\n",
        "   * Represents Python objects.\n",
        "   * This is a flexible data type that allows for storing any Python object within a NumPy array.\n",
        "\n",
        "9. **S - String**\n",
        "   * Represents byte strings.\n",
        "   * Examples: S1, S2, ... (where the number represents the number of characters).\n",
        "\n",
        "10. **U - Unicode String**\n",
        "   * Represents Unicode strings.\n",
        "   * Examples: U1, U2, ... (where the number represents the number of characters).\n",
        "\n",
        "11. **V - Void**\n",
        "   * Represents raw data (a fixed chunk of memory).\n",
        "   * It’s often used for custom data types or for storing binary data."
      ],
      "metadata": {
        "id": "HiYXTvG639ma"
      }
    },
    {
      "cell_type": "markdown",
      "source": [
        "**Checking the Data Type of an Array**\n",
        "\n",
        "---\n",
        "\n"
      ],
      "metadata": {
        "id": "IDCkdrYn9JKU"
      }
    },
    {
      "cell_type": "markdown",
      "source": [
        "* The NumPy array object has a property called dtype that returns the data type of the array:"
      ],
      "metadata": {
        "id": "nl9N1kVM9LEs"
      }
    },
    {
      "cell_type": "code",
      "source": [
        "import numpy as np\n",
        "\n",
        "arr = np.array([1, 2, 3, 4])\n",
        "\n",
        "print(arr.dtype)"
      ],
      "metadata": {
        "colab": {
          "base_uri": "https://localhost:8080/"
        },
        "id": "FyZtrOwo9cYM",
        "outputId": "d7c78869-3559-4875-e5ed-0dd146dc79fd"
      },
      "execution_count": null,
      "outputs": [
        {
          "output_type": "stream",
          "name": "stdout",
          "text": [
            "int64\n"
          ]
        }
      ]
    },
    {
      "cell_type": "code",
      "source": [
        "import numpy as np\n",
        "\n",
        "arr = np.array(['apple', 'banana', 'cherry'])\n",
        "\n",
        "print(arr.dtype)"
      ],
      "metadata": {
        "colab": {
          "base_uri": "https://localhost:8080/"
        },
        "id": "zjXLEVQu-E2L",
        "outputId": "10d91bea-f500-4b5c-aea2-3c1ca6b993f5"
      },
      "execution_count": null,
      "outputs": [
        {
          "output_type": "stream",
          "name": "stdout",
          "text": [
            "<U6\n"
          ]
        }
      ]
    },
    {
      "cell_type": "markdown",
      "source": [
        "**Creating Arrays With a Defined Data Type**\n",
        "\n",
        "---\n",
        "* We use the **array()** function to create arrays, this function can **take an optional argument: dtype that allows us to define the expected data type of the array elements:**\n",
        "\n"
      ],
      "metadata": {
        "id": "GbizAI4x-LVd"
      }
    },
    {
      "cell_type": "code",
      "source": [
        "import numpy as np\n",
        "\n",
        "arr = np.array([1, 2, 3, 4], dtype='S')\n",
        "\n",
        "print(arr)\n",
        "print(arr.dtype)"
      ],
      "metadata": {
        "colab": {
          "base_uri": "https://localhost:8080/"
        },
        "id": "_DaB9bUc-a6E",
        "outputId": "e0a92db8-5a1d-40ea-a3c8-337ed882ee86"
      },
      "execution_count": null,
      "outputs": [
        {
          "output_type": "stream",
          "name": "stdout",
          "text": [
            "[b'1' b'2' b'3' b'4']\n",
            "|S1\n"
          ]
        }
      ]
    },
    {
      "cell_type": "markdown",
      "source": [
        "For i, u, f, S and U we can define size as well."
      ],
      "metadata": {
        "id": "oZEFoZ3g_e2A"
      }
    },
    {
      "cell_type": "code",
      "source": [
        "import numpy as np\n",
        "\n",
        "arr = np.array([1, 2, 3, 4], dtype='i4')\n",
        "\n",
        "print(arr)\n",
        "print(arr.dtype)"
      ],
      "metadata": {
        "colab": {
          "base_uri": "https://localhost:8080/"
        },
        "id": "_miNNmm6_fc4",
        "outputId": "2509d489-017c-4386-9118-7b7151791477"
      },
      "execution_count": null,
      "outputs": [
        {
          "output_type": "stream",
          "name": "stdout",
          "text": [
            "[1 2 3 4]\n",
            "int32\n"
          ]
        }
      ]
    },
    {
      "cell_type": "markdown",
      "source": [
        "What if a Value Can Not Be Converted?\n",
        "\n",
        "---\n",
        "*  If a type is given in which elements can't be casted then NumPy will raise a ValueError.\n",
        "* **ValueError:** In Python ValueError is raised when the type of passed argument to a function is unexpected/incorrect.\n"
      ],
      "metadata": {
        "id": "gIXFOboK_kgO"
      }
    },
    {
      "cell_type": "code",
      "source": [
        "# A non integer string like 'a' can not be converted to integer (will raise an error):\n",
        "import numpy as np\n",
        "\n",
        "\n",
        "# arr = np.array(['a', '2', '3'], dtype='i')  # ValueError: invalid literal for int() with base 10: 'a'\n"
      ],
      "metadata": {
        "id": "-GfbMdBq_xgW"
      },
      "execution_count": null,
      "outputs": []
    },
    {
      "cell_type": "markdown",
      "source": [
        "**Converting Data Type on Existing Arrays**\n",
        "\n",
        "---\n",
        "* The best way to change the data type of an existing array, is to **make a copy of the array with the astype() method.**\n",
        "\n",
        "* The astype() function **creates a copy of the array, and allows you to specify the data type as a parameter.**\n",
        "\n",
        "* The data type can be specified using a string, like 'f' for float, 'i' for integer etc. or you can use the data type directly like float for float and int for integer.\n"
      ],
      "metadata": {
        "id": "XovtzTTE_7cD"
      }
    },
    {
      "cell_type": "markdown",
      "source": [
        "1. Change data type from float to integer by using 'i' as parameter value:"
      ],
      "metadata": {
        "id": "8zgoNSWLBCyw"
      }
    },
    {
      "cell_type": "code",
      "source": [
        "import numpy as np\n",
        "\n",
        "arr = np.array([1.1, 2.1, 3.1])\n",
        "\n",
        "print(arr)\n",
        "print(type(arr.dtype))\n",
        "\n",
        "print(\"--------- After Converting--------------------\")\n",
        "\n",
        "newarr = arr.astype('i')\n",
        "\n",
        "print(newarr)\n",
        "print(newarr.dtype)"
      ],
      "metadata": {
        "colab": {
          "base_uri": "https://localhost:8080/"
        },
        "id": "9RxkzhfcAZhS",
        "outputId": "e2edd8dc-97af-45cd-8fa1-1c96427b12d8"
      },
      "execution_count": null,
      "outputs": [
        {
          "output_type": "stream",
          "name": "stdout",
          "text": [
            "[1.1 2.1 3.1]\n",
            "<class 'numpy.dtypes.Float64DType'>\n",
            "--------- After Converting--------------------\n",
            "[1 2 3]\n",
            "int32\n"
          ]
        }
      ]
    },
    {
      "cell_type": "markdown",
      "source": [
        "2. Change data type from float to integer by using int as parameter value"
      ],
      "metadata": {
        "id": "rDpSwfIBBf3Z"
      }
    },
    {
      "cell_type": "code",
      "source": [
        "import numpy as np\n",
        "\n",
        "arr = np.array([1.1, 2.1, 3.1])\n",
        "\n",
        "newarr = arr.astype(int)\n",
        "\n",
        "print(newarr)\n",
        "print(newarr.dtype)"
      ],
      "metadata": {
        "colab": {
          "base_uri": "https://localhost:8080/"
        },
        "id": "8gXPseJcBjJV",
        "outputId": "a2148899-8a4c-45f9-a80d-a7009db1afa8"
      },
      "execution_count": null,
      "outputs": [
        {
          "output_type": "stream",
          "name": "stdout",
          "text": [
            "[1 2 3]\n",
            "int64\n"
          ]
        }
      ]
    },
    {
      "cell_type": "markdown",
      "source": [
        "3. Change data type from integer to boolean"
      ],
      "metadata": {
        "id": "TwLf9XXsB3jJ"
      }
    },
    {
      "cell_type": "code",
      "source": [
        "import numpy as np\n",
        "\n",
        "arr = np.array([1, 0, 3])\n",
        "\n",
        "newarr = arr.astype(bool)\n",
        "\n",
        "print(newarr)\n",
        "print(newarr.dtype)"
      ],
      "metadata": {
        "colab": {
          "base_uri": "https://localhost:8080/"
        },
        "id": "s4LyK9AWB42s",
        "outputId": "df62a285-3bbd-49cd-efa2-7fecdcd5b1c7"
      },
      "execution_count": null,
      "outputs": [
        {
          "output_type": "stream",
          "name": "stdout",
          "text": [
            "[ True False  True]\n",
            "bool\n"
          ]
        }
      ]
    },
    {
      "cell_type": "markdown",
      "source": [
        "# NumPy Array Copy vs View"
      ],
      "metadata": {
        "id": "jCa6QCBfCRaO"
      }
    },
    {
      "cell_type": "markdown",
      "source": [
        "**The Difference Between Copy and View**\n",
        "\n",
        "---\n",
        "\n",
        "* The main difference between a copy and a view of an array is that the **copy is a new array**, and the **view is just a view of the original array**.\n",
        "\n",
        "* The **copy owns the data and any changes made to the copy will not affect original array**, and any changes made to the original array will not affect the copy.\n",
        "\n",
        "* The **view does not own the data and any changes made to the view will affect the original array**, and any changes made to the original array will affect the view.\n",
        "---\n",
        "\n",
        "\n",
        "\n"
      ],
      "metadata": {
        "id": "JaD3J2v2EXMZ"
      }
    },
    {
      "cell_type": "markdown",
      "source": [
        "**COPY:**\n",
        "\n",
        "* **The copy SHOULD NOT be affected by the changes made to the original array.**\n",
        "---\n",
        "1. Make a copy, change the original array, and display both arrays:\n"
      ],
      "metadata": {
        "id": "pMwoiusUFME5"
      }
    },
    {
      "cell_type": "code",
      "source": [
        "import numpy as np\n",
        "\n",
        "arr = np.array([1, 2, 3, 4, 5])\n",
        "\n",
        "\n",
        "x = arr.copy()\n",
        "arr[0] = 42\n",
        "\n",
        "print(arr)  # display arr after changing the first element to 42\n",
        "print(x)    # Copy of arr is stored in x"
      ],
      "metadata": {
        "colab": {
          "base_uri": "https://localhost:8080/"
        },
        "id": "yAzmRyiGFRyp",
        "outputId": "c260f9df-27d1-4e6a-8f96-40b94d9974b1"
      },
      "execution_count": null,
      "outputs": [
        {
          "output_type": "stream",
          "name": "stdout",
          "text": [
            "[42  2  3  4  5]\n",
            "[1 2 3 4 5]\n"
          ]
        }
      ]
    },
    {
      "cell_type": "markdown",
      "source": [
        "**VIEW:**\n",
        "  *  **The view SHOULD be affected by the changes made to the original array**.\n",
        "\n",
        "---\n",
        "\n",
        "1. Make a view, change the original array, and display both arrays"
      ],
      "metadata": {
        "id": "Xp9sP8yjGTzq"
      }
    },
    {
      "cell_type": "code",
      "source": [
        "import numpy as np\n",
        "\n",
        "arr = np.array([1, 2, 3, 4, 5])\n",
        "x = arr.view()\n",
        "arr[0] = 42\n",
        "\n",
        "print(arr)         # In view both the original and view (arr & x ) is changed  when change is made to anyone one of them\n",
        "print(x)"
      ],
      "metadata": {
        "colab": {
          "base_uri": "https://localhost:8080/"
        },
        "id": "WqCBlQLoGahG",
        "outputId": "66005106-6332-4109-fda8-48a8d6abb17f"
      },
      "execution_count": null,
      "outputs": [
        {
          "output_type": "stream",
          "name": "stdout",
          "text": [
            "[42  2  3  4  5]\n",
            "[42  2  3  4  5]\n"
          ]
        }
      ]
    },
    {
      "cell_type": "markdown",
      "source": [
        "**Make Changes in the VIEW:**\n",
        "\n",
        "*  **The original array SHOULD be affected by the changes made to the view.**\n",
        "---\n",
        "1. Make a view, change the view, and display both arrays:\n"
      ],
      "metadata": {
        "id": "osGSry_LG5GV"
      }
    },
    {
      "cell_type": "code",
      "source": [
        "import numpy as np\n",
        "\n",
        "arr = np.array([1, 2, 3, 4, 5])\n",
        "x = arr.view()\n",
        "x[0] = 31\n",
        "\n",
        "print(arr)\n",
        "print(x)"
      ],
      "metadata": {
        "colab": {
          "base_uri": "https://localhost:8080/"
        },
        "id": "kUu6l0v6G-AL",
        "outputId": "40c23c78-6ee3-41c9-ca71-e0a686c0542c"
      },
      "execution_count": null,
      "outputs": [
        {
          "output_type": "stream",
          "name": "stdout",
          "text": [
            "[31  2  3  4  5]\n",
            "[31  2  3  4  5]\n"
          ]
        }
      ]
    },
    {
      "cell_type": "markdown",
      "source": [
        "**Check if Array Owns its Data**\n",
        "\n",
        "---\n",
        "*  As mentioned above, **copies owns the data, and views does not own the data, but how can we check this?**\n",
        "\n",
        "*  Every NumPy array has the attribute base that **returns None if the array owns the data.**\n",
        "\n",
        "*  Otherwise, the base  attribute refers to the original object.\n",
        "\n",
        "\n",
        "---\n",
        "\n",
        " * **The copy returns None.**\n",
        " * **The view returns the original array.**\n",
        "\n",
        "---\n",
        "\n"
      ],
      "metadata": {
        "id": "xoeLrdTVHNGk"
      }
    },
    {
      "cell_type": "markdown",
      "source": [
        "Print the value of the base attribute to check if an array owns it's data or not:"
      ],
      "metadata": {
        "id": "FrXMjxifHQbd"
      }
    },
    {
      "cell_type": "code",
      "source": [
        "import numpy as np\n",
        "\n",
        "arr = np.array([1, 2, 3, 4, 5])\n",
        "\n",
        "x = arr.copy()\n",
        "y = arr.view()\n",
        "\n",
        "print(x.base)  # copy owns the data, so it returns None\n",
        "print(y.base)"
      ],
      "metadata": {
        "colab": {
          "base_uri": "https://localhost:8080/"
        },
        "id": "wTYjfMM9HxhY",
        "outputId": "0d86f07f-7386-49af-b3cd-e11f3e8b232b"
      },
      "execution_count": null,
      "outputs": [
        {
          "output_type": "stream",
          "name": "stdout",
          "text": [
            "None\n",
            "[1 2 3 4 5]\n"
          ]
        }
      ]
    },
    {
      "cell_type": "markdown",
      "source": [
        "# NumPy Array Shape"
      ],
      "metadata": {
        "id": "i6cZbgi8JAki"
      }
    },
    {
      "cell_type": "markdown",
      "source": [
        "**Shape of an Array**\n",
        "\n",
        "---\n",
        "\n",
        "The shape of an array is the number of elements in each dimension.\n",
        "\n",
        "\n",
        "---\n",
        "\n",
        "**Get the Shape of an Array**\n",
        "\n",
        "\n",
        "\n",
        "---\n",
        "\n",
        "* NumPy arrays have an attribute called shape that returns a tuple with each index having the number of corresponding elements.\n",
        "\n",
        "\n",
        "\n",
        "\n"
      ],
      "metadata": {
        "id": "9CK4_t8cJCBM"
      }
    },
    {
      "cell_type": "markdown",
      "source": [
        "Print the shape of a 2-D array:"
      ],
      "metadata": {
        "id": "aZnLtvYMIMu8"
      }
    },
    {
      "cell_type": "code",
      "source": [
        "import numpy as np\n",
        "\n",
        "arr = np.array([[1, 2, 3, 4], [5, 6, 7, 8]])\n",
        "\n",
        "print(arr.shape)"
      ],
      "metadata": {
        "colab": {
          "base_uri": "https://localhost:8080/"
        },
        "id": "xqA_pRysIN1R",
        "outputId": "b98eb915-0224-434e-8d56-dd12456ad3b7"
      },
      "execution_count": null,
      "outputs": [
        {
          "output_type": "stream",
          "name": "stdout",
          "text": [
            "(2, 4)\n"
          ]
        }
      ]
    },
    {
      "cell_type": "markdown",
      "source": [
        "Create an array with 5 dimensions using ndmin using a vector with values 1,2,3,4 and verify that last dimension has value 4:"
      ],
      "metadata": {
        "id": "b396M5UuIZQM"
      }
    },
    {
      "cell_type": "code",
      "source": [
        "import numpy as np\n",
        "\n",
        "arr = np.array([1, 2, 3, 4], ndmin=5)\n",
        "\n",
        "print(arr)\n",
        "print('shape of array :', arr.shape)\n",
        "# The shape of the array is printed as (1, 1, 1, 1, 4), indicating the number of elements along each of the 5 dimensions."
      ],
      "metadata": {
        "colab": {
          "base_uri": "https://localhost:8080/"
        },
        "id": "VJHvY5Z0IaIT",
        "outputId": "2f62ed42-f762-4406-d528-481a8a514f6a"
      },
      "execution_count": null,
      "outputs": [
        {
          "output_type": "stream",
          "name": "stdout",
          "text": [
            "[[[[[1 2 3 4]]]]]\n",
            "shape of array : (1, 1, 1, 1, 4)\n"
          ]
        }
      ]
    },
    {
      "cell_type": "markdown",
      "source": [
        "**What does the shape tuple represent?**\n",
        "* Integers at **every index tells about the number of elements the corresponding dimension has.**\n",
        "\n",
        "* In the example above at index-4 we have value 4, so we can say that 5th ( 4 + 1 th) dimension has 4 elements."
      ],
      "metadata": {
        "id": "jShHQXcmIstT"
      }
    },
    {
      "cell_type": "code",
      "source": [
        "import numpy as np\n",
        "\n",
        "# Example 1: Creating a 6-dimensional array\n",
        "arr1 = np.array([5, 6, 7], ndmin=6)\n",
        "\n",
        "print(arr1)\n",
        "print('shape of array :', arr1.shape)\n"
      ],
      "metadata": {
        "colab": {
          "base_uri": "https://localhost:8080/"
        },
        "id": "DJ-6FCzlunc-",
        "outputId": "45739c8d-8ee9-4968-f46a-8008f728a3f7"
      },
      "execution_count": null,
      "outputs": [
        {
          "output_type": "stream",
          "name": "stdout",
          "text": [
            "[[[[[[5 6 7]]]]]]\n",
            "shape of array 1: (1, 1, 1, 1, 1, 3)\n"
          ]
        }
      ]
    },
    {
      "cell_type": "code",
      "source": [
        "import numpy as np\n",
        "\n",
        "# Example 2: Creating a 4-dimensional array\n",
        "arr2 = np.array([10, 20], ndmin=4)\n",
        "\n",
        "print(arr2)\n",
        "print('shape of array 2:', arr2.shape)\n"
      ],
      "metadata": {
        "colab": {
          "base_uri": "https://localhost:8080/"
        },
        "id": "quMLTIJ2uwnz",
        "outputId": "3ea7be9a-6b4f-4509-e976-a1310782abd2"
      },
      "execution_count": null,
      "outputs": [
        {
          "output_type": "stream",
          "name": "stdout",
          "text": [
            "[[[[10 20]]]]\n",
            "shape of array 2: (1, 1, 1, 2)\n"
          ]
        }
      ]
    },
    {
      "cell_type": "markdown",
      "source": [
        "# NumPy Array Reshaping"
      ],
      "metadata": {
        "id": "Rn2V6BDXRr29"
      }
    },
    {
      "cell_type": "markdown",
      "source": [
        "**Reshaping arrays**\n",
        "\n",
        "---\n",
        "\n",
        "\n",
        "* Reshaping means **changing the shape of an array**.\n",
        "\n",
        "* The **shape of an array is the number of elements in each dimension**.\n",
        "\n",
        "* By reshaping we can add or remove dimensions or change number of elements in each dimension."
      ],
      "metadata": {
        "id": "ljhzJxQdRtIV"
      }
    },
    {
      "cell_type": "markdown",
      "source": [
        "**Reshape From 1-D to 2-D**\n",
        "\n",
        "---\n",
        "\n"
      ],
      "metadata": {
        "id": "1cOrt1iXRyjw"
      }
    },
    {
      "cell_type": "markdown",
      "source": [
        "1. Convert the following **1-D array with 12 elements into a 2-D array**.\n",
        "\n",
        "* The outermost dimension will have 4 arrays, each with 3 elements:\n",
        "\n"
      ],
      "metadata": {
        "id": "PwCjmtp5R09Y"
      }
    },
    {
      "cell_type": "code",
      "source": [
        "import numpy as np\n",
        "\n",
        "arr = np.array([1, 2, 3, 4, 5, 6, 7, 8, 9, 10, 11, 12])\n",
        "\n",
        "newarr = arr.reshape(4, 3)\n",
        "print(arr)\n",
        "\n",
        "print(\"------------- After Convering 1D to 2D Array---------------------------------\")\n",
        "print(newarr)"
      ],
      "metadata": {
        "colab": {
          "base_uri": "https://localhost:8080/"
        },
        "id": "DrgTCdaoSXYL",
        "outputId": "44434774-9901-40df-e86b-d2febaa21e57"
      },
      "execution_count": null,
      "outputs": [
        {
          "output_type": "stream",
          "name": "stdout",
          "text": [
            "[ 1  2  3  4  5  6  7  8  9 10 11 12]\n",
            "------------- After Convering 1D to 2D Array---------------------------------\n",
            "[[ 1  2  3]\n",
            " [ 4  5  6]\n",
            " [ 7  8  9]\n",
            " [10 11 12]]\n"
          ]
        }
      ]
    },
    {
      "cell_type": "markdown",
      "source": [
        "**Reshape From 1-D to 3-D**\n",
        "\n",
        "---\n",
        "\n"
      ],
      "metadata": {
        "id": "vrmeGLHhSu_w"
      }
    },
    {
      "cell_type": "markdown",
      "source": [
        "1. Convert the following 1-D array with 12 elements into a 3-D array\n",
        "* The outermost dimension will have 2 arrays that contains 3 arrays, each with 2 elements:"
      ],
      "metadata": {
        "id": "9DXYzR_uSwry"
      }
    },
    {
      "cell_type": "code",
      "source": [
        "import numpy as np\n",
        "\n",
        "arr = np.array([1, 2, 3, 4, 5, 6, 7, 8, 9, 10, 11, 12])\n",
        "\n",
        "newarr = arr.reshape(2, 3, 2)\n",
        "print(arr)\n",
        "\n",
        "print(\"------------- After Convering 1D to 3D Array---------------------------------\")\n",
        "print(newarr)"
      ],
      "metadata": {
        "colab": {
          "base_uri": "https://localhost:8080/"
        },
        "id": "3MrnaKEdS0LG",
        "outputId": "50488774-0270-4f56-b538-5d0c3a34345b"
      },
      "execution_count": null,
      "outputs": [
        {
          "output_type": "stream",
          "name": "stdout",
          "text": [
            "[ 1  2  3  4  5  6  7  8  9 10 11 12]\n",
            "------------- After Convering 1D to 3D Array---------------------------------\n",
            "[[[ 1  2]\n",
            "  [ 3  4]\n",
            "  [ 5  6]]\n",
            "\n",
            " [[ 7  8]\n",
            "  [ 9 10]\n",
            "  [11 12]]]\n"
          ]
        }
      ]
    },
    {
      "cell_type": "markdown",
      "source": [
        "**Can We Reshape Into any Shape?**\n",
        "\n",
        "---\n",
        "* Yes, as long as the elements required for reshaping are equal in both shapes.\n",
        "\n",
        "\n",
        "---\n",
        "\n"
      ],
      "metadata": {
        "id": "xX0uTDxRTDjN"
      }
    },
    {
      "cell_type": "markdown",
      "source": [
        "* Try converting 1D array with 8 elements to a 2D array with 3 elements in each dimension (will raise an error):\n",
        "* We can reshape an 8 elements 1D array into 4 elements in 2 rows 2D array but we cannot reshape it into a 3 elements 3 rows 2D array as that would require 3x3 = 9 elements."
      ],
      "metadata": {
        "id": "ZAdpJw3GTJmj"
      }
    },
    {
      "cell_type": "code",
      "source": [
        "# import numpy as np\n",
        "\n",
        "# arr = np.array([1, 2, 3, 4, 5, 6, 7, 8])\n",
        "\n",
        "# newarr = arr.reshape(3, 3)\n",
        "\n",
        "# print(newarr)"
      ],
      "metadata": {
        "id": "rK68zGLGTLZn"
      },
      "execution_count": null,
      "outputs": []
    },
    {
      "cell_type": "markdown",
      "source": [
        "**Returns Copy or View?**\n",
        "\n",
        "---\n",
        "\n"
      ],
      "metadata": {
        "id": "pBPB4xlsTZqh"
      }
    },
    {
      "cell_type": "markdown",
      "source": [
        "Check if the returned array is a copy or a view:"
      ],
      "metadata": {
        "id": "UQgh9XL4fLWy"
      }
    },
    {
      "cell_type": "code",
      "source": [
        "import numpy as np\n",
        "\n",
        "arr = np.array([1, 2, 3, 4, 5, 6, 7, 8])\n",
        "\n",
        "print(arr.reshape(2, 4).base)"
      ],
      "metadata": {
        "colab": {
          "base_uri": "https://localhost:8080/"
        },
        "id": "Bf8haLQ3fMM3",
        "outputId": "92c475b8-6603-47df-c7c5-866a60972d93"
      },
      "execution_count": null,
      "outputs": [
        {
          "output_type": "stream",
          "name": "stdout",
          "text": [
            "[1 2 3 4 5 6 7 8]\n"
          ]
        }
      ]
    },
    {
      "cell_type": "markdown",
      "source": [
        "**Unknown Dimension**\n",
        "\n",
        "---\n",
        "\n",
        "* You are allowed to have one \"unknown\" dimension.\n",
        "\n",
        "* Meaning that you do not have to specify an exact number for one of the dimensions in the reshape method.\n",
        "\n",
        "* Pass -1 as the value, and NumPy will calculate this number for you.\n",
        "* **Note: We can not pass -1 to more than one dimension**"
      ],
      "metadata": {
        "id": "wcW90YjWfRI5"
      }
    },
    {
      "cell_type": "markdown",
      "source": [
        "1. Convert 1D array with 8 elements to 3D array with 2x2 elements:"
      ],
      "metadata": {
        "id": "ddeD-QD6fhbR"
      }
    },
    {
      "cell_type": "code",
      "source": [
        "import numpy as np\n",
        "\n",
        "arr = np.array([1, 2, 3, 4, 5, 6, 7, 8])\n",
        "\n",
        "newarr = arr.reshape(2, 2, -1)\n",
        "\n",
        "print(newarr)"
      ],
      "metadata": {
        "colab": {
          "base_uri": "https://localhost:8080/"
        },
        "id": "buRo__0SffVj",
        "outputId": "7f345fc4-ee12-49cd-bb1a-1042c7f06c60"
      },
      "execution_count": null,
      "outputs": [
        {
          "output_type": "stream",
          "name": "stdout",
          "text": [
            "[[[1 2]\n",
            "  [3 4]]\n",
            "\n",
            " [[5 6]\n",
            "  [7 8]]]\n"
          ]
        }
      ]
    },
    {
      "cell_type": "markdown",
      "source": [
        "**Flattening the arrays**\n",
        "\n",
        "---\n",
        "* Flattening array means **converting a multidimensional array into a 1D array.**\n",
        "\n",
        "* We can use reshape(-1) to do this.\n",
        "\n",
        "\n",
        "---\n",
        "* **Note:** There are a **lot of functions for changing the shapes of arrays in numpy flatten, ravel** and also for r**earranging the elements rot90, flip, fliplr, flipud** etc.  Advanced section of numpy.\n"
      ],
      "metadata": {
        "id": "WMkYMN9lgDdl"
      }
    },
    {
      "cell_type": "code",
      "source": [
        "import numpy as np\n",
        "\n",
        "arr = np.array([[1, 2, 3], [4, 5, 6]])\n",
        "\n",
        "newarr = arr.reshape(-1)\n",
        "\n",
        "print(newarr)"
      ],
      "metadata": {
        "colab": {
          "base_uri": "https://localhost:8080/"
        },
        "id": "KBMoqjuMpd0K",
        "outputId": "62662f32-ee3c-4242-bc44-e3b4e6610bd8"
      },
      "execution_count": null,
      "outputs": [
        {
          "output_type": "stream",
          "name": "stdout",
          "text": [
            "[1 2 3 4 5 6]\n"
          ]
        }
      ]
    },
    {
      "cell_type": "markdown",
      "source": [
        "# NumPy Array Iterating"
      ],
      "metadata": {
        "id": "kONYgQozqJD9"
      }
    },
    {
      "cell_type": "markdown",
      "source": [
        "**Iterating Arrays**\n",
        "\n",
        "---\n",
        "* Iterating means going through elements one by one.\n",
        "\n",
        "* As we deal with multi-dimensional arrays in numpy, we can do this using basic for loop of python.\n",
        "\n",
        "* If we iterate on a 1-D array it will go through each element one by one.\n",
        "\n",
        "\n",
        "---\n",
        "* If we iterate on a n-D array it will go through n-1th dimension one by one\n",
        "\n"
      ],
      "metadata": {
        "id": "wnW0AuaKqKbP"
      }
    },
    {
      "cell_type": "markdown",
      "source": [
        "**Iterating in 1D Array**\n",
        "\n",
        "---\n",
        "\n",
        "\n",
        "1. Iterate on the elements of the following 1-D array:"
      ],
      "metadata": {
        "id": "nf2avAkuv4jI"
      }
    },
    {
      "cell_type": "code",
      "source": [
        "import numpy as np\n",
        "\n",
        "arr = np.array([1, 2, 3])\n",
        "\n",
        "for x in arr:\n",
        "  print(x)"
      ],
      "metadata": {
        "colab": {
          "base_uri": "https://localhost:8080/"
        },
        "id": "ZwOJFgCDv6jC",
        "outputId": "fb7abbe3-7d97-48bc-a433-8fa9abab0471"
      },
      "execution_count": null,
      "outputs": [
        {
          "output_type": "stream",
          "name": "stdout",
          "text": [
            "1\n",
            "2\n",
            "3\n"
          ]
        }
      ]
    },
    {
      "cell_type": "markdown",
      "source": [
        "**Iterating 2-D Arrays**\n",
        "\n",
        "---\n",
        "\n",
        "\n",
        "2. In a 2-D array it will go through all the rows."
      ],
      "metadata": {
        "id": "GDwQ90Hjv82J"
      }
    },
    {
      "cell_type": "code",
      "source": [
        "import numpy as np\n",
        "\n",
        "arr = np.array([[1, 2, 3], [4, 5, 6]])\n",
        "\n",
        "for x in arr:\n",
        "  print(x)"
      ],
      "metadata": {
        "colab": {
          "base_uri": "https://localhost:8080/"
        },
        "id": "NEI-pJBNwB9Z",
        "outputId": "eeb6cd76-5a98-4e11-fd4b-3b2bd112fa93"
      },
      "execution_count": null,
      "outputs": [
        {
          "output_type": "stream",
          "name": "stdout",
          "text": [
            "[1 2 3]\n",
            "[4 5 6]\n"
          ]
        }
      ]
    },
    {
      "cell_type": "markdown",
      "source": [
        "3. Iterate on each scalar element of the 2-D array:"
      ],
      "metadata": {
        "id": "nJ12Vg3xwRh_"
      }
    },
    {
      "cell_type": "code",
      "source": [
        "import numpy as np\n",
        "\n",
        "arr = np.array([[1, 2, 3], [4, 5, 6]])\n",
        "\n",
        "for x in arr:\n",
        "  for y in x:\n",
        "    print(y)"
      ],
      "metadata": {
        "colab": {
          "base_uri": "https://localhost:8080/"
        },
        "id": "IFyMtetPwSko",
        "outputId": "890728ee-efcb-4a1d-b6c6-9d91fea60c81"
      },
      "execution_count": null,
      "outputs": [
        {
          "output_type": "stream",
          "name": "stdout",
          "text": [
            "1\n",
            "2\n",
            "3\n",
            "4\n",
            "5\n",
            "6\n"
          ]
        }
      ]
    },
    {
      "cell_type": "markdown",
      "source": [
        "**Iterating 3-D Arrays**\n",
        "\n",
        "---\n",
        "4. In a 3-D array it will go through all the 2-D arrays.\n"
      ],
      "metadata": {
        "id": "NtL32q0wwfGR"
      }
    },
    {
      "cell_type": "code",
      "source": [
        "import numpy as np\n",
        "\n",
        "arr = np.array([[[1, 2, 3], [4, 5, 6]], [[7, 8, 9], [10, 11, 12]]])\n",
        "\n",
        "for x in arr:\n",
        "  print(x)"
      ],
      "metadata": {
        "colab": {
          "base_uri": "https://localhost:8080/"
        },
        "id": "5fpV8ml5w1x-",
        "outputId": "10130908-7bac-4228-af54-44fc3548f912"
      },
      "execution_count": null,
      "outputs": [
        {
          "output_type": "stream",
          "name": "stdout",
          "text": [
            "[[1 2 3]\n",
            " [4 5 6]]\n",
            "[[ 7  8  9]\n",
            " [10 11 12]]\n"
          ]
        }
      ]
    },
    {
      "cell_type": "markdown",
      "source": [
        "5. Iterate down to the scalars:"
      ],
      "metadata": {
        "id": "Vk6NPXqLw6N-"
      }
    },
    {
      "cell_type": "code",
      "source": [
        "import numpy as np\n",
        "\n",
        "arr = np.array([[[1, 2, 3], [4, 5, 6]], [[7, 8, 9], [10, 11, 12]]])\n",
        "\n",
        "for x in arr:\n",
        "  for y in x:\n",
        "    for z in y:\n",
        "      print(z)\n"
      ],
      "metadata": {
        "colab": {
          "base_uri": "https://localhost:8080/"
        },
        "id": "uNhtutSNw7SC",
        "outputId": "957f40d4-afbd-400b-b34e-a2836227de2e"
      },
      "execution_count": null,
      "outputs": [
        {
          "output_type": "stream",
          "name": "stdout",
          "text": [
            "1\n",
            "2\n",
            "3\n",
            "4\n",
            "5\n",
            "6\n",
            "7\n",
            "8\n",
            "9\n",
            "10\n",
            "11\n",
            "12\n"
          ]
        }
      ]
    },
    {
      "cell_type": "markdown",
      "source": [
        "**Iterating Arrays Using nditer()**\n",
        "\n",
        "---\n",
        "* The function nditer() is a helping function that can be used from very basic to very advanced iterations.\n",
        "*  It solves some basic issues which we face in iteration, lets go through it with examples.\n",
        "\n",
        "\n",
        "---\n",
        "\n"
      ],
      "metadata": {
        "id": "sWoON7SoxJtA"
      }
    },
    {
      "cell_type": "markdown",
      "source": [
        "1.  **Iterating on Each Scalar Element**\n",
        "\n",
        "---\n",
        "* In basic for loops, iterating through each scalar of an array we need to use n for loops which can be **difficult to write for arrays with very high dimensionality.**\n",
        "\n",
        "\n"
      ],
      "metadata": {
        "id": "gSl-B3D5xNQz"
      }
    },
    {
      "cell_type": "markdown",
      "source": [
        "Iterate through the following 3-D array:"
      ],
      "metadata": {
        "id": "wh4QndZ1xs2j"
      }
    },
    {
      "cell_type": "code",
      "source": [
        "import numpy as np\n",
        "\n",
        "arr = np.array([[[1, 2], [3, 4]], [[5, 6], [7, 8]]])\n",
        "\n",
        "for x in np.nditer(arr):\n",
        "  print(x)"
      ],
      "metadata": {
        "colab": {
          "base_uri": "https://localhost:8080/"
        },
        "id": "BWdwx5BVxjJk",
        "outputId": "1c7d87b5-0bfb-48d4-9791-caab4f5b2c09"
      },
      "execution_count": null,
      "outputs": [
        {
          "output_type": "stream",
          "name": "stdout",
          "text": [
            "1\n",
            "2\n",
            "3\n",
            "4\n",
            "5\n",
            "6\n",
            "7\n",
            "8\n"
          ]
        }
      ]
    },
    {
      "cell_type": "markdown",
      "source": [
        "2. **Iterating Array With Different Data Types**\n",
        "\n",
        "---\n",
        "\n",
        "* can use **op_dtypes argument** and pass it the expected datatype to change the datatype of elements while iterating.\n",
        "* NumPy does not change the data type of the element in-place (where the element is in array) so it needs some other space to perform this action, that extra space is called **buffer**, and in order to enable it in **nditer() we pass flags=['buffered'].**"
      ],
      "metadata": {
        "id": "O346stcOxyyV"
      }
    },
    {
      "cell_type": "markdown",
      "source": [
        "Iterate through the array as a string:"
      ],
      "metadata": {
        "id": "7VJLEANgyH5o"
      }
    },
    {
      "cell_type": "code",
      "source": [
        "import numpy as np\n",
        "\n",
        "arr = np.array([1, 2, 3])\n",
        "\n",
        "for x in np.nditer(arr, flags=['buffered'], op_dtypes=['S']):\n",
        "  print(x)\n",
        "\n",
        "# string prefixed with b is a bytes object"
      ],
      "metadata": {
        "colab": {
          "base_uri": "https://localhost:8080/"
        },
        "id": "-1zmymBhyEhF",
        "outputId": "12db8be6-ed79-4d19-e5ec-236c7a2c405e"
      },
      "execution_count": null,
      "outputs": [
        {
          "output_type": "stream",
          "name": "stdout",
          "text": [
            "b'1'\n",
            "b'2'\n",
            "b'3'\n"
          ]
        }
      ]
    },
    {
      "cell_type": "markdown",
      "source": [
        "3. **Iterating With Different Step Size**\n",
        "\n",
        "---\n",
        "* We can use filtering and followed by iteration.\n",
        "\n",
        "\n",
        "---\n",
        "\n",
        "\n"
      ],
      "metadata": {
        "id": "_hGBKtUoyTyx"
      }
    },
    {
      "cell_type": "markdown",
      "source": [
        "Iterate through every scalar element of the 2D array skipping 1 element:"
      ],
      "metadata": {
        "id": "oSt58RsfyZ6N"
      }
    },
    {
      "cell_type": "code",
      "source": [
        "import numpy as np\n",
        "\n",
        "arr = np.array([[1, 2, 3, 4], [5, 6, 7, 8]])\n",
        "\n",
        "for x in np.nditer(arr[:, ::2]):\n",
        "  print(x)"
      ],
      "metadata": {
        "colab": {
          "base_uri": "https://localhost:8080/"
        },
        "id": "-idbErvXycTQ",
        "outputId": "19570db4-b852-44aa-8d3e-7da6da9106aa"
      },
      "execution_count": null,
      "outputs": [
        {
          "output_type": "stream",
          "name": "stdout",
          "text": [
            "1\n",
            "3\n",
            "5\n",
            "7\n"
          ]
        }
      ]
    },
    {
      "cell_type": "markdown",
      "source": [
        "4. **Enumerated Iteration Using ndenumerate()**\n",
        "\n",
        "---\n",
        "* Enumeration means mentioning sequence number of somethings one by one.\n",
        "\n",
        "* Sometimes we **require corresponding index of the element while iterating, the ndenumerate() method can be used for those usecases.**\n"
      ],
      "metadata": {
        "id": "ioG75K83ytZc"
      }
    },
    {
      "cell_type": "code",
      "source": [
        "import numpy as np\n",
        "\n",
        "arr = np.array([1, 2, 3])\n",
        "\n",
        "for idx, x in np.ndenumerate(arr):\n",
        "  print(idx, x)"
      ],
      "metadata": {
        "colab": {
          "base_uri": "https://localhost:8080/"
        },
        "id": "18dCgrNvy6lF",
        "outputId": "23d5589d-af38-40ba-f946-e69b6a22ad43"
      },
      "execution_count": null,
      "outputs": [
        {
          "output_type": "stream",
          "name": "stdout",
          "text": [
            "(0,) 1\n",
            "(1,) 2\n",
            "(2,) 3\n"
          ]
        }
      ]
    },
    {
      "cell_type": "markdown",
      "source": [
        "Enumerate on following 2D array's elements:"
      ],
      "metadata": {
        "id": "zv3m1A5Ky_kl"
      }
    },
    {
      "cell_type": "code",
      "source": [
        "import numpy as np\n",
        "\n",
        "arr = np.array([[1, 2, 3, 4], [5, 6, 7, 8]])\n",
        "\n",
        "for idx, x in np.ndenumerate(arr):\n",
        "  print(idx, x)"
      ],
      "metadata": {
        "colab": {
          "base_uri": "https://localhost:8080/"
        },
        "id": "76B3k-XFzAEk",
        "outputId": "0438b5d1-65a6-4c0e-98b5-898826c66934"
      },
      "execution_count": null,
      "outputs": [
        {
          "output_type": "stream",
          "name": "stdout",
          "text": [
            "(0, 0) 1\n",
            "(0, 1) 2\n",
            "(0, 2) 3\n",
            "(0, 3) 4\n",
            "(1, 0) 5\n",
            "(1, 1) 6\n",
            "(1, 2) 7\n",
            "(1, 3) 8\n"
          ]
        }
      ]
    },
    {
      "cell_type": "markdown",
      "source": [
        "Enumerate on following 3D array's elements:"
      ],
      "metadata": {
        "id": "97uPCIywzLlz"
      }
    },
    {
      "cell_type": "code",
      "source": [
        "import numpy as np\n",
        "arr = np.array([[[1, 2, 3], [4, 5, 6]], [[7, 8, 9], [10, 11, 12]]])\n",
        "for idx, x in np.ndenumerate(arr):\n",
        "  print(idx, x)"
      ],
      "metadata": {
        "colab": {
          "base_uri": "https://localhost:8080/"
        },
        "id": "1E44mQM0zMGH",
        "outputId": "0dec15ce-94ea-4b8f-c55b-2a25fd3e3bc1"
      },
      "execution_count": null,
      "outputs": [
        {
          "output_type": "stream",
          "name": "stdout",
          "text": [
            "(0, 0, 0) 1\n",
            "(0, 0, 1) 2\n",
            "(0, 0, 2) 3\n",
            "(0, 1, 0) 4\n",
            "(0, 1, 1) 5\n",
            "(0, 1, 2) 6\n",
            "(1, 0, 0) 7\n",
            "(1, 0, 1) 8\n",
            "(1, 0, 2) 9\n",
            "(1, 1, 0) 10\n",
            "(1, 1, 1) 11\n",
            "(1, 1, 2) 12\n"
          ]
        }
      ]
    },
    {
      "cell_type": "markdown",
      "source": [
        "# NumPy Joining Array"
      ],
      "metadata": {
        "id": "Xu8Kgpc4zaA0"
      }
    },
    {
      "cell_type": "markdown",
      "source": [
        "* Joining means putting contents of two or more arrays in a single array.\n",
        "\n",
        "* In SQL we join tables based on a key, whereas in NumPy we join arrays by axes.\n",
        "\n",
        "* We pass a sequence of arrays that we want to join to the **concatenate() function**, **along with the axis**. **If axis is not explicitly passed, it is taken as 0.**"
      ],
      "metadata": {
        "id": "FGBoGq39zbUp"
      }
    },
    {
      "cell_type": "markdown",
      "source": [
        "Join two arrays:"
      ],
      "metadata": {
        "id": "ca2Dtdyfzlu3"
      }
    },
    {
      "cell_type": "code",
      "source": [
        "import numpy as np\n",
        "\n",
        "arr1 = np.array([1, 2, 3])\n",
        "\n",
        "arr2 = np.array([4, 5, 6])\n",
        "\n",
        "arr = np.concatenate((arr1, arr2))\n",
        "\n",
        "print(arr)"
      ],
      "metadata": {
        "colab": {
          "base_uri": "https://localhost:8080/"
        },
        "id": "IH0h0QR_zqlX",
        "outputId": "216c5c91-9ce2-4626-e8e8-67dfe6c7be31"
      },
      "execution_count": null,
      "outputs": [
        {
          "output_type": "stream",
          "name": "stdout",
          "text": [
            "[1 2 3 4 5 6]\n"
          ]
        }
      ]
    },
    {
      "cell_type": "markdown",
      "source": [
        "Join two 2-D arrays along rows (axis=1):"
      ],
      "metadata": {
        "id": "IdoH-lL-z0Hj"
      }
    },
    {
      "cell_type": "code",
      "source": [
        "import numpy as np\n",
        "\n",
        "arr1 = np.array([[1, 2], [3, 4]])\n",
        "\n",
        "arr2 = np.array([[5, 6], [7, 8]])\n",
        "\n",
        "arr = np.concatenate((arr1, arr2), axis=1)\n",
        "\n",
        "print(arr)"
      ],
      "metadata": {
        "colab": {
          "base_uri": "https://localhost:8080/"
        },
        "id": "Tau_-fxIz0qK",
        "outputId": "cbde7b43-af0e-44a4-a04a-46f1e1f7ac0b"
      },
      "execution_count": null,
      "outputs": [
        {
          "output_type": "stream",
          "name": "stdout",
          "text": [
            "[[1 2 5 6]\n",
            " [3 4 7 8]]\n"
          ]
        }
      ]
    },
    {
      "cell_type": "code",
      "source": [
        "import numpy as np\n",
        "\n",
        "arr1 = np.array([[1, 2], [3, 4]])\n",
        "\n",
        "arr2 = np.array([[5, 6], [7, 8]])\n",
        "\n",
        "arr = np.concatenate((arr1, arr2))\n",
        "\n",
        "print(arr)"
      ],
      "metadata": {
        "colab": {
          "base_uri": "https://localhost:8080/"
        },
        "id": "PW7pUBxmKR52",
        "outputId": "37843fce-c25e-42d4-95c5-c2700445318d"
      },
      "execution_count": null,
      "outputs": [
        {
          "output_type": "stream",
          "name": "stdout",
          "text": [
            "[[1 2]\n",
            " [3 4]\n",
            " [5 6]\n",
            " [7 8]]\n"
          ]
        }
      ]
    },
    {
      "cell_type": "markdown",
      "source": [
        "**Understanding axis and Its Role:**\n",
        "\n",
        "---\n",
        "\n",
        "\n",
        "* **axis=0:**\n",
        "   * **Joins along the rows (vertically).**\n",
        "   * The arrays are stacked one on top of the other.\n",
        "   * The number of columns in the arrays must match.\n",
        "* **axis=1:**\n",
        "   * **Joins along the columns (horizontally).**\n",
        "   * The arrays are placed side by side.\n",
        "   * The number of rows in the arrays must match."
      ],
      "metadata": {
        "id": "lMQ-SX6X0agn"
      }
    },
    {
      "cell_type": "code",
      "source": [
        "import numpy as np\n",
        "\n",
        "arr1 = np.array([[1, 2], [3, 4]])\n",
        "\n",
        "arr2 = np.array([[5, 6], [7, 8]])\n",
        "\n",
        "print(arr1)\n",
        "\n",
        "print(\"\\n\",arr2)\n",
        "print(\"--------After Joining ( without giving axis=\"\" ,by default it is 0 ) -----------------\")\n",
        "arr = np.concatenate((arr1, arr2))\n",
        "\n",
        "print(arr)"
      ],
      "metadata": {
        "colab": {
          "base_uri": "https://localhost:8080/"
        },
        "id": "fU97X3sB0vIa",
        "outputId": "c2e5d727-0433-480b-f7f7-1e5f5222ffd9"
      },
      "execution_count": null,
      "outputs": [
        {
          "output_type": "stream",
          "name": "stdout",
          "text": [
            "[[1 2]\n",
            " [3 4]]\n",
            "\n",
            " [[5 6]\n",
            " [7 8]]\n",
            "--------After Joining ( without giving axis= ,by default it is 0 ) -----------------\n",
            "[[1 2]\n",
            " [3 4]\n",
            " [5 6]\n",
            " [7 8]]\n"
          ]
        }
      ]
    },
    {
      "cell_type": "code",
      "source": [
        "import numpy as np\n",
        "\n",
        "arr1 = np.array([[1, 2], [3, 4]])\n",
        "\n",
        "arr2 = np.array([[5, 6], [7, 8]])\n",
        "\n",
        "print(arr1)\n",
        "\n",
        "print(\"\\n\",arr2)\n",
        "print(\"--------After Joining ( giving axis = 1  ) -----------------\")\n",
        "arr = np.concatenate((arr1, arr2), axis=1)\n",
        "\n",
        "print(arr)"
      ],
      "metadata": {
        "colab": {
          "base_uri": "https://localhost:8080/"
        },
        "id": "TwaBkNWS1VXA",
        "outputId": "004444dc-fc6f-4a38-a629-0e16136998e3"
      },
      "execution_count": null,
      "outputs": [
        {
          "output_type": "stream",
          "name": "stdout",
          "text": [
            "[[1 2]\n",
            " [3 4]]\n",
            "\n",
            " [[5 6]\n",
            " [7 8]]\n",
            "--------After Joining ( giving axis = 1  ) -----------------\n",
            "[[1 2 5 6]\n",
            " [3 4 7 8]]\n"
          ]
        }
      ]
    },
    {
      "cell_type": "markdown",
      "source": [
        "**Joining Arrays Using Stack Functions**\n",
        "\n",
        "---\n",
        "* Stacking is same as concatenation, the **only difference is that stacking is done along a new axis.**\n",
        "\n",
        "* We can concatenate two 1-D arrays along the second axis which would result in putting them one over the other, ie. stacking.\n",
        "\n",
        "* We pass a sequence of arrays that we want to join to the **stack() method along with the axis**. **If axis is not explicitly passed it is taken as 0.**\n",
        "\n",
        "\n",
        "---\n",
        "\n"
      ],
      "metadata": {
        "id": "0IkVAO4C11Fg"
      }
    },
    {
      "cell_type": "code",
      "source": [
        "import numpy as np\n",
        "\n",
        "arr1 = np.array([1, 2, 3])\n",
        "\n",
        "arr2 = np.array([4, 5, 6])\n",
        "\n",
        "arr = np.stack((arr1, arr2), axis=1)\n",
        "\n",
        "print(arr)\n"
      ],
      "metadata": {
        "colab": {
          "base_uri": "https://localhost:8080/"
        },
        "id": "HF9ZpKYO3jRU",
        "outputId": "ecafed9e-1897-4359-cea5-db59c03f39a9"
      },
      "execution_count": null,
      "outputs": [
        {
          "output_type": "stream",
          "name": "stdout",
          "text": [
            "[[1 4]\n",
            " [2 5]\n",
            " [3 6]]\n"
          ]
        }
      ]
    },
    {
      "cell_type": "code",
      "source": [
        "import numpy as np\n",
        "\n",
        "arr1 = np.array([1, 2, 3])\n",
        "\n",
        "arr2 = np.array([4, 5, 6])\n",
        "\n",
        "print(arr1)\n",
        "print(\"\\n\",arr2)\n",
        "\n",
        "print(\"\\n----- BY Using Stack (axis =1 )  --------\\n\")\n",
        "arr_stack1 = np.stack((arr1, arr2), axis=1)\n",
        "print(arr_stack1)\n",
        "\n",
        "print(\"\\n----- BY Using Stack (axis =0 )  --------\\n\")\n",
        "arr_stack0 = np.stack((arr1, arr2), axis=0)\n",
        "print(arr_stack0)\n",
        "\n",
        "print(\"\\n------- BY Using Concatenate (By default or axis =0)------\\n\")\n",
        "arr_con = np.concatenate((arr1, arr2))\n",
        "print(arr_con)\n"
      ],
      "metadata": {
        "id": "nS4nVvsY2MKu",
        "colab": {
          "base_uri": "https://localhost:8080/"
        },
        "outputId": "346ead3c-c002-453e-e224-b3882ac85303"
      },
      "execution_count": null,
      "outputs": [
        {
          "output_type": "stream",
          "name": "stdout",
          "text": [
            "[1 2 3]\n",
            "\n",
            " [4 5 6]\n",
            "\n",
            "----- BY Using Stack (axis =1 )  --------\n",
            "\n",
            "[[1 4]\n",
            " [2 5]\n",
            " [3 6]]\n",
            "\n",
            "----- BY Using Stack (axis =0 )  --------\n",
            "\n",
            "[[1 2 3]\n",
            " [4 5 6]]\n",
            "\n",
            "------- BY Using Concatenate (By default or axis =0)------\n",
            "\n",
            "[1 2 3 4 5 6]\n"
          ]
        }
      ]
    },
    {
      "cell_type": "markdown",
      "source": [
        "**Stacking Along Rows**\n",
        "\n",
        "---\n",
        "* **hstack()** to stack along rows.\n"
      ],
      "metadata": {
        "id": "d2bM7W4C3oMT"
      }
    },
    {
      "cell_type": "code",
      "source": [
        "import numpy as np\n",
        "\n",
        "arr1 = np.array([1, 2, 3])\n",
        "\n",
        "arr2 = np.array([4, 5, 6])\n",
        "\n",
        "arr = np.hstack((arr1, arr2))\n",
        "\n",
        "print(arr)"
      ],
      "metadata": {
        "colab": {
          "base_uri": "https://localhost:8080/"
        },
        "id": "KffPp5tK3xo_",
        "outputId": "ca10b937-fd92-456b-c1c6-810805c81615"
      },
      "execution_count": null,
      "outputs": [
        {
          "output_type": "stream",
          "name": "stdout",
          "text": [
            "[1 2 3 4 5 6]\n"
          ]
        }
      ]
    },
    {
      "cell_type": "markdown",
      "source": [
        "**Stacking Along Columns**\n",
        "\n",
        "---\n",
        "* **vstack()** to stack along columns.\n"
      ],
      "metadata": {
        "id": "Nq9vovKV33y1"
      }
    },
    {
      "cell_type": "code",
      "source": [
        "import numpy as np\n",
        "\n",
        "arr1 = np.array([1, 2, 3])\n",
        "\n",
        "arr2 = np.array([4, 5, 6])\n",
        "\n",
        "arr = np.vstack((arr1, arr2))\n",
        "\n",
        "print(arr)"
      ],
      "metadata": {
        "colab": {
          "base_uri": "https://localhost:8080/"
        },
        "id": "z5gCmzDf39T4",
        "outputId": "f663a320-088f-43b2-a463-0c4c08b585e4"
      },
      "execution_count": null,
      "outputs": [
        {
          "output_type": "stream",
          "name": "stdout",
          "text": [
            "[[1 2 3]\n",
            " [4 5 6]]\n"
          ]
        }
      ]
    },
    {
      "cell_type": "markdown",
      "source": [
        "\n",
        "**Stacking Along Height (depth)**\n",
        "\n",
        "---\n",
        "* **dstack()** to stack along height, which is the same as depth\n"
      ],
      "metadata": {
        "id": "NxO-5yL04EPs"
      }
    },
    {
      "cell_type": "code",
      "source": [
        "import numpy as np\n",
        "\n",
        "arr1 = np.array([1, 2, 3])\n",
        "\n",
        "arr2 = np.array([4, 5, 6])\n",
        "\n",
        "arr = np.dstack((arr1, arr2))\n",
        "\n",
        "print(arr)"
      ],
      "metadata": {
        "colab": {
          "base_uri": "https://localhost:8080/"
        },
        "id": "5FP7GC9_4KwJ",
        "outputId": "21311a88-e74a-4a8b-95ef-05efdec386dd"
      },
      "execution_count": null,
      "outputs": [
        {
          "output_type": "stream",
          "name": "stdout",
          "text": [
            "[[[1 4]\n",
            "  [2 5]\n",
            "  [3 6]]]\n"
          ]
        }
      ]
    },
    {
      "cell_type": "markdown",
      "source": [
        "# NumPy Splitting Array"
      ],
      "metadata": {
        "id": "2g432kdj4gdc"
      }
    },
    {
      "cell_type": "markdown",
      "source": [
        " **Splitting NumPy Arrays**\n",
        "\n",
        "---\n",
        "* Splitting is reverse operation of Joining.\n",
        "\n",
        "* Joining merges multiple arrays into one and **Splitting breaks one array into multiple.**\n",
        "\n",
        "* We use **array_split()** for splitting arrays, we pass it the array we want to split and the number of splits.\n",
        "\n",
        "\n",
        "---\n",
        "* **Note: The return value is a list containing three arrays.**\n",
        "* **Note: We also have the method *split()* available but it will not adjust the elements when elements are less in source array for splitting like in example above, array_split() worked properly**\n"
      ],
      "metadata": {
        "id": "JNag_Cb44iDn"
      }
    },
    {
      "cell_type": "markdown",
      "source": [
        "Split the array in 3 parts:"
      ],
      "metadata": {
        "id": "iGL_9lyS7Tyo"
      }
    },
    {
      "cell_type": "code",
      "source": [
        "import numpy as np\n",
        "\n",
        "arr = np.array([1, 2, 3, 4, 5, 6])\n",
        "\n",
        "newarr = np.array_split(arr, 3)\n",
        "\n",
        "print(newarr)"
      ],
      "metadata": {
        "colab": {
          "base_uri": "https://localhost:8080/"
        },
        "id": "V_qwt7UP7VzQ",
        "outputId": "8281d06e-77db-433b-bf12-d7948b4a345c"
      },
      "execution_count": null,
      "outputs": [
        {
          "output_type": "stream",
          "name": "stdout",
          "text": [
            "[array([1, 2]), array([3, 4]), array([5, 6])]\n"
          ]
        }
      ]
    },
    {
      "cell_type": "code",
      "source": [
        "# Optional\n",
        "# newarr_as_lists = [sub_arr.tolist() for sub_arr in newarr]\n",
        "# print(newarr_as_lists)"
      ],
      "metadata": {
        "id": "lwUZGNLw7v3j"
      },
      "execution_count": null,
      "outputs": []
    },
    {
      "cell_type": "markdown",
      "source": [
        "* If the array has less elements than required, it will adjust from the end accordingly.\n",
        "\n",
        "---\n",
        "\n"
      ],
      "metadata": {
        "id": "K1KvkCz_7-dd"
      }
    },
    {
      "cell_type": "code",
      "source": [
        "# Split the array in 4 parts:\n",
        "import numpy as np\n",
        "\n",
        "arr = np.array([1, 2, 3, 4, 5, 6])\n",
        "\n",
        "newarr = np.array_split(arr, 4)\n",
        "\n",
        "print(newarr)"
      ],
      "metadata": {
        "colab": {
          "base_uri": "https://localhost:8080/"
        },
        "id": "Uy15C7Lq8Los",
        "outputId": "95d3f0e6-6d1e-48d2-a90d-190af5bc2dbd"
      },
      "execution_count": null,
      "outputs": [
        {
          "output_type": "stream",
          "name": "stdout",
          "text": [
            "[array([1, 2]), array([3, 4]), array([5]), array([6])]\n"
          ]
        }
      ]
    },
    {
      "cell_type": "markdown",
      "source": [
        "**Split Into Arrays**\n",
        "\n",
        "---\n",
        "* The return value of the array_split() method is an array containing each of the split as an array.\n",
        "\n",
        "* If you split an array into 3 arrays, you can access them from the result just like any array element\n"
      ],
      "metadata": {
        "id": "bqsW7hjS8wlp"
      }
    },
    {
      "cell_type": "code",
      "source": [
        "import numpy as np\n",
        "\n",
        "arr = np.array([1, 2, 3, 4, 5, 6])\n",
        "\n",
        "newarr = np.array_split(arr, 3)\n",
        "print(newarr)\n",
        "\n",
        "print(\"-------------------------\")\n",
        "print(newarr[0])\n",
        "print(newarr[1])\n",
        "print(newarr[2])\n",
        "print(\"\\n----------------- if using upacking and printing (packing and unpacking concept in python ) -------------\")\n",
        "print(*newarr)  # Upacking and printing"
      ],
      "metadata": {
        "colab": {
          "base_uri": "https://localhost:8080/"
        },
        "id": "DTqCIJgS9ASB",
        "outputId": "8ad5513b-22f6-4675-fb46-9184169e925c"
      },
      "execution_count": null,
      "outputs": [
        {
          "output_type": "stream",
          "name": "stdout",
          "text": [
            "[array([1, 2]), array([3, 4]), array([5, 6])]\n",
            "-------------------------\n",
            "[1 2]\n",
            "[3 4]\n",
            "[5 6]\n",
            "\n",
            "----------------- if using upacking and printing (packing and unpacking concept in python ) -------------\n",
            "[1 2] [3 4] [5 6]\n"
          ]
        }
      ]
    },
    {
      "cell_type": "markdown",
      "source": [
        "**Splitting 2-D Arrays**\n",
        "\n",
        "---\n",
        "\n"
      ],
      "metadata": {
        "id": "hyqUQZp29FS3"
      }
    },
    {
      "cell_type": "markdown",
      "source": [
        "Split the 2-D array into three 2-D arrays."
      ],
      "metadata": {
        "id": "onl1cxFE9Na0"
      }
    },
    {
      "cell_type": "code",
      "source": [
        "import numpy as np\n",
        "\n",
        "arr = np.array([[1, 2], [3, 4], [5, 6], [7, 8], [9, 10], [11, 12]])\n",
        "print(arr)\n",
        "print(arr.shape)\n",
        "print(\"-------------------------------------------------------------\")\n",
        "\n",
        "newarr = np.array_split(arr, 3)\n",
        "\n",
        "print(newarr)\n",
        "print(\"---------------------Type of newarr (After splitting)-----------------------\")\n",
        "print(type(newarr))\n",
        "print(\"----------------------by unpacking---------------------------------------\")\n",
        "\n",
        "print(*newarr)"
      ],
      "metadata": {
        "colab": {
          "base_uri": "https://localhost:8080/"
        },
        "id": "Ewt6zSOE9JXd",
        "outputId": "8453a501-9e90-4bc4-ae0b-40ba523f49c5"
      },
      "execution_count": null,
      "outputs": [
        {
          "output_type": "stream",
          "name": "stdout",
          "text": [
            "[[ 1  2]\n",
            " [ 3  4]\n",
            " [ 5  6]\n",
            " [ 7  8]\n",
            " [ 9 10]\n",
            " [11 12]]\n",
            "(6, 2)\n",
            "-------------------------------------------------------------\n",
            "[array([[1, 2],\n",
            "       [3, 4]]), array([[5, 6],\n",
            "       [7, 8]]), array([[ 9, 10],\n",
            "       [11, 12]])]\n",
            "---------------------Type of newarr (After splitting)-----------------------\n",
            "<class 'list'>\n",
            "----------------------by unpacking---------------------------------------\n",
            "[[1 2]\n",
            " [3 4]] [[5 6]\n",
            " [7 8]] [[ 9 10]\n",
            " [11 12]]\n"
          ]
        }
      ]
    },
    {
      "cell_type": "markdown",
      "source": [
        "Split the 2-D array into three 2-D arrays.( this time each element in the 2-D arrays contains 3 elements.)"
      ],
      "metadata": {
        "id": "09K9f_VuEo5A"
      }
    },
    {
      "cell_type": "code",
      "source": [
        "import numpy as np\n",
        "\n",
        "arr = np.array([[1, 2, 3], [4, 5, 6], [7, 8, 9], [10, 11, 12], [13, 14, 15], [16, 17, 18]])\n",
        "\n",
        "newarr = np.array_split(arr, 3)\n",
        "\n",
        "print(newarr)\n",
        "# print(*newarr)"
      ],
      "metadata": {
        "colab": {
          "base_uri": "https://localhost:8080/"
        },
        "id": "M1JC4hZ0Epzp",
        "outputId": "aa39bb4f-7187-484a-e948-450c61635ce4"
      },
      "execution_count": null,
      "outputs": [
        {
          "output_type": "stream",
          "name": "stdout",
          "text": [
            "[array([[1, 2, 3],\n",
            "       [4, 5, 6]]), array([[ 7,  8,  9],\n",
            "       [10, 11, 12]]), array([[13, 14, 15],\n",
            "       [16, 17, 18]])]\n",
            "[[1 2 3]\n",
            " [4 5 6]] [[ 7  8  9]\n",
            " [10 11 12]] [[13 14 15]\n",
            " [16 17 18]]\n"
          ]
        }
      ]
    },
    {
      "cell_type": "markdown",
      "source": [
        "Split the 2-D array into three 2-D arrays along rows.( returns three 2-D arrays, but they are split along the row (axis=1).)"
      ],
      "metadata": {
        "id": "NE_EultvFEwR"
      }
    },
    {
      "cell_type": "code",
      "source": [
        "import numpy as np\n",
        "\n",
        "arr = np.array([[1, 2, 3], [4, 5, 6], [7, 8, 9], [10, 11, 12], [13, 14, 15], [16, 17, 18]])\n",
        "\n",
        "newarr = np.array_split(arr, 3, axis=1)\n",
        "\n",
        "print(newarr)\n",
        "# print(*newarr)"
      ],
      "metadata": {
        "colab": {
          "base_uri": "https://localhost:8080/"
        },
        "id": "d48HQghLFIY9",
        "outputId": "4bc2b5d6-37de-40db-c924-0f1a963764a1"
      },
      "execution_count": null,
      "outputs": [
        {
          "output_type": "stream",
          "name": "stdout",
          "text": [
            "[array([[ 1],\n",
            "       [ 4],\n",
            "       [ 7],\n",
            "       [10],\n",
            "       [13],\n",
            "       [16]]), array([[ 2],\n",
            "       [ 5],\n",
            "       [ 8],\n",
            "       [11],\n",
            "       [14],\n",
            "       [17]]), array([[ 3],\n",
            "       [ 6],\n",
            "       [ 9],\n",
            "       [12],\n",
            "       [15],\n",
            "       [18]])]\n"
          ]
        }
      ]
    },
    {
      "cell_type": "markdown",
      "source": [
        "**An alternate solution is using hsplit() opposite of hstack()**\n",
        "* Use the hsplit() method to split the 2-D array into three 2-D arrays along rows."
      ],
      "metadata": {
        "id": "byI0vJKjFb9J"
      }
    },
    {
      "cell_type": "code",
      "source": [
        "import numpy as np\n",
        "\n",
        "arr = np.array([[1, 2, 3], [4, 5, 6], [7, 8, 9], [10, 11, 12], [13, 14, 15], [16, 17, 18]])\n",
        "print(arr)\n",
        "newarr = np.hsplit(arr, 3)\n",
        "\n",
        "print(newarr)\n",
        "# print(*newarr)\n"
      ],
      "metadata": {
        "colab": {
          "base_uri": "https://localhost:8080/"
        },
        "id": "xiKqQYBaFdil",
        "outputId": "8fa4df18-d8c3-46c9-c871-6f8662729c8a"
      },
      "execution_count": null,
      "outputs": [
        {
          "output_type": "stream",
          "name": "stdout",
          "text": [
            "[[ 1  2  3]\n",
            " [ 4  5  6]\n",
            " [ 7  8  9]\n",
            " [10 11 12]\n",
            " [13 14 15]\n",
            " [16 17 18]]\n",
            "[array([[ 1],\n",
            "       [ 4],\n",
            "       [ 7],\n",
            "       [10],\n",
            "       [13],\n",
            "       [16]]), array([[ 2],\n",
            "       [ 5],\n",
            "       [ 8],\n",
            "       [11],\n",
            "       [14],\n",
            "       [17]]), array([[ 3],\n",
            "       [ 6],\n",
            "       [ 9],\n",
            "       [12],\n",
            "       [15],\n",
            "       [18]])]\n"
          ]
        }
      ]
    },
    {
      "cell_type": "markdown",
      "source": [
        "**Note: Similar alternates to vstack() and dstack() are available as vsplit() and dsplit().**"
      ],
      "metadata": {
        "id": "_tOWqu1mFsNJ"
      }
    },
    {
      "cell_type": "markdown",
      "source": [
        "# NumPy Searching Arrays"
      ],
      "metadata": {
        "id": "r2qcV5ZyFtr8"
      }
    },
    {
      "cell_type": "markdown",
      "source": [
        "**Searching Arrays**\n",
        "\n",
        "---\n",
        "* You can search an array for a certain value, and return the indexes that get a match.\n",
        "\n",
        "* To search an array, use the **where() method.**\n",
        "\n",
        "---\n",
        "\n",
        "\n"
      ],
      "metadata": {
        "id": "zst3uHG9FxL4"
      }
    },
    {
      "cell_type": "markdown",
      "source": [
        "1. Find the indexes where the value is 4:"
      ],
      "metadata": {
        "id": "PSegllJEGi8W"
      }
    },
    {
      "cell_type": "code",
      "source": [
        "import numpy as np\n",
        "\n",
        "arr = np.array([1, 2, 3, 4, 5, 4, 4])\n",
        "\n",
        "x = np.where(arr == 4)\n",
        "\n",
        "print(x)"
      ],
      "metadata": {
        "colab": {
          "base_uri": "https://localhost:8080/"
        },
        "id": "8lIrHJAIGnLw",
        "outputId": "996d6e13-b5c6-4eab-c500-e86aeea60ae0"
      },
      "execution_count": null,
      "outputs": [
        {
          "output_type": "stream",
          "name": "stdout",
          "text": [
            "(array([3, 5, 6]),)\n"
          ]
        }
      ]
    },
    {
      "cell_type": "markdown",
      "source": [
        "2. Find the indexes where the values are even:"
      ],
      "metadata": {
        "id": "qmYxvN-jGxhU"
      }
    },
    {
      "cell_type": "code",
      "source": [
        "import numpy as np\n",
        "\n",
        "arr = np.array([1, 2, 3, 4, 5, 6, 7, 8])\n",
        "\n",
        "x = np.where(arr%2 == 0)\n",
        "\n",
        "print(x)"
      ],
      "metadata": {
        "colab": {
          "base_uri": "https://localhost:8080/"
        },
        "id": "Tel32GycGy7V",
        "outputId": "c33a5a56-492b-4b97-8d34-d93feded94ca"
      },
      "execution_count": null,
      "outputs": [
        {
          "output_type": "stream",
          "name": "stdout",
          "text": [
            "(array([1, 3, 5, 7]),)\n"
          ]
        }
      ]
    },
    {
      "cell_type": "markdown",
      "source": [
        "3. Find the indexes where the values are odd:"
      ],
      "metadata": {
        "id": "zuqJalBBG3vu"
      }
    },
    {
      "cell_type": "code",
      "source": [
        "import numpy as np\n",
        "\n",
        "arr = np.array([1, 2, 3, 4, 5, 6, 7, 8])\n",
        "\n",
        "x = np.where(arr%2 == 1)\n",
        "\n",
        "print(x)"
      ],
      "metadata": {
        "colab": {
          "base_uri": "https://localhost:8080/"
        },
        "id": "xMwyFPi1G45f",
        "outputId": "cf122059-6705-40ba-bbcd-691ba6088055"
      },
      "execution_count": null,
      "outputs": [
        {
          "output_type": "stream",
          "name": "stdout",
          "text": [
            "(array([0, 2, 4, 6]),)\n"
          ]
        }
      ]
    },
    {
      "cell_type": "markdown",
      "source": [
        "**Search Sorted**\n",
        "\n",
        "---\n",
        "* There is a method called **searchsorted()** which performs a binary search in the array, and returns the index where the specified value would be inserted to maintain the search order.\n",
        "* **The searchsorted() method is assumed to be used on sorted arrays.**\n"
      ],
      "metadata": {
        "id": "XS_Qyq4QG7ur"
      }
    },
    {
      "cell_type": "markdown",
      "source": [
        "1. Find the indexes where the value 7 should be inserted:"
      ],
      "metadata": {
        "id": "ILGEf4dOJEX-"
      }
    },
    {
      "cell_type": "code",
      "source": [
        "import numpy as np\n",
        "\n",
        "arr = np.array([6, 7, 8, 9])\n",
        "\n",
        "x = np.searchsorted(arr, 7)\n",
        "\n",
        "print(x)"
      ],
      "metadata": {
        "colab": {
          "base_uri": "https://localhost:8080/"
        },
        "id": "kKI3YuW2JFeR",
        "outputId": "e08b9ee2-d1bf-4b17-fe9b-1ff033b12fa6"
      },
      "execution_count": null,
      "outputs": [
        {
          "output_type": "stream",
          "name": "stdout",
          "text": [
            "1\n"
          ]
        }
      ]
    },
    {
      "cell_type": "markdown",
      "source": [
        "**Search From the Right Side**\n",
        "\n",
        "---\n",
        "* **By default the left most index is returned, but we can give side='right' to return the right most index instead.**\n",
        "\n",
        "\n",
        "---\n",
        "\n",
        "\n"
      ],
      "metadata": {
        "id": "-8GPcBQWJKGX"
      }
    },
    {
      "cell_type": "markdown",
      "source": [
        "1. Find the indexes where the value 7 should be inserted, starting from the right:"
      ],
      "metadata": {
        "id": "rNNUh-u6JWi-"
      }
    },
    {
      "cell_type": "code",
      "source": [
        "import numpy as np\n",
        "\n",
        "arr = np.array([6, 7, 8, 9])\n",
        "\n",
        "x = np.searchsorted(arr, 7, side='right')\n",
        "\n",
        "print(x)"
      ],
      "metadata": {
        "colab": {
          "base_uri": "https://localhost:8080/"
        },
        "id": "Yrxl7LLCJXpJ",
        "outputId": "7a454e84-3097-4de5-cb7f-08633ea558fd"
      },
      "execution_count": null,
      "outputs": [
        {
          "output_type": "stream",
          "name": "stdout",
          "text": [
            "2\n"
          ]
        }
      ]
    },
    {
      "cell_type": "markdown",
      "source": [
        "**Multiple Values**\n",
        "\n",
        "---\n",
        "\n"
      ],
      "metadata": {
        "id": "JXPtTgXdJqYs"
      }
    },
    {
      "cell_type": "markdown",
      "source": [
        "1. Find the indexes where the values 2, 4, and 6 should be inserted:"
      ],
      "metadata": {
        "id": "_x2p5fEzJxKU"
      }
    },
    {
      "cell_type": "code",
      "source": [
        "import numpy as np\n",
        "\n",
        "arr = np.array([1, 3, 5, 7])\n",
        "\n",
        "x = np.searchsorted(arr, [2, 4, 6])\n",
        "\n",
        "print(x)"
      ],
      "metadata": {
        "colab": {
          "base_uri": "https://localhost:8080/"
        },
        "id": "cIOevQbFJvAf",
        "outputId": "d1521dae-a538-42f2-cbd2-2cc50ce9d9b7"
      },
      "execution_count": null,
      "outputs": [
        {
          "output_type": "stream",
          "name": "stdout",
          "text": [
            "[1 2 3]\n"
          ]
        }
      ]
    },
    {
      "cell_type": "code",
      "source": [
        "import numpy as np\n",
        "\n",
        "arr = np.array([7, 1, 5, 3])\n",
        "x = np.searchsorted(arr, [2, 4, 6])\n",
        "\n",
        "print(x)\n"
      ],
      "metadata": {
        "colab": {
          "base_uri": "https://localhost:8080/"
        },
        "id": "Dt-8QrNJLinm",
        "outputId": "52dc2d9e-08c2-4aad-83c7-c700de71ac27"
      },
      "execution_count": null,
      "outputs": [
        {
          "output_type": "stream",
          "name": "stdout",
          "text": [
            "[2 4 4]\n"
          ]
        }
      ]
    },
    {
      "cell_type": "markdown",
      "source": [
        "* **2** is placed at index **2** because it should **come after 1 and before 5.**\n",
        "* **4** is placed at index **4** because it should **come after the last element 3.**\n",
        "* **6** is also placed at index **4**, as it would **come after the last element 3.**\n",
        "* In summary, while **the searchsorted() function can still technically operate on an unsorted array**, the results **may not be meaningful in the context of maintaining order, as the function assumes the array is sorted.**"
      ],
      "metadata": {
        "id": "VEfD1XQxLrX3"
      }
    },
    {
      "cell_type": "markdown",
      "source": [
        "# NumPy Sorting Arrays"
      ],
      "metadata": {
        "id": "U0treTexMkc1"
      }
    },
    {
      "cell_type": "markdown",
      "source": [
        "**Sorting Arrays**\n",
        "\n",
        "---\n",
        "\n",
        "\n",
        "* Sorting means putting elements in an **ordered sequence**.\n",
        "\n",
        "* Ordered sequence is any sequence that has an order corresponding to elements, like numeric or alphabetical, ascending or descending.\n",
        "\n",
        "* The NumPy ndarray object has a function called sort(), that will sort a specified array."
      ],
      "metadata": {
        "id": "rc-srRC-MoV7"
      }
    },
    {
      "cell_type": "markdown",
      "source": [
        "Sort the array:"
      ],
      "metadata": {
        "id": "nitJtlEjMvfH"
      }
    },
    {
      "cell_type": "code",
      "source": [
        "import numpy as np\n",
        "\n",
        "arr = np.array([3, 2, 0, 1])\n",
        "\n",
        "print(np.sort(arr))"
      ],
      "metadata": {
        "colab": {
          "base_uri": "https://localhost:8080/"
        },
        "id": "cOCc2akJM5wD",
        "outputId": "77e229c3-415b-465a-b05e-286d6d955368"
      },
      "execution_count": null,
      "outputs": [
        {
          "output_type": "stream",
          "name": "stdout",
          "text": [
            "[0 1 2 3]\n"
          ]
        }
      ]
    },
    {
      "cell_type": "markdown",
      "source": [
        "**Note: This method returns a copy of the array, leaving the original array unchanged.**\n",
        "\n",
        "---\n",
        "\n"
      ],
      "metadata": {
        "id": "jKgH_YGfM9TI"
      }
    },
    {
      "cell_type": "markdown",
      "source": [
        "You can also sort arrays of strings, or any other data type :\n",
        "* Sort the array alphabetically:"
      ],
      "metadata": {
        "id": "S3kdhk0gNAVx"
      }
    },
    {
      "cell_type": "code",
      "source": [
        "import numpy as np\n",
        "\n",
        "arr = np.array(['banana', 'cherry', 'apple'])\n",
        "\n",
        "print(np.sort(arr))"
      ],
      "metadata": {
        "colab": {
          "base_uri": "https://localhost:8080/"
        },
        "id": "iJf6jLjrNDkq",
        "outputId": "da748fa3-f165-41c8-b7e0-2d922297696f"
      },
      "execution_count": null,
      "outputs": [
        {
          "output_type": "stream",
          "name": "stdout",
          "text": [
            "['apple' 'banana' 'cherry']\n"
          ]
        }
      ]
    },
    {
      "cell_type": "markdown",
      "source": [
        "Sort a boolean array:"
      ],
      "metadata": {
        "id": "1d_i1BfmNLD-"
      }
    },
    {
      "cell_type": "code",
      "source": [
        "import numpy as np\n",
        "\n",
        "arr = np.array([True, False, True])\n",
        "\n",
        "print(np.sort(arr))"
      ],
      "metadata": {
        "colab": {
          "base_uri": "https://localhost:8080/"
        },
        "id": "OBjJ3weQNLxY",
        "outputId": "19574c0d-6595-4f8a-ba77-df38d541938c"
      },
      "execution_count": null,
      "outputs": [
        {
          "output_type": "stream",
          "name": "stdout",
          "text": [
            "[False  True  True]\n"
          ]
        }
      ]
    },
    {
      "cell_type": "markdown",
      "source": [
        "**Sorting a 2-D Array**\n",
        "\n",
        "---\n",
        "* If you use the sort() method on a 2-D array, both arrays will be sorted:\n"
      ],
      "metadata": {
        "id": "qgrkHMdbNS7t"
      }
    },
    {
      "cell_type": "code",
      "source": [
        "import numpy as np\n",
        "\n",
        "arr = np.array([[3, 2, 4], [5, 0, 1]])\n",
        "\n",
        "print(np.sort(arr))"
      ],
      "metadata": {
        "colab": {
          "base_uri": "https://localhost:8080/"
        },
        "id": "fZN37QOoNXS-",
        "outputId": "0d5a0c32-fbe5-48e4-d130-3fee4c349ad5"
      },
      "execution_count": null,
      "outputs": [
        {
          "output_type": "stream",
          "name": "stdout",
          "text": [
            "[[2 3 4]\n",
            " [0 1 5]]\n"
          ]
        }
      ]
    },
    {
      "cell_type": "markdown",
      "source": [
        "# NumPy Filter Array"
      ],
      "metadata": {
        "id": "Br_qCYvZNxM-"
      }
    },
    {
      "cell_type": "markdown",
      "source": [
        "**Filtering Arrays**\n",
        "\n",
        "---\n",
        "\n",
        "* Getting some elements out of an existing array and creating a new array out of them is called filtering.\n",
        "\n",
        "* In NumPy, you filter an array using a boolean index list.\n",
        "* A boolean index list is a list of booleans corresponding to indexes in the array.\n",
        "* **If the value at an index is True that element is contained in the filtered array, if the value at that index is False that element is excluded from the filtered array.**"
      ],
      "metadata": {
        "id": "m8Li8BsoNzVe"
      }
    },
    {
      "cell_type": "markdown",
      "source": [
        "Create an array from the elements on index 0 and 2:"
      ],
      "metadata": {
        "id": "NInPasZfOG3L"
      }
    },
    {
      "cell_type": "code",
      "source": [
        "import numpy as np\n",
        "\n",
        "arr = np.array([41, 42, 43, 44])\n",
        "\n",
        "x = [True, False, True, False]\n",
        "\n",
        "newarr = arr[x]\n",
        "\n",
        "print(newarr)\n",
        "# Because the new array contains only the values where the filter array had the value True, in this case, index 0 and 2."
      ],
      "metadata": {
        "colab": {
          "base_uri": "https://localhost:8080/"
        },
        "id": "Bu1f486POBCa",
        "outputId": "790d5e00-bc9c-4e55-8478-f6859426c002"
      },
      "execution_count": null,
      "outputs": [
        {
          "output_type": "stream",
          "name": "stdout",
          "text": [
            "[41 43]\n"
          ]
        }
      ]
    },
    {
      "cell_type": "markdown",
      "source": [
        "**Creating the Filter Array**\n",
        "\n",
        "---\n",
        "\n"
      ],
      "metadata": {
        "id": "DYFgKIWDPKUM"
      }
    },
    {
      "cell_type": "markdown",
      "source": [
        "1. Create a filter array that will return only values higher than 42:"
      ],
      "metadata": {
        "id": "R9CIy2e_PNrc"
      }
    },
    {
      "cell_type": "code",
      "source": [
        "import numpy as np\n",
        "\n",
        "arr = np.array([41, 42, 43, 44])\n",
        "\n",
        "# Create an empty list\n",
        "filter_arr = []\n",
        "\n",
        "# go through each element in arr\n",
        "for element in arr:\n",
        "  # if the element is higher than 42, set the value to True, otherwise False:\n",
        "  if element > 42:\n",
        "    filter_arr.append(True)\n",
        "  else:\n",
        "    filter_arr.append(False)\n",
        "\n",
        "newarr = arr[filter_arr]\n",
        "\n",
        "print(\"Original Array :\\n\",arr)\n",
        "print(\"\\nBoolean  Array :\\n\",filter_arr)\n",
        "print(\"\\nFiltered New Array :\\n\",newarr)"
      ],
      "metadata": {
        "colab": {
          "base_uri": "https://localhost:8080/"
        },
        "id": "1-Sb9bkxPOwM",
        "outputId": "ba99de18-00bf-4621-a2b5-b8cfcac9e76e"
      },
      "execution_count": null,
      "outputs": [
        {
          "output_type": "stream",
          "name": "stdout",
          "text": [
            "Original Array :\n",
            " [41 42 43 44]\n",
            "\n",
            "Boolean  Array :\n",
            " [False, False, True, True]\n",
            "\n",
            "Filtered New Array :\n",
            " [43 44]\n"
          ]
        }
      ]
    },
    {
      "cell_type": "markdown",
      "source": [
        "Create a filter array that will return only even elements from the original array:"
      ],
      "metadata": {
        "id": "8sRr7TR7P49O"
      }
    },
    {
      "cell_type": "code",
      "source": [
        "import numpy as np\n",
        "\n",
        "arr = np.array([1, 2, 3, 4, 5, 6, 7])\n",
        "\n",
        "# Create an empty list\n",
        "filter_arr = []\n",
        "\n",
        "# go through each element in arr\n",
        "for element in arr:\n",
        "  # if the element is completely divisble by 2, set the value to True, otherwise False\n",
        "  if element % 2 == 0:\n",
        "    filter_arr.append(True)\n",
        "  else:\n",
        "    filter_arr.append(False)\n",
        "\n",
        "newarr = arr[filter_arr]\n",
        "\n",
        "print(arr)\n",
        "print(filter_arr)\n",
        "print(newarr)"
      ],
      "metadata": {
        "colab": {
          "base_uri": "https://localhost:8080/"
        },
        "id": "WmhcP94dP5ci",
        "outputId": "154cd761-99b9-42e3-beca-8faab891c4f6"
      },
      "execution_count": null,
      "outputs": [
        {
          "output_type": "stream",
          "name": "stdout",
          "text": [
            "[1 2 3 4 5 6 7]\n",
            "[False, True, False, True, False, True, False]\n",
            "[2 4 6]\n"
          ]
        }
      ]
    },
    {
      "cell_type": "markdown",
      "source": [
        "**Creating Filter Directly From Array**\n",
        "\n",
        "\n",
        "---\n",
        "\n"
      ],
      "metadata": {
        "id": "GdZz59KpQC4A"
      }
    },
    {
      "cell_type": "markdown",
      "source": [
        "1. Create a filter array that will return only values higher than 42:"
      ],
      "metadata": {
        "id": "Zwu0UptvQHR-"
      }
    },
    {
      "cell_type": "code",
      "source": [
        "import numpy as np\n",
        "\n",
        "arr = np.array([41, 42, 43, 44])\n",
        "\n",
        "filter_arr = arr > 42\n",
        "\n",
        "newarr = arr[filter_arr]\n",
        "\n",
        "print(arr)\n",
        "print(filter_arr)\n",
        "print(newarr)"
      ],
      "metadata": {
        "colab": {
          "base_uri": "https://localhost:8080/"
        },
        "id": "nVZ9wXdUQIUr",
        "outputId": "a4b0ea8a-b214-4b97-e70b-a9a0903335cc"
      },
      "execution_count": null,
      "outputs": [
        {
          "output_type": "stream",
          "name": "stdout",
          "text": [
            "[41 42 43 44]\n",
            "[False False  True  True]\n",
            "[43 44]\n"
          ]
        }
      ]
    },
    {
      "cell_type": "markdown",
      "source": [
        "2. Create a filter array that will return only even elements from the original array:"
      ],
      "metadata": {
        "id": "ICrkEjQpQRgg"
      }
    },
    {
      "cell_type": "code",
      "source": [
        "import numpy as np\n",
        "\n",
        "arr = np.array([1, 2, 3, 4, 5, 6, 7])\n",
        "\n",
        "filter_arr = arr % 2 == 0\n",
        "\n",
        "newarr = arr[filter_arr]\n",
        "\n",
        "print(filter_arr)\n",
        "print(newarr)"
      ],
      "metadata": {
        "colab": {
          "base_uri": "https://localhost:8080/"
        },
        "id": "17YcCJ5hQS2p",
        "outputId": "1f5e34cc-cb3f-4b24-cfa9-a3b4cff4d2fc"
      },
      "execution_count": null,
      "outputs": [
        {
          "output_type": "stream",
          "name": "stdout",
          "text": [
            "[False  True False  True False  True False]\n",
            "[2 4 6]\n"
          ]
        }
      ]
    },
    {
      "cell_type": "markdown",
      "source": [
        "# Random Numbers in NumPy"
      ],
      "metadata": {
        "id": "sWj1sJA4clGP"
      }
    },
    {
      "cell_type": "markdown",
      "source": [
        "**What is a Random Number?**\n",
        "* Random number does NOT mean a different number every time. Random means something that can not be predicted logically.\n",
        "\n",
        "---\n",
        "**Pseudo Random and True Random**\n",
        "\n",
        "\n",
        "* **If there is a program to generate random number it can be predicted, thus it is not truly random.**\n",
        "\n",
        "* **Random numbers generated through a generation algorithm are called pseudo random.**\n",
        "\n",
        "**Can we make truly random numbers?**\n",
        "\n",
        "* Yes. In order to generate a truly random number on our computers we need to get the random data from some outside source. This outside source is generally our keystrokes, mouse movements, data on network etc.\n",
        "\n",
        "* We do not need truly random numbers, unless it is related to security (e.g. encryption keys) or the basis of application is the randomness (e.g. Digital roulette wheels).\n",
        "\n",
        "**We will be using pseudo random numbers**.\n"
      ],
      "metadata": {
        "id": "Y5DInCeNcpI1"
      }
    },
    {
      "cell_type": "markdown",
      "source": [
        "**Generate Random Number**\n",
        "\n",
        "---\n",
        "\n",
        "\n",
        "* NumPy offers the **random** module to work with random numbers."
      ],
      "metadata": {
        "id": "trD-4YQndi4V"
      }
    },
    {
      "cell_type": "markdown",
      "source": [
        "1. Generate a random integer from 0 to 100:"
      ],
      "metadata": {
        "id": "wb18FDv-drsW"
      }
    },
    {
      "cell_type": "code",
      "source": [
        "from numpy import random\n",
        "\n",
        "x = random.randint(100)\n",
        "\n",
        "print(x)"
      ],
      "metadata": {
        "colab": {
          "base_uri": "https://localhost:8080/"
        },
        "id": "yluq_r2_dstO",
        "outputId": "13c1d6aa-7bf5-4295-b6d8-b8b01c8599d4"
      },
      "execution_count": null,
      "outputs": [
        {
          "output_type": "stream",
          "name": "stdout",
          "text": [
            "3\n"
          ]
        }
      ]
    },
    {
      "cell_type": "markdown",
      "source": [
        "**Generate Random Float**\n",
        "* The random module's **rand()** method returns a **random float between 0 and 1.**"
      ],
      "metadata": {
        "id": "o1xoTfRAdzYe"
      }
    },
    {
      "cell_type": "markdown",
      "source": [
        "2. Generate a random float from 0 to 1:"
      ],
      "metadata": {
        "id": "_T0pr7sad7mR"
      }
    },
    {
      "cell_type": "code",
      "source": [
        "from numpy import random\n",
        "\n",
        "x = random.rand()\n",
        "\n",
        "print(x)"
      ],
      "metadata": {
        "colab": {
          "base_uri": "https://localhost:8080/"
        },
        "id": "aaR2NBZod-aA",
        "outputId": "d3c73c8d-d70d-4d41-e2ad-92bf59f69ce7"
      },
      "execution_count": null,
      "outputs": [
        {
          "output_type": "stream",
          "name": "stdout",
          "text": [
            "0.8881575819165578\n"
          ]
        }
      ]
    },
    {
      "cell_type": "markdown",
      "source": [
        "**Generate Random Array**\n",
        "\n",
        "---\n",
        "\n",
        "**Integers**\n",
        "*  The **randint()** method takes a **size** parameter **where you can specify the shape of an array.**"
      ],
      "metadata": {
        "id": "r_XwZoNneEC-"
      }
    },
    {
      "cell_type": "markdown",
      "source": [
        "Generate a 1-D array containing 5 random integers from 0 to 100:"
      ],
      "metadata": {
        "id": "5udbJOiXeOGy"
      }
    },
    {
      "cell_type": "code",
      "source": [
        "from numpy import random\n",
        "\n",
        "x=random.randint(100, size=(5))\n",
        "\n",
        "print(x)"
      ],
      "metadata": {
        "colab": {
          "base_uri": "https://localhost:8080/"
        },
        "id": "fK0LB7tReQxR",
        "outputId": "76a0b877-52fd-4ddb-cd4f-a2e30c4ccced"
      },
      "execution_count": null,
      "outputs": [
        {
          "output_type": "stream",
          "name": "stdout",
          "text": [
            "[41 20 79 49 15]\n"
          ]
        }
      ]
    },
    {
      "cell_type": "markdown",
      "source": [
        "Generate a 2-D array with 3 rows, each row containing 5 random integers from 0 to 100:"
      ],
      "metadata": {
        "id": "p1pCcZ-seU4b"
      }
    },
    {
      "cell_type": "code",
      "source": [
        "from numpy import random\n",
        "\n",
        "x = random.randint(100, size=(3, 5))\n",
        "\n",
        "print(x)"
      ],
      "metadata": {
        "colab": {
          "base_uri": "https://localhost:8080/"
        },
        "id": "FQ7Bz2qheVcr",
        "outputId": "5022ddb0-e4ff-41ef-e550-756f7161e212"
      },
      "execution_count": null,
      "outputs": [
        {
          "output_type": "stream",
          "name": "stdout",
          "text": [
            "[[67 99  9 15 96]\n",
            " [52 33  2 14 20]\n",
            " [43 74 87 25 58]]\n"
          ]
        }
      ]
    },
    {
      "cell_type": "markdown",
      "source": [
        "**Floats**\n",
        "* The **rand()** method also allows you to **specify the shape of the array.**"
      ],
      "metadata": {
        "id": "RNbxeeVIeY_R"
      }
    },
    {
      "cell_type": "markdown",
      "source": [
        "Generate a 1-D array containing 5 random floats:"
      ],
      "metadata": {
        "id": "yQzRwtPPedFD"
      }
    },
    {
      "cell_type": "code",
      "source": [
        "from numpy import random\n",
        "\n",
        "x = random.rand(5)\n",
        "\n",
        "print(x)"
      ],
      "metadata": {
        "colab": {
          "base_uri": "https://localhost:8080/"
        },
        "id": "ZtTRAPFuefSE",
        "outputId": "57fcc3d0-8869-490b-a105-16bae86d236c"
      },
      "execution_count": null,
      "outputs": [
        {
          "output_type": "stream",
          "name": "stdout",
          "text": [
            "[0.29078461 0.02160048 0.78982776 0.63083833 0.38153887]\n"
          ]
        }
      ]
    },
    {
      "cell_type": "markdown",
      "source": [
        "Generate a 2-D array with 3 rows, each row containing 5 random numbers:"
      ],
      "metadata": {
        "id": "c6eXJ-umeiSs"
      }
    },
    {
      "cell_type": "code",
      "source": [
        "from numpy import random\n",
        "\n",
        "x = random.rand(3, 5)\n",
        "\n",
        "print(x)"
      ],
      "metadata": {
        "colab": {
          "base_uri": "https://localhost:8080/"
        },
        "id": "v49TWkV_ei0d",
        "outputId": "910eef62-276c-45e5-864d-be29d709e9a7"
      },
      "execution_count": null,
      "outputs": [
        {
          "output_type": "stream",
          "name": "stdout",
          "text": [
            "[[0.65401084 0.72830134 0.2920603  0.02359563 0.81559997]\n",
            " [0.87596466 0.97915592 0.38394578 0.02654924 0.9986179 ]\n",
            " [0.76482471 0.60468765 0.12281054 0.95445572 0.97362002]]\n"
          ]
        }
      ]
    },
    {
      "cell_type": "markdown",
      "source": [
        "**Generate Random Number From Array**\n",
        "\n",
        "---\n",
        "\n",
        "\n",
        "* The **choice()** method allows you **to generate a random value based on an array of values.**\n",
        "\n",
        "* The choice() method takes an array as a parameter and randomly returns one of the values."
      ],
      "metadata": {
        "id": "Chc7YG6VemMS"
      }
    },
    {
      "cell_type": "markdown",
      "source": [
        "Return one of the values in an array:"
      ],
      "metadata": {
        "id": "R_FznUtOewZI"
      }
    },
    {
      "cell_type": "code",
      "source": [
        "from numpy import random\n",
        "\n",
        "x = random.choice([3, 5, 7, 9])\n",
        "\n",
        "print(x)"
      ],
      "metadata": {
        "colab": {
          "base_uri": "https://localhost:8080/"
        },
        "id": "6LbumDFiex9w",
        "outputId": "923d8ea6-bfb5-4e46-856d-41ffa8fbeb99"
      },
      "execution_count": null,
      "outputs": [
        {
          "output_type": "stream",
          "name": "stdout",
          "text": [
            "3\n"
          ]
        }
      ]
    },
    {
      "cell_type": "markdown",
      "source": [
        "* The choice() method also allows you to return an array of values.\n",
        "\n",
        "* Add a **size** parameter **to specify the shape of the array.**"
      ],
      "metadata": {
        "id": "snGX53Wae1wl"
      }
    },
    {
      "cell_type": "markdown",
      "source": [
        "Generate a 2-D array that consists of the values in the array parameter (3, 5, 7, and 9):"
      ],
      "metadata": {
        "id": "S8yV3SBqe7A6"
      }
    },
    {
      "cell_type": "code",
      "source": [
        "from numpy import random\n",
        "\n",
        "x = random.choice([3, 5, 7, 9], size=(3, 5))\n",
        "\n",
        "print(x)"
      ],
      "metadata": {
        "colab": {
          "base_uri": "https://localhost:8080/"
        },
        "id": "YH7fAZSwe9g3",
        "outputId": "006aae41-3621-4a3c-a0d0-04ce6d7a1e7a"
      },
      "execution_count": null,
      "outputs": [
        {
          "output_type": "stream",
          "name": "stdout",
          "text": [
            "[[7 3 5 5 5]\n",
            " [3 7 3 3 7]\n",
            " [3 7 7 9 5]]\n"
          ]
        }
      ]
    },
    {
      "cell_type": "markdown",
      "source": [
        "# Random Data Distribution"
      ],
      "metadata": {
        "id": "UmujYWLJfDcV"
      }
    },
    {
      "cell_type": "markdown",
      "source": [
        "**What is Data Distribution?**\n",
        "\n",
        "---\n",
        "\n",
        "\n",
        "* Data Distribution is a list of all possible values, and how often each value occurs.\n",
        "\n",
        "* Such lists are important when working with statistics and data science.\n",
        "\n",
        "* The random module offer methods that returns randomly generated data distributions.\n",
        "\n"
      ],
      "metadata": {
        "id": "3eqwirXRfFJE"
      }
    },
    {
      "cell_type": "markdown",
      "source": [
        "**Random Distribution**\n",
        "\n",
        "---\n",
        "\n",
        "\n",
        "* A random distribution is a set of random numbers that follow a certain probability density function.\n",
        "* **Probability Density Function:**\n",
        "    * A function that describes a continuous probability. i.e. **probability of all values in an array.**\n",
        "* We can generate random numbers based on defined probabilities using the** choice()** method of the random module.\n",
        "\n",
        "* The choice() method allows us to specify the probability for each value.\n",
        "\n",
        "* The **probability is set by a number between 0 and 1**, where **0 means that the value will never occur and 1 means that the value will always occur.**\n",
        "\n",
        "\n",
        "---\n",
        "\n",
        "**The sum of all probability numbers should be 1.**\n",
        "\n",
        "---\n",
        "\n"
      ],
      "metadata": {
        "id": "2xHPbOivfOSo"
      }
    },
    {
      "cell_type": "markdown",
      "source": [
        "1. Generate a 1-D array containing 100 values, where each value has to be 3, 5, 7 or 9.\n",
        "\n",
        "* The probability for the value to be 3 is set to be 0.1\n",
        "\n",
        "* The probability for the value to be 5 is set to be 0.3\n",
        "\n",
        "* The probability for the value to be 7 is set to be 0.6\n",
        "\n",
        "* The probability for the value to be 9 is set to be 0\n"
      ],
      "metadata": {
        "id": "QwQhpaFBfQ7n"
      }
    },
    {
      "cell_type": "code",
      "source": [
        "from numpy import random\n",
        "\n",
        "x = random.choice([3, 5, 7, 9], p=[0.1, 0.3, 0.6, 0.0], size=(100))\n",
        "\n",
        "print(x)"
      ],
      "metadata": {
        "colab": {
          "base_uri": "https://localhost:8080/"
        },
        "id": "RY890xGMfxCr",
        "outputId": "7a600b1d-5b09-42d1-8619-3f01e188b0c8"
      },
      "execution_count": null,
      "outputs": [
        {
          "output_type": "stream",
          "name": "stdout",
          "text": [
            "[5 7 7 7 7 7 5 5 3 7 5 5 7 5 7 5 7 7 7 7 7 7 3 3 7 5 5 7 7 5 5 7 7 7 7 5 3\n",
            " 7 7 7 5 5 7 7 5 5 5 7 7 7 5 7 7 5 5 5 7 7 7 7 5 7 7 7 7 7 7 5 5 7 7 7 3 7\n",
            " 7 7 7 7 7 7 5 3 5 7 7 5 3 7 7 5 5 7 7 5 3 5 7 7 7 7]\n"
          ]
        }
      ]
    },
    {
      "cell_type": "markdown",
      "source": [
        "Same example as above, but return a 2-D array with 3 rows, each containing 5 values."
      ],
      "metadata": {
        "id": "gzX2NQSagINm"
      }
    },
    {
      "cell_type": "code",
      "source": [
        "from numpy import random\n",
        "\n",
        "x = random.choice([3, 5, 7, 9], p=[0.1, 0.3, 0.6, 0.0], size=(3, 5))\n",
        "\n",
        "print(x)"
      ],
      "metadata": {
        "colab": {
          "base_uri": "https://localhost:8080/"
        },
        "id": "m7wyTHXMgIlV",
        "outputId": "a7d3f79f-4c0f-4373-9020-d84a47437973"
      },
      "execution_count": null,
      "outputs": [
        {
          "output_type": "stream",
          "name": "stdout",
          "text": [
            "[[5 5 7 5 7]\n",
            " [7 7 3 7 5]\n",
            " [7 7 7 5 5]]\n"
          ]
        }
      ]
    },
    {
      "cell_type": "markdown",
      "source": [
        "# Random Permutations"
      ],
      "metadata": {
        "id": "yucG3CtOgNSy"
      }
    },
    {
      "cell_type": "markdown",
      "source": [
        "**Random Permutations of Elements**\n",
        "\n",
        "---\n",
        "* A **permutation refers to an arrangement of elements. e.g. [3, 2, 1] is a permutation of [1, 2, 3] and vice-versa.**\n",
        "\n",
        "* The NumPy Random module provides two methods for this: **shuffle() and permutation().**\n"
      ],
      "metadata": {
        "id": "nJ3nhC-dgOmp"
      }
    },
    {
      "cell_type": "markdown",
      "source": [
        "**Shuffling Arrays**\n",
        "\n",
        "---\n",
        "\n",
        "\n",
        "* Shuffle **means changing arrangement** of elements in-place. i.e. in the array itself.\n",
        "\n",
        "\n",
        "---\n",
        "**The shuffle() method makes changes to the original array.**\n"
      ],
      "metadata": {
        "id": "OLYtCIAYgdzI"
      }
    },
    {
      "cell_type": "markdown",
      "source": [
        "Randomly shuffle elements of following array:"
      ],
      "metadata": {
        "id": "zDmgV8K_Um4-"
      }
    },
    {
      "cell_type": "code",
      "source": [
        "from numpy import random\n",
        "import numpy as np\n",
        "\n",
        "arr = np.array([1, 2, 3, 4, 5])\n",
        "\n",
        "random.shuffle(arr)\n",
        "\n",
        "print(arr)"
      ],
      "metadata": {
        "colab": {
          "base_uri": "https://localhost:8080/"
        },
        "id": "uWW9RCAfUnds",
        "outputId": "2e95e4e5-d49c-4e31-fe6a-dd543c68b0e2"
      },
      "execution_count": null,
      "outputs": [
        {
          "output_type": "stream",
          "name": "stdout",
          "text": [
            "[5 1 2 4 3]\n"
          ]
        }
      ]
    },
    {
      "cell_type": "markdown",
      "source": [
        "**Generating Permutation of Arrays**\n",
        "\n",
        "---\n",
        "* **The permutation() method returns a re-arranged array (and leaves the original array un-changed).**\n"
      ],
      "metadata": {
        "id": "OEOcU3keXBIj"
      }
    },
    {
      "cell_type": "markdown",
      "source": [
        "Generate a random permutation of elements of following array:"
      ],
      "metadata": {
        "id": "b14bQ0fMXOSl"
      }
    },
    {
      "cell_type": "code",
      "source": [
        "from numpy import random\n",
        "import numpy as np\n",
        "\n",
        "arr = np.array([1, 2, 3, 4, 5])\n",
        "\n",
        "print(random.permutation(arr))"
      ],
      "metadata": {
        "colab": {
          "base_uri": "https://localhost:8080/"
        },
        "id": "mEAKgkZOXOyz",
        "outputId": "44b416f2-6e50-4a05-bdac-b0391cb2d1cb"
      },
      "execution_count": null,
      "outputs": [
        {
          "output_type": "stream",
          "name": "stdout",
          "text": [
            "[3 2 1 4 5]\n"
          ]
        }
      ]
    },
    {
      "cell_type": "markdown",
      "source": [
        "# Seaborn"
      ],
      "metadata": {
        "id": "LwE5Ya1vXbdb"
      }
    },
    {
      "cell_type": "markdown",
      "source": [
        "**Visualize Distributions With Seaborn**\n",
        "* Seaborn is a library that uses Matplotlib underneath to plot graphs. It will be used to visualize random distributions."
      ],
      "metadata": {
        "id": "PwNF6p-BXieI"
      }
    },
    {
      "cell_type": "markdown",
      "source": [
        "![image.png](data:image/png;base64,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)"
      ],
      "metadata": {
        "id": "p99mJbPzYsyS"
      }
    },
    {
      "cell_type": "markdown",
      "source": [
        "Install Seaborn."
      ],
      "metadata": {
        "id": "RJnfuPxObk0P"
      }
    },
    {
      "cell_type": "code",
      "source": [
        "# pip install seaborn"
      ],
      "metadata": {
        "id": "itnMBnKhYtpr"
      },
      "execution_count": null,
      "outputs": []
    },
    {
      "cell_type": "markdown",
      "source": [
        "**Distplots**\n",
        "* Distplot stands for distribution plot, it takes as input an array and plots a curve corresponding to the distribution of points in the array."
      ],
      "metadata": {
        "id": "FFnB332lbp-a"
      }
    },
    {
      "cell_type": "markdown",
      "source": [
        "Import Matplotlib"
      ],
      "metadata": {
        "id": "ICGjKDQ4b0Jy"
      }
    },
    {
      "cell_type": "code",
      "source": [
        "import matplotlib.pyplot as plt"
      ],
      "metadata": {
        "id": "S5jacjYZb0ve"
      },
      "execution_count": null,
      "outputs": []
    },
    {
      "cell_type": "markdown",
      "source": [
        "Import Seaborn"
      ],
      "metadata": {
        "id": "SXBHzuyub20P"
      }
    },
    {
      "cell_type": "code",
      "source": [
        "import seaborn as sns"
      ],
      "metadata": {
        "id": "5iNeIs3Yb4tO"
      },
      "execution_count": null,
      "outputs": []
    },
    {
      "cell_type": "markdown",
      "source": [
        "**Plotting a Distplot**\n",
        "\n",
        "---\n",
        "\n"
      ],
      "metadata": {
        "id": "cR6YdlL9b6fj"
      }
    },
    {
      "cell_type": "code",
      "source": [
        "import matplotlib.pyplot as plt\n",
        "import seaborn as sns\n",
        "\n",
        "sns.distplot([0, 1, 2, 3, 4, 5])\n",
        "# sns.histplot([0, 1, 2, 3, 4, 5],kde=True)\n",
        "\n",
        "plt.show()"
      ],
      "metadata": {
        "colab": {
          "base_uri": "https://localhost:8080/",
          "height": 621
        },
        "id": "e6zW9onkb-O2",
        "outputId": "ded77ec2-5d66-4936-e0fd-b89d50921f8a"
      },
      "execution_count": null,
      "outputs": [
        {
          "output_type": "stream",
          "name": "stderr",
          "text": [
            "<ipython-input-8-4c59a55cf0da>:4: UserWarning: \n",
            "\n",
            "`distplot` is a deprecated function and will be removed in seaborn v0.14.0.\n",
            "\n",
            "Please adapt your code to use either `displot` (a figure-level function with\n",
            "similar flexibility) or `histplot` (an axes-level function for histograms).\n",
            "\n",
            "For a guide to updating your code to use the new functions, please see\n",
            "https://gist.github.com/mwaskom/de44147ed2974457ad6372750bbe5751\n",
            "\n",
            "  sns.distplot([0, 1, 2, 3, 4, 5])\n"
          ]
        },
        {
          "output_type": "display_data",
          "data": {
            "text/plain": [
              "<Figure size 640x480 with 1 Axes>"
            ],
            "image/png": "[encoded data removed]"
          },
          "metadata": {}
        }
      ]
    },
    {
      "cell_type": "markdown",
      "source": [
        "**Plotting a Distplot Without the Histogram**\n",
        "\n",
        "---\n",
        "\n"
      ],
      "metadata": {
        "id": "Z1Vf9eTjcLM2"
      }
    },
    {
      "cell_type": "code",
      "source": [
        "import matplotlib.pyplot as plt\n",
        "import seaborn as sns\n",
        "\n",
        "sns.distplot([0, 1, 2, 3, 4, 5], hist=False)\n",
        "\n",
        "plt.show()"
      ],
      "metadata": {
        "colab": {
          "base_uri": "https://localhost:8080/",
          "height": 621
        },
        "id": "kTT2EWn4cOGb",
        "outputId": "8b511765-d54b-4e2f-fbf3-872367090515"
      },
      "execution_count": null,
      "outputs": [
        {
          "output_type": "stream",
          "name": "stderr",
          "text": [
            "<ipython-input-9-4979f8315730>:4: UserWarning: \n",
            "\n",
            "`distplot` is a deprecated function and will be removed in seaborn v0.14.0.\n",
            "\n",
            "Please adapt your code to use either `displot` (a figure-level function with\n",
            "similar flexibility) or `kdeplot` (an axes-level function for kernel density plots).\n",
            "\n",
            "For a guide to updating your code to use the new functions, please see\n",
            "https://gist.github.com/mwaskom/de44147ed2974457ad6372750bbe5751\n",
            "\n",
            "  sns.distplot([0, 1, 2, 3, 4, 5], hist=False)\n"
          ]
        },
        {
          "output_type": "display_data",
          "data": {
            "text/plain": [
              "<Figure size 640x480 with 1 Axes>"
            ],
            "image/png": "[encoded data removed]"
          },
          "metadata": {}
        }
      ]
    },
    {
      "cell_type": "markdown",
      "source": [
        "\n",
        "\n",
        "---\n",
        "\n",
        "\n",
        "\n",
        "**Note: We will be using: sns.distplot(arr, hist=False) to visualize random distributions**\n",
        "\n",
        "---\n",
        "\n"
      ],
      "metadata": {
        "id": "jUXSDH8RcU4n"
      }
    },
    {
      "cell_type": "markdown",
      "source": [
        "# Normal (Gaussian) Distribution"
      ],
      "metadata": {
        "id": "yePo4zE-cZep"
      }
    },
    {
      "cell_type": "markdown",
      "source": [
        "**Normal Distribution**\n",
        "\n",
        "---\n",
        "\n",
        "\n",
        "* The Normal Distribution is one of the most important distributions.\n",
        "\n",
        "* It is **also called the Gaussian Distribution after the German mathematician Carl Friedrich Gauss.**\n",
        "\n",
        "* **It fits the probability distribution of many events, eg. IQ Scores, Heartbeat etc.**\n",
        "\n",
        "* Use the **random.normal() method to get a Normal Data Distribution**.\n",
        "\n",
        "---\n",
        "\n",
        "\n",
        "\n",
        "**It has three parameters:**\n",
        "\n",
        "* **loc** - (Mean) where the peak of the bell exists.\n",
        "\n",
        "* **scale**- (Standard Deviation) how flat the graph distribution should be.\n",
        "\n",
        "* **size** - The shape of the returned array."
      ],
      "metadata": {
        "id": "QGyD4DfGcdSP"
      }
    },
    {
      "cell_type": "markdown",
      "source": [
        "1. Generate a random normal distribution of size 2x3:"
      ],
      "metadata": {
        "id": "UrNG6y8vxUAJ"
      }
    },
    {
      "cell_type": "code",
      "source": [
        "from numpy import random\n",
        "\n",
        "x = random.normal(size=(2, 3))\n",
        "\n",
        "print(x)\n"
      ],
      "metadata": {
        "colab": {
          "base_uri": "https://localhost:8080/"
        },
        "id": "uvLrzotHxWrQ",
        "outputId": "92e38a82-fc29-4ba7-f733-ddb3898f8f6d"
      },
      "execution_count": null,
      "outputs": [
        {
          "output_type": "stream",
          "name": "stdout",
          "text": [
            "[[-0.03454732  1.47781807 -0.70878702]\n",
            " [-0.3693911   1.84039304 -0.48887534]]\n"
          ]
        }
      ]
    },
    {
      "cell_type": "markdown",
      "source": [
        "2. Generate a random normal distribution of size 2x3 with mean at 1 and standard deviation of 2:"
      ],
      "metadata": {
        "id": "6F7D5ftIxceF"
      }
    },
    {
      "cell_type": "code",
      "source": [
        "from numpy import random\n",
        "\n",
        "x = random.normal(loc=1, scale=2, size=(2, 3))\n",
        "\n",
        "print(x)"
      ],
      "metadata": {
        "colab": {
          "base_uri": "https://localhost:8080/"
        },
        "id": "fcyV-xTgxdd2",
        "outputId": "a5166a70-bd67-478e-cf3c-aeec4532456f"
      },
      "execution_count": null,
      "outputs": [
        {
          "output_type": "stream",
          "name": "stdout",
          "text": [
            "[[ 0.83293502  2.50596202 -0.52023404]\n",
            " [ 0.45078598  2.93307809  0.39130599]]\n"
          ]
        }
      ]
    },
    {
      "cell_type": "markdown",
      "source": [
        "**Visualization of Normal Distribution**\n",
        "\n",
        "---\n",
        "\n"
      ],
      "metadata": {
        "id": "E6Nj9S_dxg6Z"
      }
    },
    {
      "cell_type": "code",
      "source": [
        "from numpy import random\n",
        "import matplotlib.pyplot as plt\n",
        "import seaborn as sns\n",
        "\n",
        "sns.distplot(random.normal(size=1000), hist=False)\n",
        "\n",
        "# Displot is deprecated (will remove ) in future versions of seaborn and it will show error\n",
        "# so can use histplot instead of distplot\n",
        "\n",
        "\n",
        "# sns.histplot(random.normal(size=1000),kde=True)\n",
        "\n",
        "plt.show()"
      ],
      "metadata": {
        "colab": {
          "base_uri": "https://localhost:8080/",
          "height": 625
        },
        "id": "SwfIfMkrxkGX",
        "outputId": "bcb2fcab-93b0-4b20-a233-c3f84296f6a5"
      },
      "execution_count": null,
      "outputs": [
        {
          "output_type": "stream",
          "name": "stderr",
          "text": [
            "<ipython-input-15-1cf63c8a7d95>:5: UserWarning: \n",
            "\n",
            "`distplot` is a deprecated function and will be removed in seaborn v0.14.0.\n",
            "\n",
            "Please adapt your code to use either `displot` (a figure-level function with\n",
            "similar flexibility) or `kdeplot` (an axes-level function for kernel density plots).\n",
            "\n",
            "For a guide to updating your code to use the new functions, please see\n",
            "https://gist.github.com/mwaskom/de44147ed2974457ad6372750bbe5751\n",
            "\n",
            "  sns.distplot(random.normal(size=1000), hist=False)\n"
          ]
        },
        {
          "output_type": "display_data",
          "data": {
            "text/plain": [
              "<Figure size 640x480 with 1 Axes>"
            ],
            "image/png": "[encoded data removed]"
          },
          "metadata": {}
        }
      ]
    },
    {
      "cell_type": "markdown",
      "source": [
        "**Note: The curve of a Normal Distribution is also known as the Bell Curve because of the bell-shaped curve.**"
      ],
      "metadata": {
        "id": "1AXeowIbyGzG"
      }
    },
    {
      "cell_type": "markdown",
      "source": [
        "# Binomial Distribution"
      ],
      "metadata": {
        "id": "4lDUMPvLyObS"
      }
    },
    {
      "cell_type": "markdown",
      "source": [
        "**Binomial Distribution**\n",
        "\n",
        "---\n",
        "\n",
        "\n",
        "* Binomial Distribution **is a Discrete Distribution.**\n",
        "\n",
        "* It describes the **outcome of binary scenarios, e.g. toss of a coin**, it will either be head or tails.\n",
        "\n",
        "---\n",
        "\n",
        "\n",
        "\n",
        "**It has three parameters:**\n",
        "\n",
        "* **n** - number of trials.\n",
        "\n",
        "* **p** - probability of occurence of each trial (e.g. for toss of a coin 0.5 each).\n",
        "\n",
        "* **size** - The shape of the returned array.\n",
        "\n",
        "---\n",
        "**Discrete Distribution:**\n",
        "* The distribution is defined at separate set of events, e.g. a coin toss's result is discrete as it can be **only head or tails** whereas height of people is continuous as it can be 170, 170.1, 170.11 and so on.\n"
      ],
      "metadata": {
        "id": "RpvWmRGtyT5o"
      }
    },
    {
      "cell_type": "markdown",
      "source": [
        "1. Given 10 trials for coin toss generate 10 data points:"
      ],
      "metadata": {
        "id": "ocCV70kUyjYN"
      }
    },
    {
      "cell_type": "code",
      "source": [
        "from numpy import random\n",
        "\n",
        "x = random.binomial(n=10, p=0.5, size=10)\n",
        "\n",
        "print(x)"
      ],
      "metadata": {
        "colab": {
          "base_uri": "https://localhost:8080/"
        },
        "id": "J0noL-_My60T",
        "outputId": "300f0f22-0b88-49ee-de73-561a7fb2f857"
      },
      "execution_count": null,
      "outputs": [
        {
          "output_type": "stream",
          "name": "stdout",
          "text": [
            "[6 2 4 6 2 5 5 4 2 6]\n"
          ]
        }
      ]
    },
    {
      "cell_type": "markdown",
      "source": [
        "**Visualization of Binomial Distribution**\n",
        "\n",
        "---\n",
        "\n"
      ],
      "metadata": {
        "id": "IJnCvIihy-Ou"
      }
    },
    {
      "cell_type": "code",
      "source": [
        "from numpy import random\n",
        "import matplotlib.pyplot as plt\n",
        "import seaborn as sns\n",
        "\n",
        "sns.distplot(random.binomial(n=10, p=0.5, size=1000), hist=True, kde=False)\n",
        "\n",
        "plt.show()"
      ],
      "metadata": {
        "colab": {
          "base_uri": "https://localhost:8080/",
          "height": 621
        },
        "id": "H8YAYaQszB0G",
        "outputId": "fdf23c61-4309-4c2a-ae2e-6a1f9e93d2dc"
      },
      "execution_count": null,
      "outputs": [
        {
          "output_type": "stream",
          "name": "stderr",
          "text": [
            "<ipython-input-17-c6d35445dc7e>:5: UserWarning: \n",
            "\n",
            "`distplot` is a deprecated function and will be removed in seaborn v0.14.0.\n",
            "\n",
            "Please adapt your code to use either `displot` (a figure-level function with\n",
            "similar flexibility) or `histplot` (an axes-level function for histograms).\n",
            "\n",
            "For a guide to updating your code to use the new functions, please see\n",
            "https://gist.github.com/mwaskom/de44147ed2974457ad6372750bbe5751\n",
            "\n",
            "  sns.distplot(random.binomial(n=10, p=0.5, size=1000), hist=True, kde=False)\n"
          ]
        },
        {
          "output_type": "display_data",
          "data": {
            "text/plain": [
              "<Figure size 640x480 with 1 Axes>"
            ],
            "image/png": "[encoded data removed]"
          },
          "metadata": {}
        }
      ]
    },
    {
      "cell_type": "markdown",
      "source": [
        "**Difference Between Normal and Binomial Distribution**\n",
        "\n",
        "---\n",
        "* The main difference is that **normal distribution is continous** whereas **binomial is discrete**, but if there are enough data points it will be quite similar to normal distribution with certain loc and scale.\n"
      ],
      "metadata": {
        "id": "sDzjeWjbzFHW"
      }
    },
    {
      "cell_type": "code",
      "source": [
        "from numpy import random\n",
        "import matplotlib.pyplot as plt\n",
        "import seaborn as sns\n",
        "\n",
        "\n",
        "# Normal Distribution\n",
        "sns.distplot(random.normal(loc=50, scale=5, size=1000), hist=False, label='normal')\n",
        "\n",
        "# Binomial Distribution\n",
        "sns.distplot(random.binomial(n=100, p=0.5, size=1000), hist=False, label='binomial')\n",
        "\n",
        "plt.legend()\n",
        "plt.show()"
      ],
      "metadata": {
        "colab": {
          "base_uri": "https://localhost:8080/",
          "height": 812
        },
        "id": "89aFC6jLzRzw",
        "outputId": "65e0a8d0-5994-4eda-a2f0-8e370caec514"
      },
      "execution_count": null,
      "outputs": [
        {
          "output_type": "stream",
          "name": "stderr",
          "text": [
            "<ipython-input-21-f07791bfddfc>:7: UserWarning: \n",
            "\n",
            "`distplot` is a deprecated function and will be removed in seaborn v0.14.0.\n",
            "\n",
            "Please adapt your code to use either `displot` (a figure-level function with\n",
            "similar flexibility) or `kdeplot` (an axes-level function for kernel density plots).\n",
            "\n",
            "For a guide to updating your code to use the new functions, please see\n",
            "https://gist.github.com/mwaskom/de44147ed2974457ad6372750bbe5751\n",
            "\n",
            "  sns.distplot(random.normal(loc=50, scale=5, size=1000), hist=False, label='normal')\n",
            "<ipython-input-21-f07791bfddfc>:10: UserWarning: \n",
            "\n",
            "`distplot` is a deprecated function and will be removed in seaborn v0.14.0.\n",
            "\n",
            "Please adapt your code to use either `displot` (a figure-level function with\n",
            "similar flexibility) or `kdeplot` (an axes-level function for kernel density plots).\n",
            "\n",
            "For a guide to updating your code to use the new functions, please see\n",
            "https://gist.github.com/mwaskom/de44147ed2974457ad6372750bbe5751\n",
            "\n",
            "  sns.distplot(random.binomial(n=100, p=0.5, size=1000), hist=False, label='binomial')\n"
          ]
        },
        {
          "output_type": "display_data",
          "data": {
            "text/plain": [
              "<Figure size 640x480 with 1 Axes>"
            ],
            "image/png": "[encoded data removed]"
          },
          "metadata": {}
        }
      ]
    },
    {
      "cell_type": "markdown",
      "source": [
        "# Poisson Distribution"
      ],
      "metadata": {
        "id": "MFawen_50DrZ"
      }
    },
    {
      "cell_type": "markdown",
      "source": [
        "**Poisson Distribution**\n",
        "\n",
        "---\n",
        "\n",
        "\n",
        "* Poisson Distribution is a **Discrete Distribution.**\n",
        "\n",
        "* It **estimates how many times an event can happen in a specified tim**e. e.g. If someone eats twice a day what is the probability he will eat thrice?\n",
        "\n",
        "\n",
        "---\n",
        "\n",
        "\n",
        "**It has two parameters:**\n",
        "\n",
        "* **lam** - rate or known number of occurrences e.g. 2 for below problem.\n",
        "\n",
        "* **size** - The shape of the returned array."
      ],
      "metadata": {
        "id": "kE19ceJd0E4S"
      }
    },
    {
      "cell_type": "markdown",
      "source": [
        "1. Generate a random 1x10 distribution for occurrence 2:"
      ],
      "metadata": {
        "id": "xv0JwqNg0WHE"
      }
    },
    {
      "cell_type": "code",
      "source": [
        "from numpy import random\n",
        "\n",
        "x = random.poisson(lam=2, size=10)\n",
        "\n",
        "print(x)"
      ],
      "metadata": {
        "colab": {
          "base_uri": "https://localhost:8080/"
        },
        "id": "Itq4S9_z0YsX",
        "outputId": "ae844ff1-5a47-4b60-c02a-40e7712822a1"
      },
      "execution_count": null,
      "outputs": [
        {
          "output_type": "stream",
          "name": "stdout",
          "text": [
            "[0 2 4 3 0 3 0 3 3 2]\n"
          ]
        }
      ]
    },
    {
      "cell_type": "markdown",
      "source": [
        "**Visualization of Poisson Distribution**\n",
        "\n",
        "---\n",
        "\n"
      ],
      "metadata": {
        "id": "-r1YahGp0hBx"
      }
    },
    {
      "cell_type": "code",
      "source": [
        "from numpy import random\n",
        "import matplotlib.pyplot as plt\n",
        "import seaborn as sns\n",
        "\n",
        "sns.distplot(random.poisson(lam=2, size=1000), kde=False)\n",
        "\n",
        "plt.show()"
      ],
      "metadata": {
        "colab": {
          "base_uri": "https://localhost:8080/",
          "height": 622
        },
        "id": "20N6m7EN0lYc",
        "outputId": "2de9f728-759b-4db5-a9d9-1d0d276ee30a"
      },
      "execution_count": null,
      "outputs": [
        {
          "output_type": "stream",
          "name": "stderr",
          "text": [
            "<ipython-input-23-a1e1a78d993e>:5: UserWarning: \n",
            "\n",
            "`distplot` is a deprecated function and will be removed in seaborn v0.14.0.\n",
            "\n",
            "Please adapt your code to use either `displot` (a figure-level function with\n",
            "similar flexibility) or `histplot` (an axes-level function for histograms).\n",
            "\n",
            "For a guide to updating your code to use the new functions, please see\n",
            "https://gist.github.com/mwaskom/de44147ed2974457ad6372750bbe5751\n",
            "\n",
            "  sns.distplot(random.poisson(lam=2, size=1000), kde=False)\n"
          ]
        },
        {
          "output_type": "display_data",
          "data": {
            "text/plain": [
              "<Figure size 640x480 with 1 Axes>"
            ],
            "image/png": "[encoded data removed]"
          },
          "metadata": {}
        }
      ]
    },
    {
      "cell_type": "markdown",
      "source": [
        "**Difference Between Normal and Poisson Distribution**\n",
        "\n",
        "---\n",
        "\n",
        "* **Normal distribution is continuous** whereas **poisson is discrete**.\n",
        "\n",
        "* But we can see that similar to binomial for a large enough poisson distribution it will become similar to normal distribution with certain std dev and mean."
      ],
      "metadata": {
        "id": "iJCd6QO00o-Y"
      }
    },
    {
      "cell_type": "code",
      "source": [
        "from numpy import random\n",
        "import matplotlib.pyplot as plt\n",
        "import seaborn as sns\n",
        "\n",
        "# Normal Distribution\n",
        "sns.distplot(random.normal(loc=50, scale=7, size=1000), hist=False, label='normal')\n",
        "\n",
        "# Poisson Distribution\n",
        "sns.distplot(random.poisson(lam=50, size=1000), hist=False, label='poisson')\n",
        "\n",
        "plt.legend()\n",
        "plt.show()"
      ],
      "metadata": {
        "colab": {
          "base_uri": "https://localhost:8080/",
          "height": 815
        },
        "id": "dSgSAWFH2I5G",
        "outputId": "7f7ab0b5-da64-460b-acfe-017f0f1d8383"
      },
      "execution_count": null,
      "outputs": [
        {
          "output_type": "stream",
          "name": "stderr",
          "text": [
            "<ipython-input-24-f7014b866b00>:6: UserWarning: \n",
            "\n",
            "`distplot` is a deprecated function and will be removed in seaborn v0.14.0.\n",
            "\n",
            "Please adapt your code to use either `displot` (a figure-level function with\n",
            "similar flexibility) or `kdeplot` (an axes-level function for kernel density plots).\n",
            "\n",
            "For a guide to updating your code to use the new functions, please see\n",
            "https://gist.github.com/mwaskom/de44147ed2974457ad6372750bbe5751\n",
            "\n",
            "  sns.distplot(random.normal(loc=50, scale=7, size=1000), hist=False, label='normal')\n",
            "<ipython-input-24-f7014b866b00>:9: UserWarning: \n",
            "\n",
            "`distplot` is a deprecated function and will be removed in seaborn v0.14.0.\n",
            "\n",
            "Please adapt your code to use either `displot` (a figure-level function with\n",
            "similar flexibility) or `kdeplot` (an axes-level function for kernel density plots).\n",
            "\n",
            "For a guide to updating your code to use the new functions, please see\n",
            "https://gist.github.com/mwaskom/de44147ed2974457ad6372750bbe5751\n",
            "\n",
            "  sns.distplot(random.poisson(lam=50, size=1000), hist=False, label='poisson')\n"
          ]
        },
        {
          "output_type": "display_data",
          "data": {
            "text/plain": [
              "<Figure size 640x480 with 1 Axes>"
            ],
            "image/png": "[encoded data removed]"
          },
          "metadata": {}
        }
      ]
    },
    {
      "cell_type": "markdown",
      "source": [
        "**Difference Between Binomial and Poisson Distribution**\n",
        "\n",
        "---\n",
        "\n",
        "\n",
        "* **Binomial** distribution only has **two possible outcomes**, whereas **poisson distribution can have unlimited possible outcomes**.\n",
        "\n",
        "* But for very large n and near-zero p binomial distribution is near identical to poisson distribution such that n * p is nearly equal to lam."
      ],
      "metadata": {
        "id": "EPZPpPF52YZG"
      }
    },
    {
      "cell_type": "code",
      "source": [
        "from numpy import random\n",
        "import matplotlib.pyplot as plt\n",
        "import seaborn as sns\n",
        "\n",
        "# Binomial Distribution\n",
        "sns.distplot(random.binomial(n=1000, p=0.01, size=1000), hist=False, label='binomial')\n",
        "# Poisson Distribution\n",
        "sns.distplot(random.poisson(lam=10, size=1000), hist=False, label='poisson')\n",
        "\n",
        "plt.legend()\n",
        "plt.show()"
      ],
      "metadata": {
        "colab": {
          "base_uri": "https://localhost:8080/",
          "height": 812
        },
        "id": "nMvY8KiF2nCw",
        "outputId": "1912e318-cd7c-45d2-dfca-0dd41edd8ab8"
      },
      "execution_count": null,
      "outputs": [
        {
          "output_type": "stream",
          "name": "stderr",
          "text": [
            "<ipython-input-25-df45ae9b27c2>:6: UserWarning: \n",
            "\n",
            "`distplot` is a deprecated function and will be removed in seaborn v0.14.0.\n",
            "\n",
            "Please adapt your code to use either `displot` (a figure-level function with\n",
            "similar flexibility) or `kdeplot` (an axes-level function for kernel density plots).\n",
            "\n",
            "For a guide to updating your code to use the new functions, please see\n",
            "https://gist.github.com/mwaskom/de44147ed2974457ad6372750bbe5751\n",
            "\n",
            "  sns.distplot(random.binomial(n=1000, p=0.01, size=1000), hist=False, label='binomial')\n",
            "<ipython-input-25-df45ae9b27c2>:8: UserWarning: \n",
            "\n",
            "`distplot` is a deprecated function and will be removed in seaborn v0.14.0.\n",
            "\n",
            "Please adapt your code to use either `displot` (a figure-level function with\n",
            "similar flexibility) or `kdeplot` (an axes-level function for kernel density plots).\n",
            "\n",
            "For a guide to updating your code to use the new functions, please see\n",
            "https://gist.github.com/mwaskom/de44147ed2974457ad6372750bbe5751\n",
            "\n",
            "  sns.distplot(random.poisson(lam=10, size=1000), hist=False, label='poisson')\n"
          ]
        },
        {
          "output_type": "display_data",
          "data": {
            "text/plain": [
              "<Figure size 640x480 with 1 Axes>"
            ],
            "image/png": "[encoded data removed]"
          },
          "metadata": {}
        }
      ]
    },
    {
      "cell_type": "markdown",
      "source": [
        "# Uniform Distribution"
      ],
      "metadata": {
        "id": "oN2l05Gr207M"
      }
    },
    {
      "cell_type": "markdown",
      "source": [
        "**Uniform Distribution**\n",
        "\n",
        "---\n",
        "\n",
        "\n",
        "* Used to **describe probability where every event has equal chances of occuring.**\n",
        "* E.g. Generation of random numbers.\n",
        "\n",
        "---\n",
        "\n",
        "\n",
        "\n",
        "\n",
        "\n",
        "**It has three parameters:**\n",
        "\n",
        "* **a** - lower bound - default 0 .0.\n",
        "\n",
        "* **b** - upper bound - default 1.0.\n",
        "\n",
        "* **size** - The shape of the returned array.\n",
        "\n"
      ],
      "metadata": {
        "id": "1ewww0sN237e"
      }
    },
    {
      "cell_type": "markdown",
      "source": [
        "1. Create a 2x3 uniform distribution sample:"
      ],
      "metadata": {
        "id": "Jq7_v6Ks3LUk"
      }
    },
    {
      "cell_type": "code",
      "source": [
        "from numpy import random\n",
        "\n",
        "x = random.uniform(size=(2, 3))\n",
        "\n",
        "print(x)"
      ],
      "metadata": {
        "colab": {
          "base_uri": "https://localhost:8080/"
        },
        "id": "OzqRgwzc3MZo",
        "outputId": "03c1a3cf-95f2-4b46-a4ad-c6701137ec63"
      },
      "execution_count": null,
      "outputs": [
        {
          "output_type": "stream",
          "name": "stdout",
          "text": [
            "[[0.87134379 0.79497947 0.9920296 ]\n",
            " [0.30515339 0.04278744 0.35662883]]\n"
          ]
        }
      ]
    },
    {
      "cell_type": "markdown",
      "source": [
        "**Visualization of Uniform Distribution**\n",
        "\n",
        "---\n",
        "\n"
      ],
      "metadata": {
        "id": "6Rj7YEPb3OmJ"
      }
    },
    {
      "cell_type": "code",
      "source": [
        "from numpy import random\n",
        "import matplotlib.pyplot as plt\n",
        "import seaborn as sns\n",
        "\n",
        "sns.distplot(random.uniform(size=1000), hist=False)\n",
        "\n",
        "plt.show()"
      ],
      "metadata": {
        "colab": {
          "base_uri": "https://localhost:8080/",
          "height": 621
        },
        "id": "ggv_j5LQ3S8E",
        "outputId": "0b4ace76-9460-4ffd-bca1-d049650d9b56"
      },
      "execution_count": null,
      "outputs": [
        {
          "output_type": "stream",
          "name": "stderr",
          "text": [
            "<ipython-input-27-f9e20fa3f0b7>:5: UserWarning: \n",
            "\n",
            "`distplot` is a deprecated function and will be removed in seaborn v0.14.0.\n",
            "\n",
            "Please adapt your code to use either `displot` (a figure-level function with\n",
            "similar flexibility) or `kdeplot` (an axes-level function for kernel density plots).\n",
            "\n",
            "For a guide to updating your code to use the new functions, please see\n",
            "https://gist.github.com/mwaskom/de44147ed2974457ad6372750bbe5751\n",
            "\n",
            "  sns.distplot(random.uniform(size=1000), hist=False)\n"
          ]
        },
        {
          "output_type": "display_data",
          "data": {
            "text/plain": [
              "<Figure size 640x480 with 1 Axes>"
            ],
            "image/png": "[encoded data removed]"
          },
          "metadata": {}
        }
      ]
    },
    {
      "cell_type": "markdown",
      "source": [
        "# Logistic Distribution"
      ],
      "metadata": {
        "id": "3QwZAY2-3XIc"
      }
    },
    {
      "cell_type": "markdown",
      "source": [],
      "metadata": {
        "id": "A_3JWYCb3YS0"
      }
    }
  ]
}