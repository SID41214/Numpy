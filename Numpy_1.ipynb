{
  "nbformat": 4,
  "nbformat_minor": 0,
  "metadata": {
    "colab": {
      "provenance": []
    },
    "kernelspec": {
      "name": "python3",
      "display_name": "Python 3"
    },
    "language_info": {
      "name": "python"
    }
  },
  "cells": [
    {
      "cell_type": "markdown",
      "source": [
        "# Introduction"
      ],
      "metadata": {
        "id": "7xNoH5n-t2Zq"
      }
    },
    {
      "cell_type": "markdown",
      "source": [
        "**What is NumPy?**\n",
        "\n",
        "---\n",
        "\n",
        "\n",
        "*  NumPy is a Python library **used for working with arrays.**\n",
        "\n",
        "*  It also has functions for working in domain of linear algebra, fourier transform, and matrices.\n",
        "\n",
        "*  NumPy was created in 2005 by Travis Oliphant. It is an open source project and you can use it freely.\n",
        "\n",
        "* NumPy stands for **Numerical Python**.\n",
        "\n",
        "  *  Array\n",
        "\n",
        "      * An **array** is a data structure that **can store multiple elements of the same data type in a single variable.** It is a collection of elements, usually arranged in a sequence, that allows for efficient access and manipulation of the data."
      ],
      "metadata": {
        "id": "8xlbN9Oislj4"
      }
    },
    {
      "cell_type": "markdown",
      "source": [
        "**Why Use NumPy?**\n",
        "\n",
        "---\n",
        "\n",
        "\n",
        "*  In Python we have **lists** that serve the purpose of arrays, but **they are slow to process**.\n",
        "\n",
        "*  **NumPy** aims to provide an array object that is up to **50x faster than traditional Python lists.**\n",
        "\n",
        "*  The **array object in NumPy is called ndarray**, it provides a lot of supporting functions that make working with ndarray very easy.\n",
        "\n",
        "*  Arrays are very frequently used in data science, where speed and resources are very important."
      ],
      "metadata": {
        "id": "hJ0q0ZRts0EB"
      }
    },
    {
      "cell_type": "markdown",
      "source": [
        "**Why is NumPy Faster Than Lists?**\n",
        "\n",
        "\n",
        "---\n",
        "\n",
        "\n",
        "* **NumPy arrays are stored at one continuous place** in memory unlike lists so processes **can access and manipulate them very efficiently**.\n",
        "\n",
        "\n",
        "* This behavior is called **locality of reference** in computer science.\n",
        "\n",
        "* This is the main reason why NumPy is faster than lists. Also it is optimized to work with latest CPU architectures.\n",
        "\n",
        "* **Contiguous Memory Allocation:**\n",
        "    *  **NumPy arrays are stored in contiguous memory blocks**, unlike Python lists, which are arrays of pointers to objects. This allows NumPy to efficiently access and manipulate data since all elements are stored together in memory.\n",
        "\n",
        "* **Homogeneous Data Types:**\n",
        "    *  **All elements in a NumPy array are of the same data type, which means less memory overhead compared to Python lists**, which can store elements of different types, leading to additional memory usage.\n",
        "\n",
        "* **Optimized C Implementation:**  \n",
        "     * **Underlying C Code**: NumPy is implemented in C, which allows for the execution of operations at the machine level. Python lists, on the other hand, are managed by the Python interpreter, which adds overhead. NumPy leverages highly optimized C libraries to perform operations much faster.\n",
        "     * **Low-Level Operations:** When you perform operations on NumPy arrays, these operations are executed at a lower level with less overhead, while Python lists require more processing time due to the need for interpreting and handling different types of elements.\n",
        "* **Vectorization:**\n",
        "     *  **Element-Wise Operations:** NumPy allows for vectorized operations, meaning you can perform operations on entire arrays without the need for explicit loops. This is achieved through SIMD (Single Instruction, Multiple Data) operations, which are much faster than executing Python loops.\n",
        "\n",
        "\n",
        "*  **Reduced Overhead:**\n",
        "     * **Python Lists:** Each element in a Python list is a full-fledged Python object, which includes metadata, reference counting, and other overhead. When performing operations on lists, Python has to manage this overhead for each element.\n",
        "     * **NumPy Arrays:** NumPy arrays are more memory-efficient because they store data in a fixed-size, homogeneous block of memory without the need for the extra overhead associated with Python objects.\n",
        "*  **Broadcasting:**\n",
        "     *  NumPy supports broadcasting, which allows operations on arrays of different shapes and sizes without making copies of data. This avoids unnecessary memory allocation and improves performance.\n",
        "* **In-Place Operations:**\n",
        "    *  NumPy supports in-place operations that modify the existing array rather than creating a new one, saving both time and memory."
      ],
      "metadata": {
        "id": "_6B5KtJwt16a"
      }
    },
    {
      "cell_type": "code",
      "source": [
        "# Using NumPy for element-wise addition\n",
        "a = np.array([1, 2, 3, 4, 5])\n",
        "b = np.array([10, 20, 30, 40, 50])\n",
        "c = a + b  # Vectorized operation\n",
        "print(c)"
      ],
      "metadata": {
        "colab": {
          "base_uri": "https://localhost:8080/"
        },
        "id": "CGU9Oo8Ywjw0",
        "outputId": "60cbadeb-c3c1-4870-97f1-e340ef31dc8f"
      },
      "execution_count": null,
      "outputs": [
        {
          "output_type": "stream",
          "name": "stdout",
          "text": [
            "[11 22 33 44 55]\n"
          ]
        }
      ]
    },
    {
      "cell_type": "markdown",
      "source": [
        "**Import NumPy**\n",
        "\n",
        "---\n",
        "\n"
      ],
      "metadata": {
        "id": "Gw3T40Qjue96"
      }
    },
    {
      "cell_type": "code",
      "source": [
        "import numpy"
      ],
      "metadata": {
        "id": "fV5TZ1VnusJZ"
      },
      "execution_count": null,
      "outputs": []
    },
    {
      "cell_type": "code",
      "source": [
        "import numpy\n",
        "\n",
        "arr = numpy.array([1, 2, 3, 4, 5])\n",
        "lt = [1, 2, 3, 4, 5]\n",
        "print(\"List elemennts are : \",lt)\n",
        "print(type(lt))\n",
        "print(\"----------------------------------------Understand the difference  ---------------------\")\n",
        "print(\"Array elements are : \",arr)\n",
        "print(type(arr))"
      ],
      "metadata": {
        "colab": {
          "base_uri": "https://localhost:8080/"
        },
        "id": "nAbVgnEpuy5W",
        "outputId": "d123cb09-f02d-41a2-bc98-cc54ca6f44c2"
      },
      "execution_count": null,
      "outputs": [
        {
          "output_type": "stream",
          "name": "stdout",
          "text": [
            "List elemennts are :  [1, 2, 3, 4, 5]\n",
            "<class 'list'>\n",
            "----------------------------------------Understand the difference  ---------------------\n",
            "Array elements are :  [1 2 3 4 5]\n",
            "<class 'numpy.ndarray'>\n"
          ]
        }
      ]
    },
    {
      "cell_type": "markdown",
      "source": [
        "**NumPy as np**"
      ],
      "metadata": {
        "id": "kw3BUJnRvUW_"
      }
    },
    {
      "cell_type": "code",
      "source": [
        "import numpy as np\n",
        "\n",
        "arr = np.array([1, 2, 3, 4, 5])\n",
        "\n",
        "print(arr)"
      ],
      "metadata": {
        "colab": {
          "base_uri": "https://localhost:8080/"
        },
        "id": "aJbjSOxovX1d",
        "outputId": "fe21f45a-6384-46bd-8f05-ff043db8c6aa"
      },
      "execution_count": null,
      "outputs": [
        {
          "output_type": "stream",
          "name": "stdout",
          "text": [
            "[1 2 3 4 5]\n"
          ]
        }
      ]
    },
    {
      "cell_type": "markdown",
      "source": [
        "Checking NumPy Version"
      ],
      "metadata": {
        "id": "CwI2wtd_vcIZ"
      }
    },
    {
      "cell_type": "code",
      "source": [
        "import numpy as np\n",
        "\n",
        "print(np.__version__)"
      ],
      "metadata": {
        "colab": {
          "base_uri": "https://localhost:8080/"
        },
        "id": "FUaZWvK9vcpZ",
        "outputId": "b8f04502-065e-4969-eb1c-8c82c5c19d7d"
      },
      "execution_count": null,
      "outputs": [
        {
          "output_type": "stream",
          "name": "stdout",
          "text": [
            "1.26.4\n"
          ]
        }
      ]
    },
    {
      "cell_type": "markdown",
      "source": [
        "# NumPy Creating Arrays"
      ],
      "metadata": {
        "id": "RI__xsy0vgid"
      }
    },
    {
      "cell_type": "markdown",
      "source": [
        "Create a NumPy ndarray Object"
      ],
      "metadata": {
        "id": "nR_WTM1Xvhw8"
      }
    },
    {
      "cell_type": "markdown",
      "source": [
        "* NumPy is used to work with arrays. **The array object in NumPy is called ndarray.**\n",
        "\n",
        "* We can create a NumPy ndarray object by using the **array()** function."
      ],
      "metadata": {
        "id": "7ARRTtDzxiNC"
      }
    },
    {
      "cell_type": "markdown",
      "source": [
        "* An ndarray (short for **N-dimensional array**) is the core data structure of the NumPy library. It represents a multi-dimensional, homogeneous array of fixed-size items. **Each item in an ndarray takes up the same amount of memory, and the entire array is stored in a contiguous block of memory, which allows for efficient data access and manipulation.**\n",
        "\n",
        "* Key Features of ndarray:\n",
        "    * **Multi-dimensional**: An ndarray can have any number of dimensions, from 1D (a simple array or list) to 2D (like a matrix) to higher dimensions (e.g., 3D, 4D arrays, etc.).\n",
        "    * **Homogeneous Data Types**: All elements in an ndarray must be of the same data type (e.g., all integers, all floats).\n",
        "    * **Efficient:** ndarray is highly efficient in terms of both memory usage and performance, making it ideal for large-scale numerical computations."
      ],
      "metadata": {
        "id": "qeSlaECu2w95"
      }
    },
    {
      "cell_type": "code",
      "source": [
        "import numpy as np\n",
        "\n",
        "arr = np.array([1, 2, 3, 4, 5])\n",
        "\n",
        "print(arr)\n",
        "\n",
        "print(type(arr))"
      ],
      "metadata": {
        "colab": {
          "base_uri": "https://localhost:8080/"
        },
        "id": "pElruEB_xgpH",
        "outputId": "04d56255-0dde-4edd-aa73-1f4c7e16e1a8"
      },
      "execution_count": null,
      "outputs": [
        {
          "output_type": "stream",
          "name": "stdout",
          "text": [
            "[1 2 3 4 5]\n",
            "<class 'numpy.ndarray'>\n"
          ]
        }
      ]
    },
    {
      "cell_type": "markdown",
      "source": [
        "Use a tuple to create a NumPy array:"
      ],
      "metadata": {
        "id": "MphoLEFx3l_v"
      }
    },
    {
      "cell_type": "code",
      "source": [
        "import numpy as np\n",
        "\n",
        "arr = np.array((1, 2, 3, 4, 5))\n",
        "\n",
        "print(arr)"
      ],
      "metadata": {
        "colab": {
          "base_uri": "https://localhost:8080/"
        },
        "id": "kiNU7EuK3jph",
        "outputId": "f5a051c9-55b3-48f2-ca4c-b75deeec5fa2"
      },
      "execution_count": null,
      "outputs": [
        {
          "output_type": "stream",
          "name": "stdout",
          "text": [
            "[1 2 3 4 5]\n"
          ]
        }
      ]
    },
    {
      "cell_type": "markdown",
      "source": [
        "More examples:  1D 2D 3D"
      ],
      "metadata": {
        "id": "bwBkOJ1F3onI"
      }
    },
    {
      "cell_type": "code",
      "source": [
        "import numpy as np\n",
        "\n",
        "# Creating a 1D ndarray\n",
        "array_1d = np.array([1, 2, 3, 4, 5])\n",
        "\n",
        "# Creating a 2D ndarray (matrix)\n",
        "array_2d = np.array([[1, 2, 3], [4, 5, 6]])\n",
        "\n",
        "# Creating a 3D ndarray\n",
        "array_3d = np.array([[[1, 2], [3, 4]], [[5, 6], [7, 8]]])\n",
        "\n",
        "print(\"1D Array:\\n\", array_1d)\n",
        "print(\"2D Array:\\n\", array_2d)\n",
        "print(\"3D Array:\\n\", array_3d)\n"
      ],
      "metadata": {
        "colab": {
          "base_uri": "https://localhost:8080/"
        },
        "id": "yNEX-xtD3Gzi",
        "outputId": "a03c702a-7f1d-4b22-c05c-d2484437bf55"
      },
      "execution_count": null,
      "outputs": [
        {
          "output_type": "stream",
          "name": "stdout",
          "text": [
            "1D Array:\n",
            " [1 2 3 4 5]\n",
            "2D Array:\n",
            " [[1 2 3]\n",
            " [4 5 6]]\n",
            "3D Array:\n",
            " [[[1 2]\n",
            "  [3 4]]\n",
            "\n",
            " [[5 6]\n",
            "  [7 8]]]\n"
          ]
        }
      ]
    },
    {
      "cell_type": "code",
      "source": [
        "print(array_2d)\n",
        "print(\"Number of dimensions (ndim):\", array_2d.ndim)\n",
        "print(\"Shape of the array (shape):\", array_2d.shape)\n",
        "print(\"Total number of elements (size):\", array_2d.size)\n",
        "print(\"Data type of elements (dtype):\", array_2d.dtype)\n"
      ],
      "metadata": {
        "colab": {
          "base_uri": "https://localhost:8080/"
        },
        "id": "P6O0GGJv3MnB",
        "outputId": "afe9ab70-1f93-4c5f-9d73-e9544abf60b1"
      },
      "execution_count": null,
      "outputs": [
        {
          "output_type": "stream",
          "name": "stdout",
          "text": [
            "[[1 2 3]\n",
            " [4 5 6]]\n",
            "Number of dimensions (ndim): 2\n",
            "Shape of the array (shape): (2, 3)\n",
            "Total number of elements (size): 6\n",
            "Data type of elements (dtype): int64\n"
          ]
        }
      ]
    },
    {
      "cell_type": "markdown",
      "source": [
        "Attributes of ndarray:\n",
        " * **ndim**: Returns the number of dimensions of the array.\n",
        " * **shape**: Returns a tuple representing the size of the array in each dimension (e.g., (rows, columns) for 2D arrays).\n",
        " * **size:** Returns the total number of elements in the array.\n",
        " * **dtype**: Returns the data type of the elements in the array."
      ],
      "metadata": {
        "id": "wDDeDBvR3UC2"
      }
    },
    {
      "cell_type": "markdown",
      "source": [
        "**Dimensions in Arrays**\n",
        "\n",
        "---\n",
        "\n",
        "* A dimension in arrays is one level of array depth (nested arrays).\n",
        "* **nested array:** are arrays that have arrays as their elements."
      ],
      "metadata": {
        "id": "FOzixsu03ghI"
      }
    },
    {
      "cell_type": "markdown",
      "source": [
        "**0-D Arrays**\n",
        "\n",
        "---\n",
        "* Zero dimensional arrays, or Scalars, are the elements in an array. Each value in an array is a 0-D array.\n",
        "\n",
        "\n",
        "---\n",
        "\n",
        "**Characteristics of 0-D Arrays:**\n",
        "\n",
        "* **Single Elemen**t: A 0-D array holds just one value.\n",
        "* **No Dimensions:** Since it's a scalar value, it **doesn't have rows, columns, or higher dimensions.**\n",
        "* **Data Type:** Like other NumPy arrays, a 0-D array has a specific data type, which is uniform for the single element it contains.\n",
        "\n",
        "\n",
        "---\n",
        "\n"
      ],
      "metadata": {
        "id": "s8Uh4cwT35OX"
      }
    },
    {
      "cell_type": "code",
      "source": [
        "import numpy as np\n",
        "\n",
        "arr = np.array(42)\n",
        "\n",
        "print(arr)"
      ],
      "metadata": {
        "colab": {
          "base_uri": "https://localhost:8080/"
        },
        "id": "BG10VJhb4B5e",
        "outputId": "7b19ab0d-6948-481d-b332-1044f34bfcd9"
      },
      "execution_count": null,
      "outputs": [
        {
          "output_type": "stream",
          "name": "stdout",
          "text": [
            "42\n"
          ]
        }
      ]
    },
    {
      "cell_type": "code",
      "source": [
        "import numpy as np\n",
        "\n",
        "# Creating a 0-D array (scalar)\n",
        "ar = np.array(42)\n",
        "\n",
        "print(\"0-D Array:\", ar)\n",
        "print(\"Number of dimensions (ndim):\", ar.ndim)\n"
      ],
      "metadata": {
        "colab": {
          "base_uri": "https://localhost:8080/"
        },
        "id": "EkUrQhUV4cq-",
        "outputId": "d148f299-0e25-427d-9c9d-e2ee5f442ec9"
      },
      "execution_count": null,
      "outputs": [
        {
          "output_type": "stream",
          "name": "stdout",
          "text": [
            "0-D Array: 42\n",
            "Number of dimensions (ndim): 0\n"
          ]
        }
      ]
    },
    {
      "cell_type": "code",
      "source": [
        "# Example 1: Creating a 0-D Array with Different Data Types\n",
        "import numpy as np\n",
        "\n",
        "# 0-D array with an integer\n",
        "int_array= np.array(10)\n",
        "\n",
        "# 0-D array with a float\n",
        "float_array= np.array(3.14)\n",
        "\n",
        "# 0-D array with a string\n",
        "string_array = np.array(\"Hello\")\n",
        "\n",
        "print(\"Integer 0-D Array:\", int_array)\n",
        "print(\"Float 0-D Array:\", float_array)\n",
        "print(\"String 0-D Array:\", string_array)\n"
      ],
      "metadata": {
        "colab": {
          "base_uri": "https://localhost:8080/"
        },
        "id": "9tVPSFm86qab",
        "outputId": "1a370981-a3da-4919-ce1b-62b64742f95e"
      },
      "execution_count": null,
      "outputs": [
        {
          "output_type": "stream",
          "name": "stdout",
          "text": [
            "Integer 0-D Array: 10\n",
            "Float 0-D Array: 3.14\n",
            "String 0-D Array: Hello\n"
          ]
        }
      ]
    },
    {
      "cell_type": "code",
      "source": [
        "# Example 2: Checking Attributes of 0-D Arrays\n",
        "# 0-D array with a boolean value\n",
        "bool_array= np.array(True)\n",
        "\n",
        "print(\"0-D Array:\", bool_array)\n",
        "print(\"Number of dimensions (ndim):\", bool_array.ndim)\n",
        "print(\"Shape of the array (shape):\", bool_array.shape)\n",
        "print(\"Total number of elements (size):\", bool_array.size)\n",
        "print(\"Data type of elements (dtype):\", bool_array.dtype)\n"
      ],
      "metadata": {
        "colab": {
          "base_uri": "https://localhost:8080/"
        },
        "id": "JxurhB2H7UZp",
        "outputId": "4dd9a897-bcbe-4943-a38d-d233fdacb2b8"
      },
      "execution_count": null,
      "outputs": [
        {
          "output_type": "stream",
          "name": "stdout",
          "text": [
            "0-D Array: True\n",
            "Number of dimensions (ndim): 0\n",
            "Shape of the array (shape): ()\n",
            "Total number of elements (size): 1\n",
            "Data type of elements (dtype): bool\n"
          ]
        }
      ]
    },
    {
      "cell_type": "code",
      "source": [
        "# Example 3: Performing Operations on 0-D Arrays\n",
        "# Creating two 0-D arrays\n",
        "a = np.array(7)\n",
        "b = np.array(3)\n",
        "\n",
        "# Arithmetic operations\n",
        "sum_result = a + b\n",
        "product_result = a * b\n",
        "\n",
        "print(\"Sum of 0-D arrays:\", sum_result)\n",
        "print(\"Product of 0-D arrays:\", product_result)\n"
      ],
      "metadata": {
        "colab": {
          "base_uri": "https://localhost:8080/"
        },
        "id": "n2BN4A4d7kAT",
        "outputId": "69b49f5a-2a53-4701-e326-b065843a69e6"
      },
      "execution_count": null,
      "outputs": [
        {
          "output_type": "stream",
          "name": "stdout",
          "text": [
            "Sum of 0-D arrays: 10\n",
            "Product of 0-D arrays: 21\n"
          ]
        }
      ]
    },
    {
      "cell_type": "code",
      "source": [
        "# Example 4: Converting a 0-D Array to a Scalar\n",
        "# You can convert a 0-D array back to a Python scalar using the item() method.\n",
        "# 0-D array\n",
        "array = np.array(99)\n",
        "# Convert to scalar\n",
        "scalar_value = array.item()\n",
        "print(\"0D - Array: \",array)\n",
        "print(\"Type of 0D array : \",type(array))\n",
        "\n",
        "print(\"-----------    After Converting 0D Array back to python Scalar -----------\")\n",
        "\n",
        "print(\"Scalar value:\", scalar_value)\n",
        "print(\"Type of scalar value:\", type(scalar_value))\n"
      ],
      "metadata": {
        "colab": {
          "base_uri": "https://localhost:8080/"
        },
        "id": "LTzFuC1B7qlE",
        "outputId": "8bb8fba9-3ae6-44a6-e376-50c652d97988"
      },
      "execution_count": null,
      "outputs": [
        {
          "output_type": "stream",
          "name": "stdout",
          "text": [
            "0D - Array:  99\n",
            "Type of 0D array :  <class 'numpy.ndarray'>\n",
            "-----------    After Converting 0D Array back to python Scalar -----------\n",
            "Scalar value: 99\n",
            "Type of scalar value: <class 'int'>\n"
          ]
        }
      ]
    },
    {
      "cell_type": "markdown",
      "source": [
        "**1-D Arrays**\n",
        "\n",
        "---\n",
        "* An **array that has 0-D arrays as its elemen**ts is called **uni-dimensional or 1-D array.**\n",
        "\n",
        "* These are the most common and basic arrays.\n",
        "---\n",
        "* A 1-D array (one-dimensional array) in NumPy is the simplest form of an array that can hold multiple elements arranged in a single row or a single column. It is essentially a list of elements that can be accessed by their index.\n",
        "\n",
        "Key Characteristics of 1-D Arrays:\n",
        "\n",
        "* **Single Dimension:**A 1-D array has only one axis or dimension, which means it's a linear sequence of elements.\n",
        "* **Homogeneous Data Type:** All elements in a 1-D array must be of the same data type (e.g., all integers, all floats).\n",
        "* **Indexed Access:** Elements in a 1-D array can be accessed using their index, starting from 0.\n",
        "\n"
      ],
      "metadata": {
        "id": "ya4KT4216nss"
      }
    },
    {
      "cell_type": "markdown",
      "source": [
        "![image.png](data:image/png;base64,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)"
      ],
      "metadata": {
        "id": "d3u1-QpS5b6N"
      }
    },
    {
      "cell_type": "code",
      "source": [
        "import numpy as np\n",
        "\n",
        "# Creating python list\n",
        "l=[12.23,13.32,100,10.32]\n",
        "\n",
        "print(\"List : \",l)\n",
        "\n",
        "# Creating Numpy Array\n",
        "arr=np.array(l)\n",
        "\n",
        "# Printing one dimensional numpy array\n",
        "print(\"Numpy Array : \",arr)\n",
        "print(\"Array dimension : \",arr.ndim)"
      ],
      "metadata": {
        "colab": {
          "base_uri": "https://localhost:8080/"
        },
        "id": "DDtzLo945qtY",
        "outputId": "408bb823-f3d2-475b-97e6-e9f47ef98daa"
      },
      "execution_count": null,
      "outputs": [
        {
          "output_type": "stream",
          "name": "stdout",
          "text": [
            "List :  [12.23, 13.32, 100, 10.32]\n",
            "Numpy Array :  [ 12.23  13.32 100.    10.32]\n",
            "Array dimension :  1\n"
          ]
        }
      ]
    },
    {
      "cell_type": "markdown",
      "source": [
        "Create a 1-D array containing the values 1,2,3,4,5:"
      ],
      "metadata": {
        "id": "lnu6DDm6978t"
      }
    },
    {
      "cell_type": "code",
      "source": [
        "import numpy as np\n",
        "\n",
        "arr = np.array([1, 2, 3, 4, 5])\n",
        "\n",
        "print(arr)"
      ],
      "metadata": {
        "colab": {
          "base_uri": "https://localhost:8080/"
        },
        "id": "RbF6Vdj19-Nn",
        "outputId": "f4d763ea-f48a-4116-a98e-2cdd45a6e19a"
      },
      "execution_count": null,
      "outputs": [
        {
          "output_type": "stream",
          "name": "stdout",
          "text": [
            "[1 2 3 4 5]\n"
          ]
        }
      ]
    },
    {
      "cell_type": "code",
      "source": [
        "import numpy as np\n",
        "\n",
        "# Creating a 1-D array\n",
        "array_1d = np.array([10, 20, 30, 40, 50])\n",
        "\n",
        "print(\"1-D Array:\", array_1d)\n",
        "print(\"Number of dimensions (ndim):\", array_1d.ndim)\n",
        "print(\"Shape of the array (shape):\", array_1d.shape)\n",
        "print(\"Total number of elements (size):\", array_1d.size)\n",
        "print(\"Data type of elements (dtype):\", array_1d.dtype)\n"
      ],
      "metadata": {
        "colab": {
          "base_uri": "https://localhost:8080/"
        },
        "id": "aZZWM2oh-CGC",
        "outputId": "bc394c88-4b29-4ffa-c013-7a829bb12c22"
      },
      "execution_count": null,
      "outputs": [
        {
          "output_type": "stream",
          "name": "stdout",
          "text": [
            "1-D Array: [10 20 30 40 50]\n",
            "Number of dimensions (ndim): 1\n",
            "Shape of the array (shape): (5,)\n",
            "Total number of elements (size): 5\n",
            "Data type of elements (dtype): int64\n"
          ]
        }
      ]
    },
    {
      "cell_type": "code",
      "source": [
        "# Accessing elements by index\n",
        "first_element = array_1d[0]\n",
        "third_element = array_1d[2]\n",
        "last_element = array_1d[-1]\n",
        "\n",
        "print(\"First element:\", first_element)\n",
        "print(\"Third element:\", third_element)\n",
        "print(\"Last element:\", last_element)\n"
      ],
      "metadata": {
        "colab": {
          "base_uri": "https://localhost:8080/"
        },
        "id": "s8H4mAng-Xjg",
        "outputId": "52166300-1c18-46f4-8287-ac4629122998"
      },
      "execution_count": null,
      "outputs": [
        {
          "output_type": "stream",
          "name": "stdout",
          "text": [
            "First element: 10\n",
            "Third element: 30\n",
            "Last element: 50\n"
          ]
        }
      ]
    },
    {
      "cell_type": "markdown",
      "source": [
        "**What Does dtype Represent?**\n",
        "* dtype stands for \"data type.\"\n",
        "* It describes the type of elements contained within the array, such as integers, floating-point numbers, or strings.\n",
        "* NumPy arrays are homogeneous, meaning all elements in the array must be of the same type, and dtype indicates what that type is."
      ],
      "metadata": {
        "id": "FnKTnsz6-N7d"
      }
    },
    {
      "cell_type": "markdown",
      "source": [
        "**Slicing a 1-D Array:**\n",
        "\n",
        "---\n",
        "\n"
      ],
      "metadata": {
        "id": "OxFmfwRU-T47"
      }
    },
    {
      "cell_type": "code",
      "source": [
        "# Slicing the array from index 1 to 3\n",
        "sub_array = array_1d[1:4]\n",
        "print(array_1d)\n",
        "print(\"Sliced array:\", sub_array)\n"
      ],
      "metadata": {
        "colab": {
          "base_uri": "https://localhost:8080/"
        },
        "id": "dzzM0HdL-dWA",
        "outputId": "b023a4f6-9100-4b6e-a66a-6519c7641efd"
      },
      "execution_count": null,
      "outputs": [
        {
          "output_type": "stream",
          "name": "stdout",
          "text": [
            "[10 20 30 40 50]\n",
            "Sliced array: [20 30 40]\n"
          ]
        }
      ]
    },
    {
      "cell_type": "markdown",
      "source": [
        "Performing Operations on a 1-D Array:"
      ],
      "metadata": {
        "id": "zpwArPg3-sxf"
      }
    },
    {
      "cell_type": "code",
      "source": [
        "# Adding a scalar to each element\n",
        "array_plus_ten = array_1d + 10\n",
        "\n",
        "# Multiplying each element by 2\n",
        "array_times_two = array_1d * 2\n",
        "\n",
        "print(\"Array after adding 10:\", array_plus_ten)\n",
        "print(\"Array after multiplying by 2:\", array_times_two)\n"
      ],
      "metadata": {
        "colab": {
          "base_uri": "https://localhost:8080/"
        },
        "id": "obgX2BSG-tSG",
        "outputId": "0698448b-759c-48a6-9bc2-104df88413a7"
      },
      "execution_count": null,
      "outputs": [
        {
          "output_type": "stream",
          "name": "stdout",
          "text": [
            "Array after adding 10: [20 30 40 50 60]\n",
            "Array after multiplying by 2: [ 20  40  60  80 100]\n"
          ]
        }
      ]
    },
    {
      "cell_type": "markdown",
      "source": [
        "1. Print an array range between 1 to 35 and show 7 integer random numbers"
      ],
      "metadata": {
        "id": "9gsHHnlQ-16K"
      }
    },
    {
      "cell_type": "code",
      "source": [
        "import numpy as np\n",
        "rand_arr = np.random.randint(1,35,7)\n",
        "\n",
        "print(rand_arr)\n",
        "print(type(rand_arr))\n",
        "\n"
      ],
      "metadata": {
        "colab": {
          "base_uri": "https://localhost:8080/"
        },
        "id": "cTabAAvF--XB",
        "outputId": "6e31325d-dfc4-4cc5-b6cb-8722ccf6ea80"
      },
      "execution_count": null,
      "outputs": [
        {
          "output_type": "stream",
          "name": "stdout",
          "text": [
            "[27 13 29 21 13 16 31]\n",
            "<class 'numpy.ndarray'>\n"
          ]
        }
      ]
    },
    {
      "cell_type": "markdown",
      "source": [
        "**2-D Arrays**\n",
        "\n",
        "---\n",
        "* An array that has 1-D arrays as its elements is called a 2-D array.\n",
        "\n",
        "* These are often used to represent matrix or 2nd order tensors.\n",
        "\n",
        "* NumPy has a whole sub module dedicated towards matrix operations called **numpy.mat**\n",
        "\n",
        "\n",
        "---\n",
        "* A 2-D array (two-dimensional array) in NumPy is an array that has two dimensions, often visualized as **rows and columns, similar to a matrix or a table**. This structure allows you to store data in a grid format, making it suitable for representing things like matrices, image data, or tabular data.\n",
        "Key Characteristics of 2-D Arrays:\n",
        "\n",
        "* **Two Dimensions:** A 2-D array has rows and columns. The shape of the array is described by a tuple (rows, columns).\n",
        "* **Homogeneous Data Type:** All elements in a 2-D array must be of the same data type.\n",
        "* **Indexed Access:** Elements can be accessed using two indices: one for the row and one for the column."
      ],
      "metadata": {
        "id": "c-j6Qho1_qAd"
      }
    },
    {
      "cell_type": "markdown",
      "source": [
        "Create a 2-D array containing two arrays with the values 1,2,3 and 4,5,6:\n",
        "\n",
        "---\n",
        "\n"
      ],
      "metadata": {
        "id": "gqTsPFnvANxS"
      }
    },
    {
      "cell_type": "code",
      "source": [
        "import numpy as np\n",
        "\n",
        "arr = np.array([[1, 2, 3], [4, 5, 6]])\n",
        "\n",
        "print(arr)"
      ],
      "metadata": {
        "colab": {
          "base_uri": "https://localhost:8080/"
        },
        "id": "grJ6FEmEAOTt",
        "outputId": "d2a84ccb-b00a-48a4-babf-73223980d408"
      },
      "execution_count": null,
      "outputs": [
        {
          "output_type": "stream",
          "name": "stdout",
          "text": [
            "[[1 2 3]\n",
            " [4 5 6]]\n"
          ]
        }
      ]
    },
    {
      "cell_type": "code",
      "source": [
        "# Example of Creating a 2-D Array:\n",
        "import numpy as np\n",
        "\n",
        "# Creating a 2-D array (matrix)\n",
        "array_2d = np.array([[1, 2, 3], [4, 5, 6], [7, 8, 9]])\n",
        "\n",
        "print(\"2-D Array:\\n\", array_2d)\n",
        "print(\"Number of dimensions (ndim):\", array_2d.ndim)\n",
        "print(\"Shape of the array (shape):\", array_2d.shape)\n",
        "print(\"Total number of elements (size):\", array_2d.size)\n",
        "print(\"Data type of elements (dtype):\", array_2d.dtype)\n"
      ],
      "metadata": {
        "colab": {
          "base_uri": "https://localhost:8080/"
        },
        "id": "AbglzxB7CfpR",
        "outputId": "8d1510be-2025-4b2d-d506-c6c79d2f6d91"
      },
      "execution_count": null,
      "outputs": [
        {
          "output_type": "stream",
          "name": "stdout",
          "text": [
            "2-D Array:\n",
            " [[1 2 3]\n",
            " [4 5 6]\n",
            " [7 8 9]]\n",
            "Number of dimensions (ndim): 2\n",
            "Shape of the array (shape): (3, 3)\n",
            "Total number of elements (size): 9\n",
            "Data type of elements (dtype): int64\n"
          ]
        }
      ]
    },
    {
      "cell_type": "markdown",
      "source": [
        "Accessing Elements in a 2-D Array:\n",
        "\n",
        "---\n",
        "\n"
      ],
      "metadata": {
        "id": "p7x-QtQzCvWP"
      }
    },
    {
      "cell_type": "code",
      "source": [
        "# Accessing the element at row 1, column 2\n",
        "element = array_2d[1, 2]\n",
        "\n",
        "print(\"Element @ row 1 and @ column 2 is : \", element)\n",
        "\n",
        "# first row or column is indexed as 0, the second as 1, and so on."
      ],
      "metadata": {
        "colab": {
          "base_uri": "https://localhost:8080/"
        },
        "id": "FhrYpaNtCv7S",
        "outputId": "5efe999d-d140-45a6-d1d9-3df393b9308b"
      },
      "execution_count": null,
      "outputs": [
        {
          "output_type": "stream",
          "name": "stdout",
          "text": [
            "Element @ row 1 and @ column 2 is :  6\n"
          ]
        }
      ]
    },
    {
      "cell_type": "code",
      "source": [
        "import numpy as np\n",
        "# --------------------------  Accessing Row -----------------------------\n",
        "# Creating a 2-D array\n",
        "array_2d = np.array([[1, 2, 3], [4, 5, 6], [7, 8, 9]])\n",
        "print(array_2d)\n",
        "\n",
        "# Accessing the first row\n",
        "first_row = array_2d[0, :]\n",
        "\n",
        "print(\"First Row:\", first_row)\n",
        "\n",
        "# Accessing the second row (index 1)\n",
        "second_row = array_2d[1, :]\n",
        "\n",
        "print(\"Second Row:\", second_row)\n"
      ],
      "metadata": {
        "colab": {
          "base_uri": "https://localhost:8080/"
        },
        "id": "O1QnYLytDrle",
        "outputId": "b14e3870-9033-455f-cbd6-7b1b843e2dec"
      },
      "execution_count": null,
      "outputs": [
        {
          "output_type": "stream",
          "name": "stdout",
          "text": [
            "[[1 2 3]\n",
            " [4 5 6]\n",
            " [7 8 9]]\n",
            "First Row: [1 2 3]\n",
            "Second Row: [4 5 6]\n"
          ]
        }
      ]
    },
    {
      "cell_type": "code",
      "source": [
        "#--------------  Accessing Column ------------------\n",
        "\n",
        "# Accessing the third column (index 2)\n",
        "third_column = array_2d[:, 2]\n",
        "\n",
        "print(\"Third Column:\", third_column)\n"
      ],
      "metadata": {
        "colab": {
          "base_uri": "https://localhost:8080/"
        },
        "id": "OmOmxOd8EGdg",
        "outputId": "e57ed4e4-eae7-45d3-85fc-a5da93fec041"
      },
      "execution_count": null,
      "outputs": [
        {
          "output_type": "stream",
          "name": "stdout",
          "text": [
            "Third Column: [3 6 9]\n"
          ]
        }
      ]
    },
    {
      "cell_type": "markdown",
      "source": [
        "**1.How to add matrices using numpy?**"
      ],
      "metadata": {
        "id": "aL0hy_xJE4Fp"
      }
    },
    {
      "cell_type": "code",
      "source": [
        "import numpy as np\n",
        "\n",
        "# Creating two matrices (2-D arrays)\n",
        "matrix_A = np.array([[1, 2, 3], [4, 5, 6]])\n",
        "matrix_B = np.array([[7, 8, 9], [10, 11, 12]])\n",
        "\n",
        "print(\"Matrix A:\\n\", matrix_A)\n",
        "print(\"Matrix B:\\n\", matrix_B)\n",
        "\n",
        "# Adding the two matrices\n",
        "result_matrix = matrix_A + matrix_B\n",
        "\n",
        "print(\"Result of Matrix Addition:\\n\", result_matrix)\n"
      ],
      "metadata": {
        "colab": {
          "base_uri": "https://localhost:8080/"
        },
        "id": "DhrhyCrtE8E3",
        "outputId": "ebd92a7a-e2ba-4454-bd0e-93fafb3f66a3"
      },
      "execution_count": null,
      "outputs": [
        {
          "output_type": "stream",
          "name": "stdout",
          "text": [
            "Matrix A:\n",
            " [[1 2 3]\n",
            " [4 5 6]]\n",
            "Matrix B:\n",
            " [[ 7  8  9]\n",
            " [10 11 12]]\n",
            "Result of Matrix Addition:\n",
            " [[ 8 10 12]\n",
            " [14 16 18]]\n"
          ]
        }
      ]
    },
    {
      "cell_type": "markdown",
      "source": [
        "**2. How to multiply two matrices using np.multiply()**"
      ],
      "metadata": {
        "id": "Bxn3Nxo6FCm-"
      }
    },
    {
      "cell_type": "code",
      "source": [
        "# Performing element-wise multiplication\n",
        "result_matrix = np.multiply(matrix_A, matrix_B)\n",
        "\n",
        "print(\"Result of Element-Wise Multiplication:\\n\", result_matrix)\n"
      ],
      "metadata": {
        "colab": {
          "base_uri": "https://localhost:8080/"
        },
        "id": "2WE582PTFLrQ",
        "outputId": "171d2941-de37-425d-af08-b02fdf42a9ab"
      },
      "execution_count": null,
      "outputs": [
        {
          "output_type": "stream",
          "name": "stdout",
          "text": [
            "Result of Element-Wise Multiplication:\n",
            " [[ 7 16 27]\n",
            " [40 55 72]]\n"
          ]
        }
      ]
    },
    {
      "cell_type": "markdown",
      "source": [
        "**3.How to find the transpose of the matrix using numpy? use np.transpose()**"
      ],
      "metadata": {
        "id": "TOQDQZYiFYw2"
      }
    },
    {
      "cell_type": "code",
      "source": [
        "import numpy as np\n",
        "\n",
        "# Creating a matrix (2-D array)\n",
        "matrix = np.array([[1, 2, 3], [4, 5, 6]])\n",
        "\n",
        "print(\"Original Matrix:\\n\", matrix)\n"
      ],
      "metadata": {
        "colab": {
          "base_uri": "https://localhost:8080/"
        },
        "id": "M_d-cnQXFiVW",
        "outputId": "ed0ffd7b-2fbc-4876-a5ce-f97f667d0517"
      },
      "execution_count": null,
      "outputs": [
        {
          "output_type": "stream",
          "name": "stdout",
          "text": [
            "Original Matrix:\n",
            " [[1 2 3]\n",
            " [4 5 6]]\n"
          ]
        }
      ]
    },
    {
      "cell_type": "code",
      "source": [
        "# Finding the transpose of the matrix\n",
        "transposed_matrix = np.transpose(matrix)\n",
        "\n",
        "print(\"Transposed Matrix:\\n\", transposed_matrix)\n"
      ],
      "metadata": {
        "colab": {
          "base_uri": "https://localhost:8080/"
        },
        "id": "mnLrkbyNFldP",
        "outputId": "5d5948ef-6f85-4103-8f57-c7afb1ee48d5"
      },
      "execution_count": null,
      "outputs": [
        {
          "output_type": "stream",
          "name": "stdout",
          "text": [
            "Transposed Matrix:\n",
            " [[1 4]\n",
            " [2 5]\n",
            " [3 6]]\n"
          ]
        }
      ]
    },
    {
      "cell_type": "code",
      "source": [
        "# Finding the transpose of the matrix using the .T attribute\n",
        "transposed_matrix = matrix.T\n",
        "\n",
        "print(\"Transposed Matrix (using .T attribute):\\n\", transposed_matrix)\n"
      ],
      "metadata": {
        "colab": {
          "base_uri": "https://localhost:8080/"
        },
        "id": "qgF-7SolFqZi",
        "outputId": "2acb1f50-b384-4177-a223-8428c94fb567"
      },
      "execution_count": null,
      "outputs": [
        {
          "output_type": "stream",
          "name": "stdout",
          "text": [
            "Transposed Matrix (using .T attribute):\n",
            " [[1 4]\n",
            " [2 5]\n",
            " [3 6]]\n"
          ]
        }
      ]
    },
    {
      "cell_type": "markdown",
      "source": [
        "**3-D arrays**\n",
        "\n",
        "---\n",
        "* An array that has 2-D arrays (matrices) as its elements is called 3-D array.\n",
        "\n",
        "* These are often used to represent a 3rd order tensor.\n",
        "\n",
        "\n",
        "---\n",
        "* A 3-D array in NumPy is an array with three dimensions, which can be visualized as a stack of 2-D matrices or grids. It is essentially a collection of matrices, where each matrix represents a \"layer\" in the 3-D structure. This type of array is useful for handling more complex data, such as images with multiple color channels or datasets with multiple features.\n",
        "\n"
      ],
      "metadata": {
        "id": "AY1RtQAuFyeN"
      }
    },
    {
      "cell_type": "markdown",
      "source": [
        "Create a 3-D array with two 2-D arrays, both containing two arrays with the values 1,2,3 and 4,5,6:"
      ],
      "metadata": {
        "id": "ksfCsNSMJHVR"
      }
    },
    {
      "cell_type": "code",
      "source": [
        "import numpy as np\n",
        "\n",
        "arr = np.array([[[1, 2, 3], [4, 5, 6]], [[1, 2, 3], [4, 5, 6]]])\n",
        "\n",
        "print(arr)"
      ],
      "metadata": {
        "colab": {
          "base_uri": "https://localhost:8080/"
        },
        "id": "aq7PvQFKJIBb",
        "outputId": "84285bf3-ea89-4709-e674-f27afc35ac37"
      },
      "execution_count": null,
      "outputs": [
        {
          "output_type": "stream",
          "name": "stdout",
          "text": [
            "[[[1 2 3]\n",
            "  [4 5 6]]\n",
            "\n",
            " [[1 2 3]\n",
            "  [4 5 6]]]\n"
          ]
        }
      ]
    },
    {
      "cell_type": "code",
      "source": [
        "import numpy as np\n",
        "\n",
        "# Creating a 3-D array\n",
        "array_3d = np.array([[[1, 2, 3], [4, 5, 6]],\n",
        "                     [[7, 8, 9], [10, 11, 12]],\n",
        "                     [[13, 14, 15], [16, 17, 18]]])\n",
        "\n",
        "print(\"3-D Array:\\n\", array_3d)\n"
      ],
      "metadata": {
        "colab": {
          "base_uri": "https://localhost:8080/"
        },
        "id": "Zj40YkbHJRf7",
        "outputId": "208d55c8-a08b-4fdb-9834-9862fcf1834d"
      },
      "execution_count": null,
      "outputs": [
        {
          "output_type": "stream",
          "name": "stdout",
          "text": [
            "3-D Array:\n",
            " [[[ 1  2  3]\n",
            "  [ 4  5  6]]\n",
            "\n",
            " [[ 7  8  9]\n",
            "  [10 11 12]]\n",
            "\n",
            " [[13 14 15]\n",
            "  [16 17 18]]]\n"
          ]
        }
      ]
    },
    {
      "cell_type": "markdown",
      "source": [
        "**Accessing Elements in a 3-D Array:**\n",
        "\n",
        "---\n",
        "\n"
      ],
      "metadata": {
        "id": "LbKRQ0m7JVFB"
      }
    },
    {
      "cell_type": "markdown",
      "source": [
        "You can access elements in a 3-D array using three indices:**[depth, row, column].**"
      ],
      "metadata": {
        "id": "26_rdC82JY4R"
      }
    },
    {
      "cell_type": "code",
      "source": [
        "# Accessing an element in the 3-D array\n",
        "element = array_3d[1, 0, 2]  # Accessing the element at depth 1, row 0, column 2\n",
        "\n",
        "print(\"Element at depth 1, row 0, column 2:\", element)\n"
      ],
      "metadata": {
        "colab": {
          "base_uri": "https://localhost:8080/"
        },
        "id": "pt3Xbi5SJWJJ",
        "outputId": "b76d0dde-1be3-4440-c544-8c9b608f8ba7"
      },
      "execution_count": null,
      "outputs": [
        {
          "output_type": "stream",
          "name": "stdout",
          "text": [
            "Element at depth 1, row 0, column 2: 9\n"
          ]
        }
      ]
    },
    {
      "cell_type": "markdown",
      "source": [
        "**Accessing a Specific Matrix (2-D Slice) in the 3-D Array:**"
      ],
      "metadata": {
        "id": "wmmR_yP6Js6I"
      }
    },
    {
      "cell_type": "code",
      "source": [
        "# Accessing a 2-D matrix (depth slice) from the 3-D array\n",
        "matrix_at_depth_1 = array_3d[1]\n",
        "\n",
        "print(\"2-D Matrix at depth 1:\\n\", matrix_at_depth_1)\n"
      ],
      "metadata": {
        "colab": {
          "base_uri": "https://localhost:8080/"
        },
        "id": "jICdPOfbJuUP",
        "outputId": "f2ab3030-0e9d-4109-9d8c-bb60662f8a3f"
      },
      "execution_count": null,
      "outputs": [
        {
          "output_type": "stream",
          "name": "stdout",
          "text": [
            "2-D Matrix at depth 1:\n",
            " [[ 7  8  9]\n",
            " [10 11 12]]\n"
          ]
        }
      ]
    },
    {
      "cell_type": "markdown",
      "source": [
        "**Slicing a 3-D Array:**"
      ],
      "metadata": {
        "id": "pNp36-lQJx2Q"
      }
    },
    {
      "cell_type": "code",
      "source": [
        "# Slicing the 3-D array to get a sub-array\n",
        "sub_array = array_3d[:2, 1:, :2]  # Slicing the first two matrices, rows from index 1, and columns up to index 2\n",
        "\n",
        "print(\"Sliced 3-D Array:\\n\", sub_array)\n"
      ],
      "metadata": {
        "colab": {
          "base_uri": "https://localhost:8080/"
        },
        "id": "NjjLR1XIJ0w5",
        "outputId": "c38074ca-95ce-4d02-aa00-f72079601ab8"
      },
      "execution_count": null,
      "outputs": [
        {
          "output_type": "stream",
          "name": "stdout",
          "text": [
            "Sliced 3-D Array:\n",
            " [[[ 4  5]]\n",
            "\n",
            " [[10 11]]]\n"
          ]
        }
      ]
    },
    {
      "cell_type": "markdown",
      "source": [
        "**Check Number of Dimensions?**"
      ],
      "metadata": {
        "id": "9Dycj5D1KDJM"
      }
    },
    {
      "cell_type": "code",
      "source": [
        "import numpy as np\n",
        "\n",
        "a = np.array(42)\n",
        "b = np.array([1, 2, 3, 4, 5])\n",
        "c = np.array([[1, 2, 3], [4, 5, 6]])\n",
        "d = np.array([[[1, 2, 3], [4, 5, 6]], [[1, 2, 3], [4, 5, 6]]])\n",
        "\n",
        "print(a.ndim)\n",
        "print(b.ndim)\n",
        "print(c.ndim)\n",
        "print(d.ndim)"
      ],
      "metadata": {
        "colab": {
          "base_uri": "https://localhost:8080/"
        },
        "id": "9S7kgsYGKEPP",
        "outputId": "f0daf60d-0449-4eab-bc69-866239785dce"
      },
      "execution_count": null,
      "outputs": [
        {
          "output_type": "stream",
          "name": "stdout",
          "text": [
            "0\n",
            "1\n",
            "2\n",
            "3\n"
          ]
        }
      ]
    },
    {
      "cell_type": "markdown",
      "source": [
        "Higher Dimensional Arrays\n",
        "\n",
        "---\n",
        "* An array can have any number of dimensions.\n",
        "\n",
        "* When the array is created, you can define the number of dimensions by using the ndmin argument.\n",
        "\n"
      ],
      "metadata": {
        "id": "MuoMRynyKJjC"
      }
    },
    {
      "cell_type": "code",
      "source": [
        "import numpy as np\n",
        "\n",
        "arr = np.array([1, 2, 3, 4], ndmin=5)\n",
        "\n",
        "print(arr)\n",
        "print('number of dimensions :', arr.ndim)"
      ],
      "metadata": {
        "colab": {
          "base_uri": "https://localhost:8080/"
        },
        "id": "39G5vpsaKOxP",
        "outputId": "408bc429-7741-41cd-b4e4-23fa840a62c1"
      },
      "execution_count": null,
      "outputs": [
        {
          "output_type": "stream",
          "name": "stdout",
          "text": [
            "[[[[[1 2 3 4]]]]]\n",
            "number of dimensions : 5\n"
          ]
        }
      ]
    },
    {
      "cell_type": "markdown",
      "source": [
        "In this array the innermost dimension (5th dim) has 4 elements, the 4th dim has 1 element that is the vector, the 3rd dim has 1 element that is the matrix with the vector, the 2nd dim has 1 element that is 3D array and 1st dim has 1 element that is a 4D array."
      ],
      "metadata": {
        "id": "SdR2eb7WKT6r"
      }
    },
    {
      "cell_type": "markdown",
      "source": [
        "**arange()**\n",
        "\n",
        "---\n",
        "* Returns an array with evenly spaced elements as per the interval. The interval mentioned is half-opened\n",
        "* [Start,stop),\n",
        "* Start Stop Step\n"
      ],
      "metadata": {
        "id": "N39OC8vcKWBv"
      }
    },
    {
      "cell_type": "code",
      "source": [
        "import numpy as np\n",
        "array=np.arange(start=0,stop=10,step=1)\n",
        "array1=np.arange(0,10,1)\n",
        "print(array)\n",
        "print(array1)"
      ],
      "metadata": {
        "colab": {
          "base_uri": "https://localhost:8080/"
        },
        "id": "sE0YGlhZK85v",
        "outputId": "18726860-0324-48c0-a904-cec1dfce33d6"
      },
      "execution_count": null,
      "outputs": [
        {
          "output_type": "stream",
          "name": "stdout",
          "text": [
            "[0 1 2 3 4 5 6 7 8 9]\n",
            "[0 1 2 3 4 5 6 7 8 9]\n"
          ]
        }
      ]
    },
    {
      "cell_type": "markdown",
      "source": [
        "1. Write a program to create 3x3 matrix with values ranging from 2 to 10."
      ],
      "metadata": {
        "id": "zcWgrgJLNAjw"
      }
    },
    {
      "cell_type": "code",
      "source": [
        "import numpy as np\n",
        "\n",
        "# Creating a 3x3 matrix with values ranging from 2 to 10\n",
        "# And reshaping it to 3x3 matrix\n",
        "\n",
        "x= np.arange(2, 11).reshape(3,3)\n",
        "print(x)\n",
        "\n",
        "print(\"-----------------------\")\n",
        "first =np.arange(2,11)\n",
        "print(first)\n",
        "print(\"-----------------------\")\n",
        "\n",
        "second=first.reshape(3,3)\n",
        "print(second)\n",
        "print(second.ndim)"
      ],
      "metadata": {
        "colab": {
          "base_uri": "https://localhost:8080/"
        },
        "id": "ED-11fztNJhz",
        "outputId": "cb4cc02b-2430-41cb-d881-200cc908e744"
      },
      "execution_count": null,
      "outputs": [
        {
          "output_type": "stream",
          "name": "stdout",
          "text": [
            "[[ 2  3  4]\n",
            " [ 5  6  7]\n",
            " [ 8  9 10]]\n",
            "-----------------------\n",
            "[ 2  3  4  5  6  7  8  9 10]\n",
            "-----------------------\n",
            "[[ 2  3  4]\n",
            " [ 5  6  7]\n",
            " [ 8  9 10]]\n",
            "2\n"
          ]
        }
      ]
    },
    {
      "cell_type": "markdown",
      "source": [
        "2. How do you create an array with all values as zeros and ones\n",
        "* use np.zeros()\n",
        "* use np.ones()"
      ],
      "metadata": {
        "id": "yA-AQ-HzN8Qt"
      }
    },
    {
      "cell_type": "code",
      "source": [
        "# np.zeros(shape, dtype=float, order='C')\n"
      ],
      "metadata": {
        "id": "UO_Gt9VjOUdT"
      },
      "execution_count": null,
      "outputs": []
    },
    {
      "cell_type": "code",
      "source": [
        "import numpy as np\n",
        "\n",
        "# Creating a 1-D array of zeros with 5 elements\n",
        "array_1d_zeros = np.zeros(5)\n",
        "print(\"1-D Array of Zeros:\\n\", array_1d_zeros)\n",
        "\n",
        "# Creating a 2-D array of zeros with shape (3, 4)\n",
        "array_2d_zeros = np.zeros((3, 4))\n",
        "print(\"2-D Array of Zeros:\\n\", array_2d_zeros)\n",
        "\n",
        "# Creating a 3-D array of zeros with shape (2, 3, 4)\n",
        "array_3d_zeros = np.zeros((2, 3, 4))\n",
        "print(\"3-D Array of Zeros:\\n\", array_3d_zeros)\n"
      ],
      "metadata": {
        "colab": {
          "base_uri": "https://localhost:8080/"
        },
        "id": "75B6-f-COH82",
        "outputId": "8943aea8-7217-4928-cfcf-6fa9d382b921"
      },
      "execution_count": null,
      "outputs": [
        {
          "output_type": "stream",
          "name": "stdout",
          "text": [
            "1-D Array of Zeros:\n",
            " [0. 0. 0. 0. 0.]\n",
            "2-D Array of Zeros:\n",
            " [[0. 0. 0. 0.]\n",
            " [0. 0. 0. 0.]\n",
            " [0. 0. 0. 0.]]\n",
            "3-D Array of Zeros:\n",
            " [[[0. 0. 0. 0.]\n",
            "  [0. 0. 0. 0.]\n",
            "  [0. 0. 0. 0.]]\n",
            "\n",
            " [[0. 0. 0. 0.]\n",
            "  [0. 0. 0. 0.]\n",
            "  [0. 0. 0. 0.]]]\n"
          ]
        }
      ]
    },
    {
      "cell_type": "code",
      "source": [
        "import numpy as np\n",
        "\n",
        "# Creating a 1-D array of ones with 5 elements\n",
        "array_1d_ones = np.ones(5)\n",
        "print(\"1-D Array of Ones:\\n\", array_1d_ones)\n",
        "\n",
        "# Creating a 2-D array of ones with shape (3, 4)\n",
        "array_2d_ones = np.ones((3, 4))\n",
        "print(\"2-D Array of Ones:\\n\", array_2d_ones)\n",
        "\n",
        "# Creating a 3-D array of ones with shape (2, 3, 4)\n",
        "array_3d_ones = np.ones((2, 3, 4))\n",
        "print(\"3-D Array of Ones:\\n\", array_3d_ones)\n"
      ],
      "metadata": {
        "colab": {
          "base_uri": "https://localhost:8080/"
        },
        "id": "wgZNtL3cOdi-",
        "outputId": "b2fe426f-2d9e-4097-a0c3-d84b4c829927"
      },
      "execution_count": null,
      "outputs": [
        {
          "output_type": "stream",
          "name": "stdout",
          "text": [
            "1-D Array of Ones:\n",
            " [1. 1. 1. 1. 1.]\n",
            "2-D Array of Ones:\n",
            " [[1. 1. 1. 1.]\n",
            " [1. 1. 1. 1.]\n",
            " [1. 1. 1. 1.]]\n",
            "3-D Array of Ones:\n",
            " [[[1. 1. 1. 1.]\n",
            "  [1. 1. 1. 1.]\n",
            "  [1. 1. 1. 1.]]\n",
            "\n",
            " [[1. 1. 1. 1.]\n",
            "  [1. 1. 1. 1.]\n",
            "  [1. 1. 1. 1.]]]\n"
          ]
        }
      ]
    },
    {
      "cell_type": "markdown",
      "source": [
        "* The **eye tool returns a 2-D array with  1’s as the diagonal and  0’s elsewhere**. The diagonal can be main, upper, or lower depending on the optional parameter k. **A positive k is for the upper diagonal, a negative k is for the lower, and a  0 k (default) is for the main diagonal.**"
      ],
      "metadata": {
        "id": "n_TY8ZceO5J2"
      }
    },
    {
      "cell_type": "code",
      "source": [
        "# Python Programming illustrating\n",
        "# numpy.eye method\n",
        "\n",
        "import numpy as np\n",
        "\n",
        "# 2x2 matrix with 1's on main diagonal\n",
        "b = np.eye(2, dtype = float)\n",
        "print(\"Matrix b : \\n\", b)\n",
        "print(\"-------------------------------------------\")\n",
        "\n",
        "b = np.eye(3)\n",
        "print(\"Matrix b : \\n\", b)\n",
        "print(\"-------------------------------------------\")\n",
        "\n",
        "# matrix with R=4 C=5 and 1 on diagonal\n",
        "# below main diagonal\n",
        "a = np.eye(4, 5, k = -1)\n",
        "print(\"\\nMatrix a : \\n\", a)\n"
      ],
      "metadata": {
        "colab": {
          "base_uri": "https://localhost:8080/"
        },
        "id": "BWb253YMOvqI",
        "outputId": "0cecfab9-962a-44a7-9614-cc2c28a7e3be"
      },
      "execution_count": null,
      "outputs": [
        {
          "output_type": "stream",
          "name": "stdout",
          "text": [
            "Matrix b : \n",
            " [[1. 0.]\n",
            " [0. 1.]]\n",
            "-------------------------------------------\n",
            "Matrix b : \n",
            " [[1. 0. 0.]\n",
            " [0. 1. 0.]\n",
            " [0. 0. 1.]]\n",
            "-------------------------------------------\n",
            "\n",
            "Matrix a : \n",
            " [[0. 0. 0. 0. 0.]\n",
            " [1. 0. 0. 0. 0.]\n",
            " [0. 1. 0. 0. 0.]\n",
            " [0. 0. 1. 0. 0.]]\n"
          ]
        }
      ]
    },
    {
      "cell_type": "markdown",
      "source": [
        "# NumPy Array Indexing"
      ],
      "metadata": {
        "id": "917URpp8PZ-b"
      }
    },
    {
      "cell_type": "markdown",
      "source": [
        "**Access Array Elements**\n",
        "\n",
        "* Array indexing is the same as accessing an array element.\n",
        "\n",
        "* You can access an array element by referring to its index number.\n",
        "\n",
        "* The indexes in NumPy arrays start with 0, meaning that the first element has index 0, and the second has index 1 etc."
      ],
      "metadata": {
        "id": "MbEpXyLmPbQD"
      }
    },
    {
      "cell_type": "markdown",
      "source": [
        "Get the first element from the following array:"
      ],
      "metadata": {
        "id": "r9RVYewOc3C1"
      }
    },
    {
      "cell_type": "code",
      "source": [
        "import numpy as np\n",
        "\n",
        "arr = np.array([1, 2, 3, 4])\n",
        "\n",
        "print(arr[0])"
      ],
      "metadata": {
        "colab": {
          "base_uri": "https://localhost:8080/"
        },
        "id": "bXa5rxiMc6Sg",
        "outputId": "c5d631d4-66a9-43ca-e0a6-8e29f3daea7d"
      },
      "execution_count": null,
      "outputs": [
        {
          "output_type": "stream",
          "name": "stdout",
          "text": [
            "1\n"
          ]
        }
      ]
    },
    {
      "cell_type": "markdown",
      "source": [
        "Get the second element from the following array."
      ],
      "metadata": {
        "id": "cIlR1Xmbc8i8"
      }
    },
    {
      "cell_type": "code",
      "source": [
        "import numpy as np\n",
        "\n",
        "arr = np.array([1, 2, 3, 4])\n",
        "\n",
        "print(arr[1])"
      ],
      "metadata": {
        "colab": {
          "base_uri": "https://localhost:8080/"
        },
        "id": "Z_G__W5Sc-VK",
        "outputId": "49cc1032-916b-46d9-d3a9-e7f665d45512"
      },
      "execution_count": null,
      "outputs": [
        {
          "output_type": "stream",
          "name": "stdout",
          "text": [
            "2\n"
          ]
        }
      ]
    },
    {
      "cell_type": "markdown",
      "source": [
        "Get third and fourth elements from the following array and add them."
      ],
      "metadata": {
        "id": "Selvd2kddCEw"
      }
    },
    {
      "cell_type": "code",
      "source": [
        "import numpy as np\n",
        "\n",
        "arr = np.array([1, 2, 3, 4])\n",
        "\n",
        "print(arr[2] + arr[3])"
      ],
      "metadata": {
        "colab": {
          "base_uri": "https://localhost:8080/"
        },
        "id": "lsF8e0SzdCpB",
        "outputId": "5c012b94-0e67-4bcc-bf48-7a4419cec83e"
      },
      "execution_count": null,
      "outputs": [
        {
          "output_type": "stream",
          "name": "stdout",
          "text": [
            "7\n"
          ]
        }
      ]
    },
    {
      "cell_type": "markdown",
      "source": [
        "**Access 2-D Arrays**\n",
        "\n",
        "---\n",
        "* To access elements from 2-D arrays** we can use comma separated integers representing the dimension and the index of the element.**\n",
        "\n",
        "* Think of 2-D arrays like a table with rows and columns, **where the dimension represents the row and the index represents the column.**\n"
      ],
      "metadata": {
        "id": "M9L3695fdM24"
      }
    },
    {
      "cell_type": "markdown",
      "source": [
        "Access the element on the first row, second column:"
      ],
      "metadata": {
        "id": "BAatthX_dS9J"
      }
    },
    {
      "cell_type": "code",
      "source": [
        "import numpy as np\n",
        "\n",
        "arr = np.array([[1,2,3,4,5], [6,7,8,9,10]])\n",
        "\n",
        "print('2nd element on 1st row: ', arr[0, 1])"
      ],
      "metadata": {
        "colab": {
          "base_uri": "https://localhost:8080/"
        },
        "id": "7sN_asTedfFd",
        "outputId": "ba971360-b8c8-4804-f4d4-a6f6c94b2b59"
      },
      "execution_count": null,
      "outputs": [
        {
          "output_type": "stream",
          "name": "stdout",
          "text": [
            "2nd element on 1st row:  2\n"
          ]
        }
      ]
    },
    {
      "cell_type": "markdown",
      "source": [
        "Access the element on the 2nd row, 5th column:"
      ],
      "metadata": {
        "id": "O1cQj4eIdlBw"
      }
    },
    {
      "cell_type": "code",
      "source": [
        "import numpy as np\n",
        "\n",
        "arr = np.array([[1,2,3,4,5], [6,7,8,9,10]])\n",
        "\n",
        "print('5th element on 2nd row: ', arr[1, 4])"
      ],
      "metadata": {
        "colab": {
          "base_uri": "https://localhost:8080/"
        },
        "id": "46U6xiySdlwt",
        "outputId": "edbe771c-0b15-46ca-f2b2-e36911cf1bb7"
      },
      "execution_count": null,
      "outputs": [
        {
          "output_type": "stream",
          "name": "stdout",
          "text": [
            "5th element on 2nd row:  10\n"
          ]
        }
      ]
    },
    {
      "cell_type": "markdown",
      "source": [
        "**Access 3-D Arrays**\n",
        "\n",
        "---\n",
        "* To access elements from 3-D arrays we can use comma separated integers representing the dimensions and the index of the element.\n",
        "\n"
      ],
      "metadata": {
        "id": "c1VrV2fJdpaH"
      }
    },
    {
      "cell_type": "markdown",
      "source": [
        "Access the third element of the second array of the first array:"
      ],
      "metadata": {
        "id": "aBLNzqMmejJf"
      }
    },
    {
      "cell_type": "code",
      "source": [
        "import numpy as np\n",
        "\n",
        "arr = np.array([[[1, 2, 3], [4, 5, 6]], [[7, 8, 9], [10, 11, 12]]])\n",
        "\n",
        "print(arr[0, 1, 2])"
      ],
      "metadata": {
        "colab": {
          "base_uri": "https://localhost:8080/"
        },
        "id": "-c43iSDWdrOo",
        "outputId": "bd683fd5-96f6-48cd-ce1e-8c625038bced"
      },
      "execution_count": null,
      "outputs": [
        {
          "output_type": "stream",
          "name": "stdout",
          "text": [
            "6\n"
          ]
        }
      ]
    },
    {
      "cell_type": "markdown",
      "source": [
        "**Negative Indexing**\n",
        "\n",
        "---\n",
        "\n",
        "* Use negative indexing to access an array from the end."
      ],
      "metadata": {
        "id": "1rXk6OTbe_Xi"
      }
    },
    {
      "cell_type": "code",
      "source": [
        "import numpy as np\n",
        "\n",
        "arr = np.array([[1,2,3,4,5], [6,7,8,9,10]])\n",
        "\n",
        "print('Last element from 2nd dim: ', arr[1, -1])"
      ],
      "metadata": {
        "colab": {
          "base_uri": "https://localhost:8080/"
        },
        "id": "SIjPRVLNfCw5",
        "outputId": "030e5c18-d536-45cf-e102-86f63ee7afe6"
      },
      "execution_count": null,
      "outputs": [
        {
          "output_type": "stream",
          "name": "stdout",
          "text": [
            "Last element from 2nd dim:  10\n"
          ]
        }
      ]
    },
    {
      "cell_type": "markdown",
      "source": [
        "1.Write a program to create a null vector of size 10 and update the sixth value to 11."
      ],
      "metadata": {
        "id": "nmFT2QEvgDnZ"
      }
    },
    {
      "cell_type": "code",
      "source": [
        "import numpy as np\n",
        "\n",
        "# Creating a null vector of size 10\n",
        "x= np.zeros(10)\n",
        "\n",
        "print(x)\n",
        "\n",
        "# Updating the sixth value to 11\n",
        "x[6]=11\n",
        "\n",
        "print(x)\n"
      ],
      "metadata": {
        "colab": {
          "base_uri": "https://localhost:8080/"
        },
        "id": "kJw622CAgN01",
        "outputId": "23517ec9-a413-4b56-ae23-0b4a16544e83"
      },
      "execution_count": null,
      "outputs": [
        {
          "output_type": "stream",
          "name": "stdout",
          "text": [
            "[0. 0. 0. 0. 0. 0. 0. 0. 0. 0.]\n",
            "[ 0.  0.  0.  0.  0.  0. 11.  0.  0.  0.]\n"
          ]
        }
      ]
    },
    {
      "cell_type": "markdown",
      "source": [
        "2. Create an array with values ranging from 12 to 38"
      ],
      "metadata": {
        "id": "C34sp1BfgpzE"
      }
    },
    {
      "cell_type": "code",
      "source": [
        "import numpy as np\n",
        "\n",
        "# Creating an array with values ranging from 12 to 38\n",
        "x= np.arange(12,39)\n",
        "\n",
        "print(x)"
      ],
      "metadata": {
        "colab": {
          "base_uri": "https://localhost:8080/"
        },
        "id": "i0VB5uPzgxJ1",
        "outputId": "d294a53d-478b-457f-962e-8618d0500bb2"
      },
      "execution_count": null,
      "outputs": [
        {
          "output_type": "stream",
          "name": "stdout",
          "text": [
            "[12 13 14 15 16 17 18 19 20 21 22 23 24 25 26 27 28 29 30 31 32 33 34 35\n",
            " 36 37 38]\n"
          ]
        }
      ]
    },
    {
      "cell_type": "markdown",
      "source": [
        "3. Reverse an array"
      ],
      "metadata": {
        "id": "WAIQfq54g_tO"
      }
    },
    {
      "cell_type": "code",
      "source": [
        "x = x[::-1]\n",
        "print(x)"
      ],
      "metadata": {
        "colab": {
          "base_uri": "https://localhost:8080/"
        },
        "id": "Xm0bcTLxhDtn",
        "outputId": "ea9f931c-ae64-4bc1-d2af-8093463ceae0"
      },
      "execution_count": null,
      "outputs": [
        {
          "output_type": "stream",
          "name": "stdout",
          "text": [
            "[38 37 36 35 34 33 32 31 30 29 28 27 26 25 24 23 22 21 20 19 18 17 16 15\n",
            " 14 13 12]\n"
          ]
        }
      ]
    },
    {
      "cell_type": "markdown",
      "source": [
        "# NumPy Array Slicing"
      ],
      "metadata": {
        "id": "8RIFFoG_hVs0"
      }
    },
    {
      "cell_type": "markdown",
      "source": [
        "**Slicing arrays**\n",
        "\n",
        "* Slicing in python means taking elements from one given index to another given index.\n",
        "\n",
        "* We pass slice instead of index like this: [start:end].\n",
        "\n",
        "* We can also define the step, like this: [start:end:step].\n",
        "\n",
        "* If we don't pass start its considered 0\n",
        "\n",
        "* If we don't pass end its considered length of array in that dimension\n",
        "\n",
        "* If we don't pass step its considered 1\n",
        "\n",
        "**Note: The result includes the start index, but excludes the end index.**"
      ],
      "metadata": {
        "id": "latBC0wUhXg1"
      }
    },
    {
      "cell_type": "markdown",
      "source": [
        "Slice elements from index 1 to index 5 from the following array:"
      ],
      "metadata": {
        "id": "M3hPie1bhkCu"
      }
    },
    {
      "cell_type": "code",
      "source": [
        "import numpy as np\n",
        "\n",
        "arr = np.array([1, 2, 3, 4, 5, 6, 7])\n",
        "\n",
        "print(arr[1:5])"
      ],
      "metadata": {
        "colab": {
          "base_uri": "https://localhost:8080/"
        },
        "id": "VXb7pE9Mhkpq",
        "outputId": "f43b44f9-a035-401f-fc03-d0e039d8b5ad"
      },
      "execution_count": null,
      "outputs": [
        {
          "output_type": "stream",
          "name": "stdout",
          "text": [
            "[2 3 4 5]\n"
          ]
        }
      ]
    },
    {
      "cell_type": "markdown",
      "source": [
        "Slice elements from index 4 to the end of the array:"
      ],
      "metadata": {
        "id": "wOgvt-eehyDa"
      }
    },
    {
      "cell_type": "code",
      "source": [
        "import numpy as np\n",
        "\n",
        "arr = np.array([1, 2, 3, 4, 5, 6, 7])\n",
        "\n",
        "print(arr[4:])"
      ],
      "metadata": {
        "colab": {
          "base_uri": "https://localhost:8080/"
        },
        "id": "Avupt499hync",
        "outputId": "524e11de-db07-475c-cb20-a8e40707aedc"
      },
      "execution_count": null,
      "outputs": [
        {
          "output_type": "stream",
          "name": "stdout",
          "text": [
            "[5 6 7]\n"
          ]
        }
      ]
    },
    {
      "cell_type": "markdown",
      "source": [
        "Slice elements from the beginning to index 4 (not included):"
      ],
      "metadata": {
        "id": "4IOtfUI-h_D4"
      }
    },
    {
      "cell_type": "code",
      "source": [
        "import numpy as np\n",
        "\n",
        "arr = np.array([1, 2, 3, 4, 5, 6, 7])\n",
        "\n",
        "print(arr[:4])"
      ],
      "metadata": {
        "colab": {
          "base_uri": "https://localhost:8080/"
        },
        "id": "QW--mK0lh_jE",
        "outputId": "bf736490-fdcc-4fc1-f271-40c812ca2a61"
      },
      "execution_count": null,
      "outputs": [
        {
          "output_type": "stream",
          "name": "stdout",
          "text": [
            "[1 2 3 4]\n"
          ]
        }
      ]
    },
    {
      "cell_type": "markdown",
      "source": [
        "**Negative Slicing**\n",
        "* Use the minus operator to refer to an index from the end:"
      ],
      "metadata": {
        "id": "JmliUNiaiL3S"
      }
    },
    {
      "cell_type": "code",
      "source": [
        "import numpy as np\n",
        "\n",
        "arr = np.array([1, 2, 3, 4, 5, 6, 7])\n",
        "\n",
        "print(arr[-3:-1])"
      ],
      "metadata": {
        "colab": {
          "base_uri": "https://localhost:8080/"
        },
        "id": "ywD8w7NoiOC8",
        "outputId": "cee83cf9-816d-4ad5-d65f-f9bfe8af751e"
      },
      "execution_count": null,
      "outputs": [
        {
          "output_type": "stream",
          "name": "stdout",
          "text": [
            "[5 6]\n"
          ]
        }
      ]
    },
    {
      "cell_type": "markdown",
      "source": [
        "**STEP**\n",
        "* Use the step value to determine the step of the slicing:"
      ],
      "metadata": {
        "id": "VQ442wmpiS9I"
      }
    },
    {
      "cell_type": "code",
      "source": [
        "import numpy as np\n",
        "\n",
        "arr = np.array([1, 2, 3, 4, 5, 6, 7])\n",
        "\n",
        "print(arr[1:5])"
      ],
      "metadata": {
        "colab": {
          "base_uri": "https://localhost:8080/"
        },
        "id": "fM3No0W9iU_E",
        "outputId": "050cd3b7-a970-4be5-a41a-3183ab55369c"
      },
      "execution_count": null,
      "outputs": [
        {
          "output_type": "stream",
          "name": "stdout",
          "text": [
            "[2 3 4 5]\n"
          ]
        }
      ]
    },
    {
      "cell_type": "code",
      "source": [
        "import numpy as np\n",
        "\n",
        "arr = np.array([1, 2, 3, 4, 5, 6, 7])\n",
        "\n",
        "print(arr[1:5:2])"
      ],
      "metadata": {
        "colab": {
          "base_uri": "https://localhost:8080/"
        },
        "id": "1I0KXKECi8GF",
        "outputId": "04631846-d017-4532-b104-a4bee5405cb9"
      },
      "execution_count": null,
      "outputs": [
        {
          "output_type": "stream",
          "name": "stdout",
          "text": [
            "[2 4]\n"
          ]
        }
      ]
    },
    {
      "cell_type": "code",
      "source": [
        "import numpy as np\n",
        "\n",
        "arr = np.array([12,34,54,645,76,345,56])\n",
        "\n",
        "print(arr[1:5:2])"
      ],
      "metadata": {
        "colab": {
          "base_uri": "https://localhost:8080/"
        },
        "id": "2eGHzhuZi-iS",
        "outputId": "f6f76323-f4e9-4ea3-933f-873e5f386efe"
      },
      "execution_count": null,
      "outputs": [
        {
          "output_type": "stream",
          "name": "stdout",
          "text": [
            "[ 34 645]\n"
          ]
        }
      ]
    },
    {
      "cell_type": "code",
      "source": [
        "import numpy as np\n",
        "\n",
        "arr = np.array([12,34,54,645,76,345,56])\n",
        "\n",
        "print(arr[1:5:3])"
      ],
      "metadata": {
        "colab": {
          "base_uri": "https://localhost:8080/"
        },
        "id": "tu_UGaGJjEO2",
        "outputId": "dc821417-f0cd-459b-dd01-e2735c4f821f"
      },
      "execution_count": null,
      "outputs": [
        {
          "output_type": "stream",
          "name": "stdout",
          "text": [
            "[34 76]\n"
          ]
        }
      ]
    },
    {
      "cell_type": "code",
      "source": [
        "import numpy as np\n",
        "\n",
        "arr = np.array([1, 2, 3, 4, 5, 6, 7])\n",
        "\n",
        "print(arr[::2])\n",
        "# step is 2, which means every second element is selected."
      ],
      "metadata": {
        "colab": {
          "base_uri": "https://localhost:8080/"
        },
        "id": "n9VItgHqjabG",
        "outputId": "80b67f19-0087-4929-f8d1-dcb0fa01ea6f"
      },
      "execution_count": null,
      "outputs": [
        {
          "output_type": "stream",
          "name": "stdout",
          "text": [
            "[1 3 5 7]\n"
          ]
        }
      ]
    },
    {
      "cell_type": "markdown",
      "source": [
        "**Slicing 2-D Arrays**\n",
        "\n",
        "---\n",
        "\n"
      ],
      "metadata": {
        "id": "93OZiotlmUFO"
      }
    },
    {
      "cell_type": "code",
      "source": [
        "import numpy as np\n",
        "\n",
        "arr = np.array([[1, 2, 3, 4, 5], [6, 7, 8, 9, 10]])\n",
        "\n",
        "# print(arr)\n",
        "\n",
        "# print(\"---------\")\n",
        "\n",
        "print(arr[1, 1:4])"
      ],
      "metadata": {
        "colab": {
          "base_uri": "https://localhost:8080/"
        },
        "id": "-1NasqUgmYLW",
        "outputId": "bd35c95a-bdd9-4cbc-85cf-d3c79a33ae8d"
      },
      "execution_count": null,
      "outputs": [
        {
          "output_type": "stream",
          "name": "stdout",
          "text": [
            "[7 8 9]\n"
          ]
        }
      ]
    },
    {
      "cell_type": "code",
      "source": [
        "import numpy as np\n",
        "\n",
        "arr = np.array([[1, 2, 3, 4, 5], [6, 7, 8, 9, 10]])\n",
        "\n",
        "print(arr)\n",
        "\n",
        "print(\"---------\")\n",
        "\n",
        "print(arr[0:2, 2])"
      ],
      "metadata": {
        "colab": {
          "base_uri": "https://localhost:8080/"
        },
        "id": "97Gnf6I2mfyv",
        "outputId": "ffd84f4b-2b50-437d-f9b4-56921844b139"
      },
      "execution_count": null,
      "outputs": [
        {
          "output_type": "stream",
          "name": "stdout",
          "text": [
            "[[ 1  2  3  4  5]\n",
            " [ 6  7  8  9 10]]\n",
            "---------\n",
            "[3 8]\n"
          ]
        }
      ]
    },
    {
      "cell_type": "markdown",
      "source": [
        "**From both elements, return index 2:**\n",
        "* 0:2: This is slicing notation for selecting rows. It means:\n",
        "\n",
        "   * Start at index 0 (inclusive).\n",
        "   *  End at index 2 (exclusive).\n",
        "So, this notation selects rows 0 and 1. Since there are only 2 rows, it selects both rows.\n",
        "\n",
        "* 2: This selects the column at index 2 from the selected rows.\n",
        "\n",
        "   * Therefore, arr[0:2, 2] extracts elements from the 2nd column (index 2) of the rows specified by 0:2."
      ],
      "metadata": {
        "id": "alvLBfsGnan9"
      }
    },
    {
      "cell_type": "markdown",
      "source": [
        "From both elements, slice index 1 to index 4 (not included), this will return a 2-D array:"
      ],
      "metadata": {
        "id": "Ao7KHXQlnvMJ"
      }
    },
    {
      "cell_type": "code",
      "source": [
        "import numpy as np\n",
        "\n",
        "arr = np.array([[1, 2, 3, 4, 5], [6, 7, 8, 9, 10]])\n",
        "\n",
        "print(arr[0:2, 1:4])"
      ],
      "metadata": {
        "colab": {
          "base_uri": "https://localhost:8080/"
        },
        "id": "n6ovJLFfni1v",
        "outputId": "77b1c841-e05c-49ba-dbdd-c63a4deaf2c1"
      },
      "execution_count": null,
      "outputs": [
        {
          "output_type": "stream",
          "name": "stdout",
          "text": [
            "[[2 3 4]\n",
            " [7 8 9]]\n"
          ]
        }
      ]
    },
    {
      "cell_type": "markdown",
      "source": [
        "1. Create a 2D Array with 1 on border and 0 inside."
      ],
      "metadata": {
        "id": "lzx1-2E3oQiJ"
      }
    },
    {
      "cell_type": "code",
      "source": [
        "import numpy as np\n",
        "\n",
        "\n",
        "\n",
        "# Create a 2-D array filled with zeros\n",
        "array = np.zeros((5, 5), dtype=int)\n",
        "\n",
        "# Set the border values to 1\n",
        "array[0, :] = 1          # Top border\n",
        "array[-1, :] = 1         # Bottom border\n",
        "array[:, 0] = 1          # Left border\n",
        "array[:, -1] = 1         # Right border\n",
        "\n",
        "print(array)\n"
      ],
      "metadata": {
        "colab": {
          "base_uri": "https://localhost:8080/"
        },
        "id": "ckpihWWxoXR8",
        "outputId": "6bd232fd-0fe3-4422-bfab-0571e4740c66"
      },
      "execution_count": null,
      "outputs": [
        {
          "output_type": "stream",
          "name": "stdout",
          "text": [
            "[[1 1 1 1 1]\n",
            " [1 0 0 0 1]\n",
            " [1 0 0 0 1]\n",
            " [1 0 0 0 1]\n",
            " [1 1 1 1 1]]\n"
          ]
        }
      ]
    },
    {
      "cell_type": "code",
      "source": [
        "array=np.ones((5,5),dtype=int)\n",
        "# print(array)\n",
        "array[1:-1,1:-1]=0\n",
        "print(array)"
      ],
      "metadata": {
        "colab": {
          "base_uri": "https://localhost:8080/"
        },
        "id": "iZL7h1t9on3-",
        "outputId": "c4f1eda8-a5b2-4950-cdce-705d1b1fca10"
      },
      "execution_count": null,
      "outputs": [
        {
          "output_type": "stream",
          "name": "stdout",
          "text": [
            "[[1 1 1 1 1]\n",
            " [1 0 0 0 1]\n",
            " [1 0 0 0 1]\n",
            " [1 0 0 0 1]\n",
            " [1 1 1 1 1]]\n"
          ]
        }
      ]
    },
    {
      "cell_type": "markdown",
      "source": [
        "2. Create 4x4 matrix and fill it with checkerboard pattern"
      ],
      "metadata": {
        "id": "wIRscLCepJiv"
      }
    },
    {
      "cell_type": "code",
      "source": [
        "import numpy as np\n",
        "\n",
        "# Create a 4x4 matrix filled with zeros\n",
        "x = np.zeros((4, 4), dtype=int)\n",
        "\n",
        "print(x)\n",
        "print(\"--------------------------------\")\n",
        "# Fill the matrix with checkerboard pattern\n",
        "\n",
        "x[1::2, ::2] = 1\n",
        "# 1::2 selects every second row, starting from the second row (index 1).\n",
        "# ::2 selects every second column, starting from the first column (index 0)\n",
        "print(x)\n",
        "x[::2, 1::2] = 1\n",
        "# ::2 selects every second row, starting from the first row (index 0).\n",
        "# 1::2 selects every second column, starting from the second column (index 1)\n",
        "\n",
        "print(\"===== Final Result ===== \")\n",
        "print(x)\n",
        "\n",
        "\n"
      ],
      "metadata": {
        "colab": {
          "base_uri": "https://localhost:8080/"
        },
        "id": "Cdz4b-5LtGvE",
        "outputId": "d1546e00-334c-4fe6-c281-69ae9488a425"
      },
      "execution_count": null,
      "outputs": [
        {
          "output_type": "stream",
          "name": "stdout",
          "text": [
            "[[0 0 0 0]\n",
            " [0 0 0 0]\n",
            " [0 0 0 0]\n",
            " [0 0 0 0]]\n",
            "--------------------------------\n",
            "[[0 0 0 0]\n",
            " [1 0 1 0]\n",
            " [0 0 0 0]\n",
            " [1 0 1 0]]\n",
            "===== Final Result ===== \n",
            "[[0 1 0 1]\n",
            " [1 0 1 0]\n",
            " [0 1 0 1]\n",
            " [1 0 1 0]]\n"
          ]
        }
      ]
    },
    {
      "cell_type": "markdown",
      "source": [
        "3. Get the values and indices of the elements that are bigger than 10 in a given array.\n"
      ],
      "metadata": {
        "id": "gK_G-TncweOb"
      }
    },
    {
      "cell_type": "markdown",
      "source": [
        "* nonzero() , returns the indices of the elements that are non-zero"
      ],
      "metadata": {
        "id": "N08NKQUpwsYB"
      }
    },
    {
      "cell_type": "code",
      "source": [
        "import numpy as np\n",
        "\n",
        "x = np.array([[0, 10, 20], [20, 30, 40]])\n",
        "\n",
        "print(\"Original array:\")\n",
        "print(x)\n",
        "# Filtering values bigger than 10\n",
        "print(\"Values bigger than 10 =\", x[x>10])\n",
        "# indices of elements that are bigger than 10 using np.nonzero()\n",
        "print(\"Their indices are \", np.nonzero(x > 10))"
      ],
      "metadata": {
        "colab": {
          "base_uri": "https://localhost:8080/"
        },
        "id": "WX4W5W3Owo5l",
        "outputId": "f5c8f72c-66c0-4e8c-9689-0c3674b79052"
      },
      "execution_count": null,
      "outputs": [
        {
          "output_type": "stream",
          "name": "stdout",
          "text": [
            "Original array:\n",
            "[[ 0 10 20]\n",
            " [20 30 40]]\n",
            "Values bigger than 10 = [20 20 30 40]\n",
            "Their indices are  (array([0, 1, 1, 1]), array([2, 0, 1, 2]))\n"
          ]
        }
      ]
    },
    {
      "cell_type": "markdown",
      "source": [
        "This means:\n",
        "  * 20 at index (0, 2)\n",
        "  * 20 at index (1, 0)\n",
        "  * 30 at index (1, 1)\n",
        "  * 40 at index (1, 2)"
      ],
      "metadata": {
        "id": "YA9Mj8Qlxs9b"
      }
    },
    {
      "cell_type": "markdown",
      "source": [
        "4.  Numpy program to Convert celsius into Fahrenheit"
      ],
      "metadata": {
        "id": "8ahAd3dex3_V"
      }
    },
    {
      "cell_type": "code",
      "source": [
        "import numpy as np\n",
        "print(\"values in centegrade degrees:\")\n",
        "c = np.array([0,12,45.21,34,99.91])\n",
        "\n",
        "print(c)\n",
        "print(\"Values in Fahrenheit degrees:\")\n",
        "print(np.round((9*c/5 + 32),2))\n",
        "\n"
      ],
      "metadata": {
        "colab": {
          "base_uri": "https://localhost:8080/"
        },
        "id": "5s51MxRuyGaE",
        "outputId": "020adabe-e705-4d06-8dcd-fd61c1eb9390"
      },
      "execution_count": null,
      "outputs": [
        {
          "output_type": "stream",
          "name": "stdout",
          "text": [
            "values in centegrade degrees:\n",
            "[ 0.   12.   45.21 34.   99.91]\n",
            "Values in Fahrenheit degrees:\n",
            "[ 32.    53.6  113.38  93.2  211.84]\n"
          ]
        }
      ]
    },
    {
      "cell_type": "markdown",
      "source": [
        "# NumPy Data Types"
      ],
      "metadata": {
        "id": "QMB3QVHmyetw"
      }
    },
    {
      "cell_type": "markdown",
      "source": [],
      "metadata": {
        "id": "DMrTAP_7ygPT"
      }
    }
  ]
}